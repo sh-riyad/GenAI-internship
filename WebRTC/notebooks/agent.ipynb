{
 "cells": [
  {
   "cell_type": "code",
   "execution_count": 1,
   "id": "28091376-62fc-4996-8fb5-52db24da5965",
   "metadata": {},
   "outputs": [
    {
     "name": "stdout",
     "output_type": "stream",
     "text": [
      "Note: you may need to restart the kernel to use updated packages.\n"
     ]
    },
    {
     "name": "stderr",
     "output_type": "stream",
     "text": [
      "\n",
      "[notice] A new release of pip available: 22.3 -> 25.0.1\n",
      "[notice] To update, run: C:\\Users\\saraw\\AppData\\Local\\Programs\\Python\\Python311\\python.exe -m pip install --upgrade pip\n"
     ]
    }
   ],
   "source": [
    "pip install -q langchain langgraph langchain-openai"
   ]
  },
  {
   "cell_type": "code",
   "execution_count": 16,
   "id": "c3e1d208-0496-4689-9f60-3684626c73bd",
   "metadata": {},
   "outputs": [],
   "source": [
    "from typing import TypedDict, List\n",
    "from langgraph.graph import StateGraph, END\n",
    "from langchain_core.messages import SystemMessage, HumanMessage\n",
    "from langchain_openai import ChatOpenAI\n",
    "from langchain.prompts import ChatPromptTemplate\n"
   ]
  },
  {
   "cell_type": "code",
   "execution_count": 3,
   "id": "3ae209b9-82a2-43dc-b1a7-844fe1cb2fe1",
   "metadata": {},
   "outputs": [],
   "source": [
    "import os\n",
    "from dotenv import load_dotenv\n",
    "load_dotenv()\n",
    "\n",
    "os.environ[\"OPENAI_API_KEY\"] = os.getenv(\"OPENAI_API_KEY\")\n",
    "os.environ[\"LANGCHAIN_API_KEY\"]=os.getenv(\"LANGCHAIN_API_KEY\")\n",
    "os.environ[\"LANGCHAIN_TRACING_V2\"]=os.getenv(\"LANGCHAIN_TRACING_V2\")\n",
    "os.environ[\"LANGCHAIN_PROJECT\"]=os.getenv(\"LANGCHAIN_PROJECT\")"
   ]
  },
  {
   "cell_type": "code",
   "execution_count": 4,
   "id": "0f090931-225b-42e0-9fc6-ceeb57f4697b",
   "metadata": {},
   "outputs": [],
   "source": [
    "from openai import OpenAI\n",
    "from langsmith import wrappers, traceable\n",
    "import base64\n",
    "\n",
    "# client = wrappers.wrap_openai(OpenAI())"
   ]
  },
  {
   "cell_type": "code",
   "execution_count": 5,
   "id": "0eb145d9-f2d2-4b37-94ba-2beba6a373d8",
   "metadata": {},
   "outputs": [],
   "source": [
    "from typing import TypedDict, Optional\n",
    "\n",
    "class State(TypedDict):\n",
    "    query: str\n",
    "    causes: Optional[str]\n",
    "    remedies: Optional[str]\n",
    "    resistance_info: Optional[str]\n"
   ]
  },
  {
   "cell_type": "code",
   "execution_count": 6,
   "id": "bf8b4774-ecdf-4780-95d6-ec4356cfb9b0",
   "metadata": {},
   "outputs": [],
   "source": [
    "CAUSES_PROMPT = \"\"\"You are a dermatology expert. Explain the causes of the given skin disease in detail. \n",
    "Include possible environmental, genetic, and lifestyle factors. Also mention similar diseases with overlapping causes.\n",
    "\"\"\"\n",
    "\n",
    "def Causes_node(state):\n",
    "    prompt = ChatPromptTemplate.from_template(\n",
    "        f\"{CAUSES_PROMPT}\\n\\nDisease: {{query}}\"\n",
    "    )\n",
    "    chain = prompt | ChatOpenAI(temperature=0.3)\n",
    "    causes = chain.invoke({\"query\": state[\"query\"]}).content\n",
    "    return {\"causes\": causes}\n"
   ]
  },
  {
   "cell_type": "code",
   "execution_count": 7,
   "id": "7cdb5dc1-e9f2-4b3b-9200-b3694f4fe646",
   "metadata": {},
   "outputs": [],
   "source": [
    "REMEDIES_PROMPT = \"\"\"You are a dermatologist expert. Provide effective remedies and treatment options for the given skin disease.\n",
    "Include lifestyle changes, over-the-counter treatments, and prescription medications if applicable. Mention both medical and home-based care.\n",
    "\"\"\"\n",
    "\n",
    "def Remedies_node(state):\n",
    "    prompt = ChatPromptTemplate.from_template(\n",
    "        f\"{REMEDIES_PROMPT}\\n\\nDisease: {{query}}\"\n",
    "    )\n",
    "    chain = prompt | ChatOpenAI(temperature=0.4)\n",
    "    remedies = chain.invoke({\"query\": state[\"query\"]}).content\n",
    "    return {\"remedies\": remedies}\n"
   ]
  },
  {
   "cell_type": "code",
   "execution_count": 8,
   "id": "3db9a387-a91e-4ab5-8e1d-f86a3cd7f747",
   "metadata": {},
   "outputs": [],
   "source": [
    "RESISTANCE_PROMPT = \"\"\"You are a dermatology expert. Analyze whether the given skin disease has shown resistance to common treatments.\n",
    "Include data or references to antimicrobial, steroidal, or immunologic treatment resistance where known. Also suggest alternative treatments.\n",
    "\"\"\"\n",
    "\n",
    "def ResistanceInfo_node(state):\n",
    "    prompt = ChatPromptTemplate.from_template(\n",
    "        f\"{RESISTANCE_PROMPT}\\n\\nDisease: {{query}}\"\n",
    "    )\n",
    "    chain = prompt | ChatOpenAI(temperature=0.3)\n",
    "    resistance_info = chain.invoke({\"query\": state[\"query\"]}).content\n",
    "    return {\"resistance_info\": resistance_info}\n"
   ]
  },
  {
   "cell_type": "code",
   "execution_count": 9,
   "id": "16ad7a6c-e550-4c5b-bc95-277d67515227",
   "metadata": {},
   "outputs": [],
   "source": [
    "from langgraph.graph import StateGraph, END, START\n",
    "\n",
    "graph = StateGraph(State)\n",
    "graph.add_node(\"Causes\", Causes_node)\n",
    "graph.add_node(\"Remedies\", Remedies_node)\n",
    "graph.add_node(\"ResistanceInfo\", ResistanceInfo_node)\n",
    "\n",
    "graph.add_edge(START, \"Causes\")\n",
    "graph.add_edge(START, \"Remedies\")\n",
    "graph.add_edge(START, \"ResistanceInfo\")\n",
    "\n",
    "graph.add_edge(\"Causes\", END)\n",
    "graph.add_edge(\"Remedies\", END)\n",
    "graph.add_edge(\"ResistanceInfo\", END)\n",
    "\n",
    "\n",
    "app = graph.compile()"
   ]
  },
  {
   "cell_type": "code",
   "execution_count": 11,
   "id": "1b997030-0688-403d-9428-ff5d8e41e278",
   "metadata": {},
   "outputs": [
    {
     "data": {
      "image/png": "[encoded data removed]",
      "text/plain": [
       "<IPython.core.display.Image object>"
      ]
     },
     "metadata": {},
     "output_type": "display_data"
    }
   ],
   "source": [
    "from IPython.display import display, Image\n",
    "from langchain_core.runnables.graph import MermaidDrawMethod\n",
    "\n",
    "display(\n",
    "    Image(\n",
    "        app.get_graph().draw_mermaid_png(\n",
    "            draw_method=MermaidDrawMethod.API,\n",
    "        ),\n",
    "    )\n",
    ")"
   ]
  },
  {
   "cell_type": "code",
   "execution_count": 14,
   "id": "ecd27ebc-1826-4dc4-9ca0-b6ec650509dc",
   "metadata": {},
   "outputs": [],
   "source": []
  },
  {
   "cell_type": "code",
   "execution_count": 15,
   "id": "29c3a0e1-72dd-490c-8ec2-be1030303eb4",
   "metadata": {},
   "outputs": [],
   "source": [
    "initial_state = {\n",
    "    \"query\": \"vasculitis\",\n",
    "}\n",
    "\n",
    "result = app.invoke(initial_state)\n"
   ]
  },
  {
   "cell_type": "code",
   "execution_count": 17,
   "id": "4ca5a354-c91c-4f6f-b9a4-8390633dd61f",
   "metadata": {},
   "outputs": [
    {
     "data": {
      "text/plain": [
       "{'query': 'vasculitis',\n",
       " 'causes': 'Vasculitis is a group of rare diseases that involve inflammation of the blood vessels, leading to restricted blood flow and damage to tissues and organs. The exact cause of vasculitis is not fully understood, but it is believed to be a result of the immune system mistakenly attacking the blood vessels. \\n\\nThere are several potential factors that can contribute to the development of vasculitis. Environmental factors such as exposure to certain chemicals, infections, or medications can trigger an immune response that leads to inflammation of the blood vessels. Genetic factors may also play a role, as some individuals may have a genetic predisposition to developing vasculitis. \\n\\nLifestyle factors such as smoking, obesity, and a diet high in processed foods and sugar can also contribute to inflammation in the body, potentially increasing the risk of developing vasculitis. \\n\\nThere are several types of vasculitis, each affecting different sizes and types of blood vessels. Some similar diseases that share overlapping causes with vasculitis include rheumatoid arthritis, lupus, and granulomatosis with polyangiitis. These diseases also involve inflammation of the blood vessels and are believed to be caused by a combination of genetic, environmental, and lifestyle factors. \\n\\nOverall, the causes of vasculitis are complex and multifactorial, involving a combination of genetic predisposition, environmental triggers, and lifestyle factors. It is important for individuals with vasculitis to work closely with their healthcare providers to identify and address potential triggers and manage their condition effectively.',\n",
       " 'remedies': 'Vasculitis is a condition that causes inflammation of the blood vessels, leading to skin rashes, ulcers, and other skin problems. Treatment for vasculitis depends on the severity of the condition and the underlying cause. Here are some effective remedies and treatment options for vasculitis:\\n\\n1. Lifestyle changes:\\n- Avoid triggers that may worsen vasculitis, such as certain medications, infections, or exposure to cold temperatures.\\n- Maintain a healthy diet rich in fruits, vegetables, and whole grains to support overall skin health.\\n- Stay hydrated and avoid smoking, as these can aggravate inflammation in the blood vessels.\\n\\n2. Over-the-counter treatments:\\n- Topical corticosteroids can help reduce inflammation and itching associated with skin rashes caused by vasculitis.\\n- Antihistamines can help relieve itching and discomfort.\\n\\n3. Prescription medications:\\n- Corticosteroids such as prednisone are often prescribed to reduce inflammation in the blood vessels.\\n- Immunosuppressants like methotrexate or azathioprine may be prescribed for more severe cases of vasculitis.\\n- Biologic drugs like rituximab may be used in cases of refractory vasculitis.\\n\\n4. Medical procedures:\\n- In severe cases of vasculitis, plasmapheresis may be recommended to remove antibodies from the blood that are causing inflammation.\\n- Skin grafts or other surgical interventions may be necessary for skin ulcers caused by vasculitis.\\n\\n5. Home-based care:\\n- Keep the affected skin clean and moisturized to prevent infection and promote healing.\\n- Apply cold compresses to reduce inflammation and discomfort.\\n- Avoid scratching or picking at skin lesions to prevent further damage.\\n\\nIt is important to consult with a dermatologist or rheumatologist for proper diagnosis and treatment of vasculitis. They can provide personalized treatment options based on the severity and underlying cause of the condition.',\n",
       " 'resistance_info': 'Vasculitis is a condition characterized by inflammation of the blood vessels, which can affect the skin and other organs. The treatment of vasculitis typically involves a combination of corticosteroids, immunosuppressants, and other medications to reduce inflammation and manage symptoms.\\n\\nIn some cases, vasculitis may show resistance to common treatments, particularly in cases of severe or refractory disease. Resistance to corticosteroids and immunosuppressants can occur, leading to persistent inflammation and symptoms.\\n\\nIn cases of treatment-resistant vasculitis, alternative treatments may be considered. These may include:\\n\\n1. Biologic therapies: Biologic agents such as rituximab or tocilizumab may be used in cases of severe or refractory vasculitis to target specific pathways involved in inflammation.\\n\\n2. Plasma exchange: Plasma exchange, also known as plasmapheresis, may be used in certain types of vasculitis to remove antibodies and other inflammatory factors from the blood.\\n\\n3. Intravenous immunoglobulin (IVIG): IVIG may be used in some cases of vasculitis to modulate the immune response and reduce inflammation.\\n\\n4. Topical treatments: In cases of cutaneous vasculitis, topical corticosteroids or calcineurin inhibitors may be used to reduce inflammation and improve skin symptoms.\\n\\nIt is important for patients with vasculitis to work closely with their dermatologist and rheumatologist to develop a personalized treatment plan that addresses their specific symptoms and disease severity. Monitoring for treatment response and adjusting therapy as needed is crucial in managing vasculitis effectively.'}"
      ]
     },
     "execution_count": 17,
     "metadata": {},
     "output_type": "execute_result"
    }
   ],
   "source": [
    "result"
   ]
  },
  {
   "cell_type": "code",
   "execution_count": null,
   "id": "ddd32ad3-af23-4819-a131-302513b89763",
   "metadata": {},
   "outputs": [],
   "source": []
  }
 ],
 "metadata": {
  "kernelspec": {
   "display_name": "Python 3 (ipykernel)",
   "language": "python",
   "name": "python3"
  },
  "language_info": {
   "codemirror_mode": {
    "name": "ipython",
    "version": 3
   },
   "file_extension": ".py",
   "mimetype": "text/x-python",
   "name": "python",
   "nbconvert_exporter": "python",
   "pygments_lexer": "ipython3",
   "version": "3.11.0"
  }
 },
 "nbformat": 4,
 "nbformat_minor": 5
}
