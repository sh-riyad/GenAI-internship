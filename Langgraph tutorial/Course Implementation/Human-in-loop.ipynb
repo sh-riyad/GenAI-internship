{
 "cells": [
  {
   "cell_type": "code",
   "execution_count": 1,
   "id": "bdc56596-80a8-4fc0-9d09-981ac7a52115",
   "metadata": {},
   "outputs": [],
   "source": [
    "from dotenv import load_dotenv\n",
    "\n",
    "_ = load_dotenv()"
   ]
  },
  {
   "cell_type": "code",
   "execution_count": 2,
   "id": "a333877c-8898-427e-a553-0837543768d4",
   "metadata": {},
   "outputs": [],
   "source": [
    "from langgraph.graph import StateGraph, END\n",
    "from typing import TypedDict, Annotated\n",
    "import operator\n",
    "from langchain_core.messages import AnyMessage, SystemMessage, HumanMessage, ToolMessage\n",
    "from langchain_openai import ChatOpenAI\n",
    "from langchain_community.tools.tavily_search import TavilySearchResults\n",
    "\n",
    "from langgraph.checkpoint.sqlite import SqliteSaver\n",
    "import sqlite3\n",
    "\n",
    "conn = sqlite3.connect(\":memory:\", check_same_thread=False)\n",
    "memory = SqliteSaver(conn)"
   ]
  },
  {
   "cell_type": "code",
   "execution_count": 3,
   "id": "344f8978-1880-4747-a152-2ca99719805f",
   "metadata": {},
   "outputs": [],
   "source": [
    "from uuid import uuid4\n",
    "from langchain_core.messages import AnyMessage, SystemMessage, HumanMessage, AIMessage\n",
    "\n",
    "\"\"\"\n",
    "In previous examples we've annotated the `messages` state key\n",
    "with the default `operator.add` or `+` reducer, which always\n",
    "appends new messages to the end of the existing messages array.\n",
    "\n",
    "Now, to support replacing existing messages, we annotate the\n",
    "`messages` key with a customer reducer function, which replaces\n",
    "messages with the same `id`, and appends them otherwise.\n",
    "\"\"\"\n",
    "def reduce_messages(left: list[AnyMessage], right: list[AnyMessage]) -> list[AnyMessage]:\n",
    "    # assign ids to messages that don't have them\n",
    "    for message in right:\n",
    "        if not message.id:\n",
    "            message.id = str(uuid4())\n",
    "    # merge the new messages with the existing messages\n",
    "    merged = left.copy()\n",
    "    for message in right:\n",
    "        for i, existing in enumerate(merged):\n",
    "            # replace any existing messages with the same id\n",
    "            if existing.id == message.id:\n",
    "                merged[i] = message\n",
    "                break\n",
    "        else:\n",
    "            # append any new messages to the end\n",
    "            merged.append(message)\n",
    "    return merged\n",
    "\n",
    "class AgentState(TypedDict):\n",
    "    messages: Annotated[list[AnyMessage], reduce_messages]"
   ]
  },
  {
   "cell_type": "code",
   "execution_count": 4,
   "id": "2e6470d5-e08b-4a3a-ad57-f138db0505a6",
   "metadata": {},
   "outputs": [],
   "source": [
    "tool = TavilySearchResults(max_results=2)"
   ]
  },
  {
   "cell_type": "markdown",
   "id": "4fa30f5b-68dc-4e43-80fa-2e707532b1c8",
   "metadata": {},
   "source": [
    "# Manual Human approval"
   ]
  },
  {
   "cell_type": "code",
   "execution_count": 5,
   "id": "93904827-aa57-4aef-8133-a71c3cd79f6d",
   "metadata": {},
   "outputs": [],
   "source": [
    "class Agent:\n",
    "    def __init__(self, model, tools, system=\"\", checkpointer=None):\n",
    "        self.system = system\n",
    "        graph = StateGraph(AgentState)\n",
    "        graph.add_node(\"llm\", self.call_openai)\n",
    "        graph.add_node(\"action\", self.take_action)\n",
    "        graph.add_conditional_edges(\"llm\", self.exists_action, {True: \"action\", False: END})\n",
    "        graph.add_edge(\"action\", \"llm\")\n",
    "        graph.set_entry_point(\"llm\")\n",
    "        self.graph = graph.compile(\n",
    "            checkpointer=checkpointer,\n",
    "            interrupt_before=[\"action\"] # add a pause\n",
    "        )\n",
    "        self.tools = {t.name: t for t in tools}\n",
    "        self.model = model.bind_tools(tools)\n",
    "\n",
    "    def call_openai(self, state: AgentState):\n",
    "        messages = state['messages']\n",
    "        if self.system:\n",
    "            messages = [SystemMessage(content=self.system)] + messages\n",
    "        message = self.model.invoke(messages)\n",
    "        return {'messages': [message]}\n",
    "\n",
    "    def exists_action(self, state: AgentState):\n",
    "        print(state)\n",
    "        result = state['messages'][-1]\n",
    "        return len(result.tool_calls) > 0\n",
    "\n",
    "    def take_action(self, state: AgentState):\n",
    "        tool_calls = state['messages'][-1].tool_calls\n",
    "        results = []\n",
    "        for t in tool_calls:\n",
    "            print(f\"Calling: {t}\")\n",
    "            result = self.tools[t['name']].invoke(t['args'])\n",
    "            results.append(ToolMessage(tool_call_id=t['id'], name=t['name'], content=str(result)))\n",
    "        print(\"Back to the model!\")\n",
    "        return {'messages': results}"
   ]
  },
  {
   "cell_type": "code",
   "execution_count": 6,
   "id": "fcb4c263-01b9-420f-83cb-cbb3cdd67aeb",
   "metadata": {},
   "outputs": [],
   "source": [
    "prompt = \"\"\"You are a smart research assistant. Use the search engine to look up information. \\\n",
    "You are allowed to make multiple calls (either together or in sequence). \\\n",
    "Only look up information when you are sure of what you want. \\\n",
    "If you need to look up some information before asking a follow up question, you are allowed to do that!\n",
    "\"\"\"\n",
    "model = ChatOpenAI(model=\"gpt-4o\")\n",
    "abot = Agent(model, [tool], system=prompt, checkpointer=memory)"
   ]
  },
  {
   "cell_type": "code",
   "execution_count": 7,
   "id": "61649e21-fc14-4fee-a1f6-8e32fa10a998",
   "metadata": {},
   "outputs": [
    {
     "name": "stdout",
     "output_type": "stream",
     "text": [
      "{'messages': [HumanMessage(content='Whats the weather in SF?', additional_kwargs={}, response_metadata={}, id='b21bc53d-e678-444f-8b6b-0c9ec86ef49f'), AIMessage(content='', additional_kwargs={'tool_calls': [{'id': 'call_nTZeUr1vf35i24z8K2ZKq6o0', 'function': {'arguments': '{\"query\":\"San Francisco current weather October 2023\"}', 'name': 'tavily_search_results_json'}, 'type': 'function'}], 'refusal': None}, response_metadata={'token_usage': {'completion_tokens': 26, 'prompt_tokens': 150, 'total_tokens': 176, 'completion_tokens_details': {'accepted_prediction_tokens': 0, 'audio_tokens': 0, 'reasoning_tokens': 0, 'rejected_prediction_tokens': 0}, 'prompt_tokens_details': {'audio_tokens': 0, 'cached_tokens': 0}}, 'model_name': 'gpt-4o-2024-08-06', 'system_fingerprint': 'fp_f9f4fb6dbf', 'finish_reason': 'tool_calls', 'logprobs': None}, id='run-725cc110-c1a3-4853-b123-30bdce4812ae-0', tool_calls=[{'name': 'tavily_search_results_json', 'args': {'query': 'San Francisco current weather October 2023'}, 'id': 'call_nTZeUr1vf35i24z8K2ZKq6o0', 'type': 'tool_call'}], usage_metadata={'input_tokens': 150, 'output_tokens': 26, 'total_tokens': 176, 'input_token_details': {'audio': 0, 'cache_read': 0}, 'output_token_details': {'audio': 0, 'reasoning': 0}})]}\n",
      "{'messages': [AIMessage(content='', additional_kwargs={'tool_calls': [{'id': 'call_nTZeUr1vf35i24z8K2ZKq6o0', 'function': {'arguments': '{\"query\":\"San Francisco current weather October 2023\"}', 'name': 'tavily_search_results_json'}, 'type': 'function'}], 'refusal': None}, response_metadata={'token_usage': {'completion_tokens': 26, 'prompt_tokens': 150, 'total_tokens': 176, 'completion_tokens_details': {'accepted_prediction_tokens': 0, 'audio_tokens': 0, 'reasoning_tokens': 0, 'rejected_prediction_tokens': 0}, 'prompt_tokens_details': {'audio_tokens': 0, 'cached_tokens': 0}}, 'model_name': 'gpt-4o-2024-08-06', 'system_fingerprint': 'fp_f9f4fb6dbf', 'finish_reason': 'tool_calls', 'logprobs': None}, id='run-725cc110-c1a3-4853-b123-30bdce4812ae-0', tool_calls=[{'name': 'tavily_search_results_json', 'args': {'query': 'San Francisco current weather October 2023'}, 'id': 'call_nTZeUr1vf35i24z8K2ZKq6o0', 'type': 'tool_call'}], usage_metadata={'input_tokens': 150, 'output_tokens': 26, 'total_tokens': 176, 'input_token_details': {'audio': 0, 'cache_read': 0}, 'output_token_details': {'audio': 0, 'reasoning': 0}})]}\n",
      "()\n"
     ]
    }
   ],
   "source": [
    "messages = [HumanMessage(content=\"Whats the weather in SF?\")]\n",
    "\n",
    "thread = {\"configurable\": {\"thread_id\": \"1\"}}\n",
    "\n",
    "for event in abot.graph.stream({\"messages\": messages}, thread):\n",
    "    for v in event.values():\n",
    "        print(v)"
   ]
  },
  {
   "cell_type": "code",
   "execution_count": 8,
   "id": "fd585695-0370-4108-90ef-773ddcc46e45",
   "metadata": {},
   "outputs": [
    {
     "data": {
      "text/plain": [
       "StateSnapshot(values={'messages': [HumanMessage(content='Whats the weather in SF?', additional_kwargs={}, response_metadata={}, id='b21bc53d-e678-444f-8b6b-0c9ec86ef49f'), AIMessage(content='', additional_kwargs={'tool_calls': [{'id': 'call_nTZeUr1vf35i24z8K2ZKq6o0', 'function': {'arguments': '{\"query\":\"San Francisco current weather October 2023\"}', 'name': 'tavily_search_results_json'}, 'type': 'function'}], 'refusal': None}, response_metadata={'token_usage': {'completion_tokens': 26, 'prompt_tokens': 150, 'total_tokens': 176, 'completion_tokens_details': {'accepted_prediction_tokens': 0, 'audio_tokens': 0, 'reasoning_tokens': 0, 'rejected_prediction_tokens': 0}, 'prompt_tokens_details': {'audio_tokens': 0, 'cached_tokens': 0}}, 'model_name': 'gpt-4o-2024-08-06', 'system_fingerprint': 'fp_f9f4fb6dbf', 'finish_reason': 'tool_calls', 'logprobs': None}, id='run-725cc110-c1a3-4853-b123-30bdce4812ae-0', tool_calls=[{'name': 'tavily_search_results_json', 'args': {'query': 'San Francisco current weather October 2023'}, 'id': 'call_nTZeUr1vf35i24z8K2ZKq6o0', 'type': 'tool_call'}], usage_metadata={'input_tokens': 150, 'output_tokens': 26, 'total_tokens': 176, 'input_token_details': {'audio': 0, 'cache_read': 0}, 'output_token_details': {'audio': 0, 'reasoning': 0}})]}, next=('action',), config={'configurable': {'thread_id': '1', 'checkpoint_ns': '', 'checkpoint_id': '1efff683-60f3-670a-8001-76c382d9ee27'}}, metadata={'source': 'loop', 'writes': {'llm': {'messages': [AIMessage(content='', additional_kwargs={'tool_calls': [{'id': 'call_nTZeUr1vf35i24z8K2ZKq6o0', 'function': {'arguments': '{\"query\":\"San Francisco current weather October 2023\"}', 'name': 'tavily_search_results_json'}, 'type': 'function'}], 'refusal': None}, response_metadata={'token_usage': {'completion_tokens': 26, 'prompt_tokens': 150, 'total_tokens': 176, 'completion_tokens_details': {'accepted_prediction_tokens': 0, 'audio_tokens': 0, 'reasoning_tokens': 0, 'rejected_prediction_tokens': 0}, 'prompt_tokens_details': {'audio_tokens': 0, 'cached_tokens': 0}}, 'model_name': 'gpt-4o-2024-08-06', 'system_fingerprint': 'fp_f9f4fb6dbf', 'finish_reason': 'tool_calls', 'logprobs': None}, id='run-725cc110-c1a3-4853-b123-30bdce4812ae-0', tool_calls=[{'name': 'tavily_search_results_json', 'args': {'query': 'San Francisco current weather October 2023'}, 'id': 'call_nTZeUr1vf35i24z8K2ZKq6o0', 'type': 'tool_call'}], usage_metadata={'input_tokens': 150, 'output_tokens': 26, 'total_tokens': 176, 'input_token_details': {'audio': 0, 'cache_read': 0}, 'output_token_details': {'audio': 0, 'reasoning': 0}})]}}, 'thread_id': '1', 'step': 1, 'parents': {}}, created_at='2025-03-12T17:34:12.042317+00:00', parent_config={'configurable': {'thread_id': '1', 'checkpoint_ns': '', 'checkpoint_id': '1efff683-4faf-6286-8000-482447dce4cf'}}, tasks=(PregelTask(id='6c37ddd6-72d1-74a0-5261-5ad235accc99', name='action', path=('__pregel_pull', 'action'), error=None, interrupts=(), state=None, result=None),))"
      ]
     },
     "execution_count": 8,
     "metadata": {},
     "output_type": "execute_result"
    }
   ],
   "source": [
    "abot.graph.get_state(thread)"
   ]
  },
  {
   "cell_type": "code",
   "execution_count": 9,
   "id": "1f6d576f-b645-4110-98ec-824a42f1e595",
   "metadata": {},
   "outputs": [
    {
     "data": {
      "text/plain": [
       "('action',)"
      ]
     },
     "execution_count": 9,
     "metadata": {},
     "output_type": "execute_result"
    }
   ],
   "source": [
    "abot.graph.get_state(thread).next"
   ]
  },
  {
   "cell_type": "markdown",
   "id": "de2a01e9-3520-4056-841f-e37b6c3d5976",
   "metadata": {},
   "source": [
    "## pause-and-resume mechanism"
   ]
  },
  {
   "cell_type": "code",
   "execution_count": 10,
   "id": "eacbd0bd-76c0-4969-9097-0cb40dc146de",
   "metadata": {
    "scrolled": true
   },
   "outputs": [
    {
     "name": "stdout",
     "output_type": "stream",
     "text": [
      "Calling: {'name': 'tavily_search_results_json', 'args': {'query': 'San Francisco current weather October 2023'}, 'id': 'call_nTZeUr1vf35i24z8K2ZKq6o0', 'type': 'tool_call'}\n",
      "Back to the model!\n",
      "{'messages': [ToolMessage(content='[{\\'url\\': \\'https://www.weatherapi.com/\\', \\'content\\': \"{\\'location\\': {\\'name\\': \\'San Francisco\\', \\'region\\': \\'California\\', \\'country\\': \\'United States of America\\', \\'lat\\': 37.775, \\'lon\\': -122.4183, \\'tz_id\\': \\'America/Los_Angeles\\', \\'localtime_epoch\\': 1741800853, \\'localtime\\': \\'2025-03-12 10:34\\'}, \\'current\\': {\\'last_updated_epoch\\': 1741800600, \\'last_updated\\': \\'2025-03-12 10:30\\', \\'temp_c\\': 13.3, \\'temp_f\\': 55.9, \\'is_day\\': 1, \\'condition\\': {\\'text\\': \\'Light rain\\', \\'icon\\': \\'//cdn.weatherapi.com/weather/64x64/day/296.png\\', \\'code\\': 1183}, \\'wind_mph\\': 20.4, \\'wind_kph\\': 32.8, \\'wind_degree\\': 165, \\'wind_dir\\': \\'SSE\\', \\'pressure_mb\\': 1008.0, \\'pressure_in\\': 29.75, \\'precip_mm\\': 0.0, \\'precip_in\\': 0.0, \\'humidity\\': 75, \\'cloud\\': 100, \\'feelslike_c\\': 10.7, \\'feelslike_f\\': 51.3, \\'windchill_c\\': 9.0, \\'windchill_f\\': 48.1, \\'heatindex_c\\': 11.7, \\'heatindex_f\\': 53.0, \\'dewpoint_c\\': 9.6, \\'dewpoint_f\\': 49.3, \\'vis_km\\': 16.0, \\'vis_miles\\': 9.0, \\'uv\\': 1.1, \\'gust_mph\\': 29.9, \\'gust_kph\\': 48.2}}\"}, {\\'url\\': \\'https://world-weather.info/forecast/usa/san_francisco/october-2023/\\', \\'content\\': \"Weather in San Francisco in October 2023 (California) - Detailed Weather Forecast for a Month Weather in San Francisco Weather in San Francisco in October 2023 San Francisco Weather Forecast for October 2023 is based on statistical data. 1 +68°+57° 2 +66°+55° 3 +70°+57° 4 +84°+63° 5 +86°+68° 6 +86°+68° 7 +81°+68° 8 +66°+61° 9 +70°+61° 10 +68°+63° 11 +68°+59° 12 +70°+57° 13 +66°+57° 14 +70°+61° 15 +70°+63° 16 +72°+61° 17 +70°+63° 18 +79°+59° 19 +84°+64° 20 +66°+61° 21 +70°+59° 22 +66°+63° 23 +66°+61° 24 +66°+57° 25 +64°+57° 26 +63°+54° 27 +61°+52° 28 +66°+52° Weather in Washington, D.C.+36° Sacramento+39° Redwood City+43° San Leandro+43° San Mateo+45° San Rafael+41° San Ramon+36° South San Francisco+46° Concord+39° Daly City+43° Temelec+37° world\\'s temperature today Temperature units\"}]', name='tavily_search_results_json', id='97b762a4-51ec-49b8-9fff-5050bbc0ec74', tool_call_id='call_nTZeUr1vf35i24z8K2ZKq6o0')]}\n",
      "{'messages': [HumanMessage(content='Whats the weather in SF?', additional_kwargs={}, response_metadata={}, id='b21bc53d-e678-444f-8b6b-0c9ec86ef49f'), AIMessage(content='', additional_kwargs={'tool_calls': [{'id': 'call_nTZeUr1vf35i24z8K2ZKq6o0', 'function': {'arguments': '{\"query\":\"San Francisco current weather October 2023\"}', 'name': 'tavily_search_results_json'}, 'type': 'function'}], 'refusal': None}, response_metadata={'token_usage': {'completion_tokens': 26, 'prompt_tokens': 150, 'total_tokens': 176, 'completion_tokens_details': {'accepted_prediction_tokens': 0, 'audio_tokens': 0, 'reasoning_tokens': 0, 'rejected_prediction_tokens': 0}, 'prompt_tokens_details': {'audio_tokens': 0, 'cached_tokens': 0}}, 'model_name': 'gpt-4o-2024-08-06', 'system_fingerprint': 'fp_f9f4fb6dbf', 'finish_reason': 'tool_calls', 'logprobs': None}, id='run-725cc110-c1a3-4853-b123-30bdce4812ae-0', tool_calls=[{'name': 'tavily_search_results_json', 'args': {'query': 'San Francisco current weather October 2023'}, 'id': 'call_nTZeUr1vf35i24z8K2ZKq6o0', 'type': 'tool_call'}], usage_metadata={'input_tokens': 150, 'output_tokens': 26, 'total_tokens': 176, 'input_token_details': {'audio': 0, 'cache_read': 0}, 'output_token_details': {'audio': 0, 'reasoning': 0}}), ToolMessage(content='[{\\'url\\': \\'https://www.weatherapi.com/\\', \\'content\\': \"{\\'location\\': {\\'name\\': \\'San Francisco\\', \\'region\\': \\'California\\', \\'country\\': \\'United States of America\\', \\'lat\\': 37.775, \\'lon\\': -122.4183, \\'tz_id\\': \\'America/Los_Angeles\\', \\'localtime_epoch\\': 1741800853, \\'localtime\\': \\'2025-03-12 10:34\\'}, \\'current\\': {\\'last_updated_epoch\\': 1741800600, \\'last_updated\\': \\'2025-03-12 10:30\\', \\'temp_c\\': 13.3, \\'temp_f\\': 55.9, \\'is_day\\': 1, \\'condition\\': {\\'text\\': \\'Light rain\\', \\'icon\\': \\'//cdn.weatherapi.com/weather/64x64/day/296.png\\', \\'code\\': 1183}, \\'wind_mph\\': 20.4, \\'wind_kph\\': 32.8, \\'wind_degree\\': 165, \\'wind_dir\\': \\'SSE\\', \\'pressure_mb\\': 1008.0, \\'pressure_in\\': 29.75, \\'precip_mm\\': 0.0, \\'precip_in\\': 0.0, \\'humidity\\': 75, \\'cloud\\': 100, \\'feelslike_c\\': 10.7, \\'feelslike_f\\': 51.3, \\'windchill_c\\': 9.0, \\'windchill_f\\': 48.1, \\'heatindex_c\\': 11.7, \\'heatindex_f\\': 53.0, \\'dewpoint_c\\': 9.6, \\'dewpoint_f\\': 49.3, \\'vis_km\\': 16.0, \\'vis_miles\\': 9.0, \\'uv\\': 1.1, \\'gust_mph\\': 29.9, \\'gust_kph\\': 48.2}}\"}, {\\'url\\': \\'https://world-weather.info/forecast/usa/san_francisco/october-2023/\\', \\'content\\': \"Weather in San Francisco in October 2023 (California) - Detailed Weather Forecast for a Month Weather in San Francisco Weather in San Francisco in October 2023 San Francisco Weather Forecast for October 2023 is based on statistical data. 1 +68°+57° 2 +66°+55° 3 +70°+57° 4 +84°+63° 5 +86°+68° 6 +86°+68° 7 +81°+68° 8 +66°+61° 9 +70°+61° 10 +68°+63° 11 +68°+59° 12 +70°+57° 13 +66°+57° 14 +70°+61° 15 +70°+63° 16 +72°+61° 17 +70°+63° 18 +79°+59° 19 +84°+64° 20 +66°+61° 21 +70°+59° 22 +66°+63° 23 +66°+61° 24 +66°+57° 25 +64°+57° 26 +63°+54° 27 +61°+52° 28 +66°+52° Weather in Washington, D.C.+36° Sacramento+39° Redwood City+43° San Leandro+43° San Mateo+45° San Rafael+41° San Ramon+36° South San Francisco+46° Concord+39° Daly City+43° Temelec+37° world\\'s temperature today Temperature units\"}]', name='tavily_search_results_json', id='97b762a4-51ec-49b8-9fff-5050bbc0ec74', tool_call_id='call_nTZeUr1vf35i24z8K2ZKq6o0'), AIMessage(content='The current weather in San Francisco, as of the latest update, is light rain with a temperature of approximately 13.3°C (55.9°F). The wind is coming from the south-southeast at 20.4 mph (32.8 kph), and the humidity is 75%. It feels like 10.7°C (51.3°F) due to wind chill. The atmospheric pressure is at 1008.0 mb.', additional_kwargs={'refusal': None}, response_metadata={'token_usage': {'completion_tokens': 95, 'prompt_tokens': 958, 'total_tokens': 1053, 'completion_tokens_details': {'accepted_prediction_tokens': 0, 'audio_tokens': 0, 'reasoning_tokens': 0, 'rejected_prediction_tokens': 0}, 'prompt_tokens_details': {'audio_tokens': 0, 'cached_tokens': 0}}, 'model_name': 'gpt-4o-2024-08-06', 'system_fingerprint': 'fp_f9f4fb6dbf', 'finish_reason': 'stop', 'logprobs': None}, id='run-a101ee01-22ab-44bb-8336-49078794eca6-0', usage_metadata={'input_tokens': 958, 'output_tokens': 95, 'total_tokens': 1053, 'input_token_details': {'audio': 0, 'cache_read': 0}, 'output_token_details': {'audio': 0, 'reasoning': 0}})]}\n",
      "{'messages': [AIMessage(content='The current weather in San Francisco, as of the latest update, is light rain with a temperature of approximately 13.3°C (55.9°F). The wind is coming from the south-southeast at 20.4 mph (32.8 kph), and the humidity is 75%. It feels like 10.7°C (51.3°F) due to wind chill. The atmospheric pressure is at 1008.0 mb.', additional_kwargs={'refusal': None}, response_metadata={'token_usage': {'completion_tokens': 95, 'prompt_tokens': 958, 'total_tokens': 1053, 'completion_tokens_details': {'accepted_prediction_tokens': 0, 'audio_tokens': 0, 'reasoning_tokens': 0, 'rejected_prediction_tokens': 0}, 'prompt_tokens_details': {'audio_tokens': 0, 'cached_tokens': 0}}, 'model_name': 'gpt-4o-2024-08-06', 'system_fingerprint': 'fp_f9f4fb6dbf', 'finish_reason': 'stop', 'logprobs': None}, id='run-a101ee01-22ab-44bb-8336-49078794eca6-0', usage_metadata={'input_tokens': 958, 'output_tokens': 95, 'total_tokens': 1053, 'input_token_details': {'audio': 0, 'cache_read': 0}, 'output_token_details': {'audio': 0, 'reasoning': 0}})]}\n"
     ]
    }
   ],
   "source": [
    "for event in abot.graph.stream(None, thread):\n",
    "    for v in event.values():\n",
    "        print(v)"
   ]
  },
  {
   "cell_type": "code",
   "execution_count": 11,
   "id": "23a8bd85-f1f5-49f4-bd20-33a77d935e16",
   "metadata": {},
   "outputs": [
    {
     "data": {
      "text/plain": [
       "StateSnapshot(values={'messages': [HumanMessage(content='Whats the weather in SF?', additional_kwargs={}, response_metadata={}, id='b21bc53d-e678-444f-8b6b-0c9ec86ef49f'), AIMessage(content='', additional_kwargs={'tool_calls': [{'id': 'call_nTZeUr1vf35i24z8K2ZKq6o0', 'function': {'arguments': '{\"query\":\"San Francisco current weather October 2023\"}', 'name': 'tavily_search_results_json'}, 'type': 'function'}], 'refusal': None}, response_metadata={'token_usage': {'completion_tokens': 26, 'prompt_tokens': 150, 'total_tokens': 176, 'completion_tokens_details': {'accepted_prediction_tokens': 0, 'audio_tokens': 0, 'reasoning_tokens': 0, 'rejected_prediction_tokens': 0}, 'prompt_tokens_details': {'audio_tokens': 0, 'cached_tokens': 0}}, 'model_name': 'gpt-4o-2024-08-06', 'system_fingerprint': 'fp_f9f4fb6dbf', 'finish_reason': 'tool_calls', 'logprobs': None}, id='run-725cc110-c1a3-4853-b123-30bdce4812ae-0', tool_calls=[{'name': 'tavily_search_results_json', 'args': {'query': 'San Francisco current weather October 2023'}, 'id': 'call_nTZeUr1vf35i24z8K2ZKq6o0', 'type': 'tool_call'}], usage_metadata={'input_tokens': 150, 'output_tokens': 26, 'total_tokens': 176, 'input_token_details': {'audio': 0, 'cache_read': 0}, 'output_token_details': {'audio': 0, 'reasoning': 0}}), ToolMessage(content='[{\\'url\\': \\'https://www.weatherapi.com/\\', \\'content\\': \"{\\'location\\': {\\'name\\': \\'San Francisco\\', \\'region\\': \\'California\\', \\'country\\': \\'United States of America\\', \\'lat\\': 37.775, \\'lon\\': -122.4183, \\'tz_id\\': \\'America/Los_Angeles\\', \\'localtime_epoch\\': 1741800853, \\'localtime\\': \\'2025-03-12 10:34\\'}, \\'current\\': {\\'last_updated_epoch\\': 1741800600, \\'last_updated\\': \\'2025-03-12 10:30\\', \\'temp_c\\': 13.3, \\'temp_f\\': 55.9, \\'is_day\\': 1, \\'condition\\': {\\'text\\': \\'Light rain\\', \\'icon\\': \\'//cdn.weatherapi.com/weather/64x64/day/296.png\\', \\'code\\': 1183}, \\'wind_mph\\': 20.4, \\'wind_kph\\': 32.8, \\'wind_degree\\': 165, \\'wind_dir\\': \\'SSE\\', \\'pressure_mb\\': 1008.0, \\'pressure_in\\': 29.75, \\'precip_mm\\': 0.0, \\'precip_in\\': 0.0, \\'humidity\\': 75, \\'cloud\\': 100, \\'feelslike_c\\': 10.7, \\'feelslike_f\\': 51.3, \\'windchill_c\\': 9.0, \\'windchill_f\\': 48.1, \\'heatindex_c\\': 11.7, \\'heatindex_f\\': 53.0, \\'dewpoint_c\\': 9.6, \\'dewpoint_f\\': 49.3, \\'vis_km\\': 16.0, \\'vis_miles\\': 9.0, \\'uv\\': 1.1, \\'gust_mph\\': 29.9, \\'gust_kph\\': 48.2}}\"}, {\\'url\\': \\'https://world-weather.info/forecast/usa/san_francisco/october-2023/\\', \\'content\\': \"Weather in San Francisco in October 2023 (California) - Detailed Weather Forecast for a Month Weather in San Francisco Weather in San Francisco in October 2023 San Francisco Weather Forecast for October 2023 is based on statistical data. 1 +68°+57° 2 +66°+55° 3 +70°+57° 4 +84°+63° 5 +86°+68° 6 +86°+68° 7 +81°+68° 8 +66°+61° 9 +70°+61° 10 +68°+63° 11 +68°+59° 12 +70°+57° 13 +66°+57° 14 +70°+61° 15 +70°+63° 16 +72°+61° 17 +70°+63° 18 +79°+59° 19 +84°+64° 20 +66°+61° 21 +70°+59° 22 +66°+63° 23 +66°+61° 24 +66°+57° 25 +64°+57° 26 +63°+54° 27 +61°+52° 28 +66°+52° Weather in Washington, D.C.+36° Sacramento+39° Redwood City+43° San Leandro+43° San Mateo+45° San Rafael+41° San Ramon+36° South San Francisco+46° Concord+39° Daly City+43° Temelec+37° world\\'s temperature today Temperature units\"}]', name='tavily_search_results_json', id='97b762a4-51ec-49b8-9fff-5050bbc0ec74', tool_call_id='call_nTZeUr1vf35i24z8K2ZKq6o0'), AIMessage(content='The current weather in San Francisco, as of the latest update, is light rain with a temperature of approximately 13.3°C (55.9°F). The wind is coming from the south-southeast at 20.4 mph (32.8 kph), and the humidity is 75%. It feels like 10.7°C (51.3°F) due to wind chill. The atmospheric pressure is at 1008.0 mb.', additional_kwargs={'refusal': None}, response_metadata={'token_usage': {'completion_tokens': 95, 'prompt_tokens': 958, 'total_tokens': 1053, 'completion_tokens_details': {'accepted_prediction_tokens': 0, 'audio_tokens': 0, 'reasoning_tokens': 0, 'rejected_prediction_tokens': 0}, 'prompt_tokens_details': {'audio_tokens': 0, 'cached_tokens': 0}}, 'model_name': 'gpt-4o-2024-08-06', 'system_fingerprint': 'fp_f9f4fb6dbf', 'finish_reason': 'stop', 'logprobs': None}, id='run-a101ee01-22ab-44bb-8336-49078794eca6-0', usage_metadata={'input_tokens': 958, 'output_tokens': 95, 'total_tokens': 1053, 'input_token_details': {'audio': 0, 'cache_read': 0}, 'output_token_details': {'audio': 0, 'reasoning': 0}})]}, next=(), config={'configurable': {'thread_id': '1', 'checkpoint_ns': '', 'checkpoint_id': '1efff683-a6d1-69c9-8003-080cbbcbec53'}}, metadata={'source': 'loop', 'writes': {'llm': {'messages': [AIMessage(content='The current weather in San Francisco, as of the latest update, is light rain with a temperature of approximately 13.3°C (55.9°F). The wind is coming from the south-southeast at 20.4 mph (32.8 kph), and the humidity is 75%. It feels like 10.7°C (51.3°F) due to wind chill. The atmospheric pressure is at 1008.0 mb.', additional_kwargs={'refusal': None}, response_metadata={'token_usage': {'completion_tokens': 95, 'prompt_tokens': 958, 'total_tokens': 1053, 'completion_tokens_details': {'accepted_prediction_tokens': 0, 'audio_tokens': 0, 'reasoning_tokens': 0, 'rejected_prediction_tokens': 0}, 'prompt_tokens_details': {'audio_tokens': 0, 'cached_tokens': 0}}, 'model_name': 'gpt-4o-2024-08-06', 'system_fingerprint': 'fp_f9f4fb6dbf', 'finish_reason': 'stop', 'logprobs': None}, id='run-a101ee01-22ab-44bb-8336-49078794eca6-0', usage_metadata={'input_tokens': 958, 'output_tokens': 95, 'total_tokens': 1053, 'input_token_details': {'audio': 0, 'cache_read': 0}, 'output_token_details': {'audio': 0, 'reasoning': 0}})]}}, 'thread_id': '1', 'step': 3, 'parents': {}}, created_at='2025-03-12T17:34:19.368493+00:00', parent_config={'configurable': {'thread_id': '1', 'checkpoint_ns': '', 'checkpoint_id': '1efff683-8883-6b1f-8002-f82b52c9429f'}}, tasks=())"
      ]
     },
     "execution_count": 11,
     "metadata": {},
     "output_type": "execute_result"
    }
   ],
   "source": [
    "abot.graph.get_state(thread)"
   ]
  },
  {
   "cell_type": "code",
   "execution_count": 12,
   "id": "2b61d826-713d-445d-b15e-f7c442ff2152",
   "metadata": {},
   "outputs": [
    {
     "data": {
      "text/plain": [
       "()"
      ]
     },
     "execution_count": 12,
     "metadata": {},
     "output_type": "execute_result"
    }
   ],
   "source": [
    "abot.graph.get_state(thread).next"
   ]
  },
  {
   "cell_type": "code",
   "execution_count": 13,
   "id": "710c2c06-e562-4dcd-98f9-e45f236ab9b0",
   "metadata": {
    "scrolled": true
   },
   "outputs": [
    {
     "name": "stdout",
     "output_type": "stream",
     "text": [
      "{'messages': [HumanMessage(content='What is the weather in LA', additional_kwargs={}, response_metadata={}, id='585cf97f-f80f-4cf8-a628-9637eb8e8bd3'), AIMessage(content='', additional_kwargs={'tool_calls': [{'id': 'call_JQ2ClQli3GiTdGFYAlUxuCiO', 'function': {'arguments': '{\"query\":\"current weather in Los Angeles\"}', 'name': 'tavily_search_results_json'}, 'type': 'function'}], 'refusal': None}, response_metadata={'token_usage': {'completion_tokens': 23, 'prompt_tokens': 150, 'total_tokens': 173, 'completion_tokens_details': {'accepted_prediction_tokens': 0, 'audio_tokens': 0, 'reasoning_tokens': 0, 'rejected_prediction_tokens': 0}, 'prompt_tokens_details': {'audio_tokens': 0, 'cached_tokens': 0}}, 'model_name': 'gpt-4o-2024-08-06', 'system_fingerprint': 'fp_f9f4fb6dbf', 'finish_reason': 'tool_calls', 'logprobs': None}, id='run-6501501f-7eaf-4267-81cc-6649097b9b73-0', tool_calls=[{'name': 'tavily_search_results_json', 'args': {'query': 'current weather in Los Angeles'}, 'id': 'call_JQ2ClQli3GiTdGFYAlUxuCiO', 'type': 'tool_call'}], usage_metadata={'input_tokens': 150, 'output_tokens': 23, 'total_tokens': 173, 'input_token_details': {'audio': 0, 'cache_read': 0}, 'output_token_details': {'audio': 0, 'reasoning': 0}})]}\n",
      "{'messages': [AIMessage(content='', additional_kwargs={'tool_calls': [{'id': 'call_JQ2ClQli3GiTdGFYAlUxuCiO', 'function': {'arguments': '{\"query\":\"current weather in Los Angeles\"}', 'name': 'tavily_search_results_json'}, 'type': 'function'}], 'refusal': None}, response_metadata={'token_usage': {'completion_tokens': 23, 'prompt_tokens': 150, 'total_tokens': 173, 'completion_tokens_details': {'accepted_prediction_tokens': 0, 'audio_tokens': 0, 'reasoning_tokens': 0, 'rejected_prediction_tokens': 0}, 'prompt_tokens_details': {'audio_tokens': 0, 'cached_tokens': 0}}, 'model_name': 'gpt-4o-2024-08-06', 'system_fingerprint': 'fp_f9f4fb6dbf', 'finish_reason': 'tool_calls', 'logprobs': None}, id='run-6501501f-7eaf-4267-81cc-6649097b9b73-0', tool_calls=[{'name': 'tavily_search_results_json', 'args': {'query': 'current weather in Los Angeles'}, 'id': 'call_JQ2ClQli3GiTdGFYAlUxuCiO', 'type': 'tool_call'}], usage_metadata={'input_tokens': 150, 'output_tokens': 23, 'total_tokens': 173, 'input_token_details': {'audio': 0, 'cache_read': 0}, 'output_token_details': {'audio': 0, 'reasoning': 0}})]}\n",
      "()\n",
      "\n",
      " StateSnapshot(values={'messages': [HumanMessage(content='What is the weather in LA', additional_kwargs={}, response_metadata={}, id='585cf97f-f80f-4cf8-a628-9637eb8e8bd3'), AIMessage(content='', additional_kwargs={'tool_calls': [{'id': 'call_JQ2ClQli3GiTdGFYAlUxuCiO', 'function': {'arguments': '{\"query\":\"current weather in Los Angeles\"}', 'name': 'tavily_search_results_json'}, 'type': 'function'}], 'refusal': None}, response_metadata={'token_usage': {'completion_tokens': 23, 'prompt_tokens': 150, 'total_tokens': 173, 'completion_tokens_details': {'accepted_prediction_tokens': 0, 'audio_tokens': 0, 'reasoning_tokens': 0, 'rejected_prediction_tokens': 0}, 'prompt_tokens_details': {'audio_tokens': 0, 'cached_tokens': 0}}, 'model_name': 'gpt-4o-2024-08-06', 'system_fingerprint': 'fp_f9f4fb6dbf', 'finish_reason': 'tool_calls', 'logprobs': None}, id='run-6501501f-7eaf-4267-81cc-6649097b9b73-0', tool_calls=[{'name': 'tavily_search_results_json', 'args': {'query': 'current weather in Los Angeles'}, 'id': 'call_JQ2ClQli3GiTdGFYAlUxuCiO', 'type': 'tool_call'}], usage_metadata={'input_tokens': 150, 'output_tokens': 23, 'total_tokens': 173, 'input_token_details': {'audio': 0, 'cache_read': 0}, 'output_token_details': {'audio': 0, 'reasoning': 0}})]}, next=('action',), config={'configurable': {'thread_id': '4', 'checkpoint_ns': '', 'checkpoint_id': '1efff683-b67b-6e6b-8001-513eeafee3de'}}, metadata={'source': 'loop', 'writes': {'llm': {'messages': [AIMessage(content='', additional_kwargs={'tool_calls': [{'id': 'call_JQ2ClQli3GiTdGFYAlUxuCiO', 'function': {'arguments': '{\"query\":\"current weather in Los Angeles\"}', 'name': 'tavily_search_results_json'}, 'type': 'function'}], 'refusal': None}, response_metadata={'token_usage': {'completion_tokens': 23, 'prompt_tokens': 150, 'total_tokens': 173, 'completion_tokens_details': {'accepted_prediction_tokens': 0, 'audio_tokens': 0, 'reasoning_tokens': 0, 'rejected_prediction_tokens': 0}, 'prompt_tokens_details': {'audio_tokens': 0, 'cached_tokens': 0}}, 'model_name': 'gpt-4o-2024-08-06', 'system_fingerprint': 'fp_f9f4fb6dbf', 'finish_reason': 'tool_calls', 'logprobs': None}, id='run-6501501f-7eaf-4267-81cc-6649097b9b73-0', tool_calls=[{'name': 'tavily_search_results_json', 'args': {'query': 'current weather in Los Angeles'}, 'id': 'call_JQ2ClQli3GiTdGFYAlUxuCiO', 'type': 'tool_call'}], usage_metadata={'input_tokens': 150, 'output_tokens': 23, 'total_tokens': 173, 'input_token_details': {'audio': 0, 'cache_read': 0}, 'output_token_details': {'audio': 0, 'reasoning': 0}})]}}, 'thread_id': '4', 'step': 1, 'parents': {}}, created_at='2025-03-12T17:34:21.011108+00:00', parent_config={'configurable': {'thread_id': '4', 'checkpoint_ns': '', 'checkpoint_id': '1efff683-a804-632d-8000-00993a9bd6bf'}}, tasks=(PregelTask(id='80c7a682-8f58-fe2b-4523-4269cdb0546f', name='action', path=('__pregel_pull', 'action'), error=None, interrupts=(), state=None, result=None),)) \n",
      "\n"
     ]
    },
    {
     "name": "stdin",
     "output_type": "stream",
     "text": [
      "proceed? y\n"
     ]
    },
    {
     "name": "stdout",
     "output_type": "stream",
     "text": [
      "Calling: {'name': 'tavily_search_results_json', 'args': {'query': 'current weather in Los Angeles'}, 'id': 'call_JQ2ClQli3GiTdGFYAlUxuCiO', 'type': 'tool_call'}\n",
      "Back to the model!\n",
      "{'messages': [ToolMessage(content='[{\\'url\\': \\'https://www.weatherapi.com/\\', \\'content\\': \"{\\'location\\': {\\'name\\': \\'Los Angeles\\', \\'region\\': \\'California\\', \\'country\\': \\'United States of America\\', \\'lat\\': 34.0522, \\'lon\\': -118.2428, \\'tz_id\\': \\'America/Los_Angeles\\', \\'localtime_epoch\\': 1741800867, \\'localtime\\': \\'2025-03-12 10:34\\'}, \\'current\\': {\\'last_updated_epoch\\': 1741800600, \\'last_updated\\': \\'2025-03-12 10:30\\', \\'temp_c\\': 13.9, \\'temp_f\\': 57.0, \\'is_day\\': 1, \\'condition\\': {\\'text\\': \\'Light rain\\', \\'icon\\': \\'//cdn.weatherapi.com/weather/64x64/day/296.png\\', \\'code\\': 1183}, \\'wind_mph\\': 10.1, \\'wind_kph\\': 16.2, \\'wind_degree\\': 127, \\'wind_dir\\': \\'SE\\', \\'pressure_mb\\': 1016.0, \\'pressure_in\\': 30.01, \\'precip_mm\\': 0.0, \\'precip_in\\': 0.0, \\'humidity\\': 93, \\'cloud\\': 100, \\'feelslike_c\\': 12.6, \\'feelslike_f\\': 54.7, \\'windchill_c\\': 12.1, \\'windchill_f\\': 53.7, \\'heatindex_c\\': 12.9, \\'heatindex_f\\': 55.3, \\'dewpoint_c\\': 10.2, \\'dewpoint_f\\': 50.4, \\'vis_km\\': 4.8, \\'vis_miles\\': 2.0, \\'uv\\': 1.8, \\'gust_mph\\': 12.4, \\'gust_kph\\': 19.9}}\"}, {\\'url\\': \\'https://world-weather.info/forecast/usa/los_angeles/march-2025/\\', \\'content\\': \"Weather in Los Angeles in March 2025 (California) - Detailed Weather Forecast for a Month Weather in Los Angeles Weather in Los Angeles in March 2025 1 +59°+55° 2 +57°+54° 3 +61°+46° 4 +61°+52° 5 +54°+50° 6 +48°+46° 7 +64°+45° 8 +64°+46° 9 +70°+46° 10 +66°+50° 11 +57°+54° 12 +61°+54° 13 +59°+54° 14 +52°+45° 15 +64°+50° 16 +72°+48° 17 +63°+54° 18 +64°+52° 19 +68°+48° 20 +70°+50° 21 +68°+52° 22 +61°+55° 23 +59°+57° 24 +61°+54° 25 +63°+59° 26 +64°+57° 27 +66°+64° +66°+55° +66°+55° +66°+55° +66°+57° Extended weather forecast in Los Angeles Weather in Washington, D.C.+50° Sacramento+54° Norwalk+57° Pasadena+52° Rosemead+54° Inglewood+54° Bellflower+57° Burbank+54° Compton+55° Pearblossom+43° Cornell+52° world\\'s temperature today Weather forecast on your site Install Los Angeles+55° Temperature units\"}]', name='tavily_search_results_json', id='78ca4e98-d7de-4981-8ef9-8063ecf4850f', tool_call_id='call_JQ2ClQli3GiTdGFYAlUxuCiO')]}\n",
      "{'messages': [HumanMessage(content='What is the weather in LA', additional_kwargs={}, response_metadata={}, id='585cf97f-f80f-4cf8-a628-9637eb8e8bd3'), AIMessage(content='', additional_kwargs={'tool_calls': [{'id': 'call_JQ2ClQli3GiTdGFYAlUxuCiO', 'function': {'arguments': '{\"query\":\"current weather in Los Angeles\"}', 'name': 'tavily_search_results_json'}, 'type': 'function'}], 'refusal': None}, response_metadata={'token_usage': {'completion_tokens': 23, 'prompt_tokens': 150, 'total_tokens': 173, 'completion_tokens_details': {'accepted_prediction_tokens': 0, 'audio_tokens': 0, 'reasoning_tokens': 0, 'rejected_prediction_tokens': 0}, 'prompt_tokens_details': {'audio_tokens': 0, 'cached_tokens': 0}}, 'model_name': 'gpt-4o-2024-08-06', 'system_fingerprint': 'fp_f9f4fb6dbf', 'finish_reason': 'tool_calls', 'logprobs': None}, id='run-6501501f-7eaf-4267-81cc-6649097b9b73-0', tool_calls=[{'name': 'tavily_search_results_json', 'args': {'query': 'current weather in Los Angeles'}, 'id': 'call_JQ2ClQli3GiTdGFYAlUxuCiO', 'type': 'tool_call'}], usage_metadata={'input_tokens': 150, 'output_tokens': 23, 'total_tokens': 173, 'input_token_details': {'audio': 0, 'cache_read': 0}, 'output_token_details': {'audio': 0, 'reasoning': 0}}), ToolMessage(content='[{\\'url\\': \\'https://www.weatherapi.com/\\', \\'content\\': \"{\\'location\\': {\\'name\\': \\'Los Angeles\\', \\'region\\': \\'California\\', \\'country\\': \\'United States of America\\', \\'lat\\': 34.0522, \\'lon\\': -118.2428, \\'tz_id\\': \\'America/Los_Angeles\\', \\'localtime_epoch\\': 1741800867, \\'localtime\\': \\'2025-03-12 10:34\\'}, \\'current\\': {\\'last_updated_epoch\\': 1741800600, \\'last_updated\\': \\'2025-03-12 10:30\\', \\'temp_c\\': 13.9, \\'temp_f\\': 57.0, \\'is_day\\': 1, \\'condition\\': {\\'text\\': \\'Light rain\\', \\'icon\\': \\'//cdn.weatherapi.com/weather/64x64/day/296.png\\', \\'code\\': 1183}, \\'wind_mph\\': 10.1, \\'wind_kph\\': 16.2, \\'wind_degree\\': 127, \\'wind_dir\\': \\'SE\\', \\'pressure_mb\\': 1016.0, \\'pressure_in\\': 30.01, \\'precip_mm\\': 0.0, \\'precip_in\\': 0.0, \\'humidity\\': 93, \\'cloud\\': 100, \\'feelslike_c\\': 12.6, \\'feelslike_f\\': 54.7, \\'windchill_c\\': 12.1, \\'windchill_f\\': 53.7, \\'heatindex_c\\': 12.9, \\'heatindex_f\\': 55.3, \\'dewpoint_c\\': 10.2, \\'dewpoint_f\\': 50.4, \\'vis_km\\': 4.8, \\'vis_miles\\': 2.0, \\'uv\\': 1.8, \\'gust_mph\\': 12.4, \\'gust_kph\\': 19.9}}\"}, {\\'url\\': \\'https://world-weather.info/forecast/usa/los_angeles/march-2025/\\', \\'content\\': \"Weather in Los Angeles in March 2025 (California) - Detailed Weather Forecast for a Month Weather in Los Angeles Weather in Los Angeles in March 2025 1 +59°+55° 2 +57°+54° 3 +61°+46° 4 +61°+52° 5 +54°+50° 6 +48°+46° 7 +64°+45° 8 +64°+46° 9 +70°+46° 10 +66°+50° 11 +57°+54° 12 +61°+54° 13 +59°+54° 14 +52°+45° 15 +64°+50° 16 +72°+48° 17 +63°+54° 18 +64°+52° 19 +68°+48° 20 +70°+50° 21 +68°+52° 22 +61°+55° 23 +59°+57° 24 +61°+54° 25 +63°+59° 26 +64°+57° 27 +66°+64° +66°+55° +66°+55° +66°+55° +66°+57° Extended weather forecast in Los Angeles Weather in Washington, D.C.+50° Sacramento+54° Norwalk+57° Pasadena+52° Rosemead+54° Inglewood+54° Bellflower+57° Burbank+54° Compton+55° Pearblossom+43° Cornell+52° world\\'s temperature today Weather forecast on your site Install Los Angeles+55° Temperature units\"}]', name='tavily_search_results_json', id='78ca4e98-d7de-4981-8ef9-8063ecf4850f', tool_call_id='call_JQ2ClQli3GiTdGFYAlUxuCiO'), AIMessage(content='The current weather in Los Angeles is light rain with a temperature of 13.9°C (57.0°F). The wind is blowing from the southeast at 10.1 mph (16.2 kph), and the humidity level is at 93%. The visibility is 4.8 km (approximately 3 miles), and the cloud cover is at 100%. The weather feels like 12.6°C (54.7°F).', additional_kwargs={'refusal': None}, response_metadata={'token_usage': {'completion_tokens': 93, 'prompt_tokens': 973, 'total_tokens': 1066, 'completion_tokens_details': {'accepted_prediction_tokens': 0, 'audio_tokens': 0, 'reasoning_tokens': 0, 'rejected_prediction_tokens': 0}, 'prompt_tokens_details': {'audio_tokens': 0, 'cached_tokens': 0}}, 'model_name': 'gpt-4o-2024-08-06', 'system_fingerprint': 'fp_f9f4fb6dbf', 'finish_reason': 'stop', 'logprobs': None}, id='run-7fde5662-2ed8-4f97-88cc-c74592b06575-0', usage_metadata={'input_tokens': 973, 'output_tokens': 93, 'total_tokens': 1066, 'input_token_details': {'audio': 0, 'cache_read': 0}, 'output_token_details': {'audio': 0, 'reasoning': 0}})]}\n",
      "{'messages': [AIMessage(content='The current weather in Los Angeles is light rain with a temperature of 13.9°C (57.0°F). The wind is blowing from the southeast at 10.1 mph (16.2 kph), and the humidity level is at 93%. The visibility is 4.8 km (approximately 3 miles), and the cloud cover is at 100%. The weather feels like 12.6°C (54.7°F).', additional_kwargs={'refusal': None}, response_metadata={'token_usage': {'completion_tokens': 93, 'prompt_tokens': 973, 'total_tokens': 1066, 'completion_tokens_details': {'accepted_prediction_tokens': 0, 'audio_tokens': 0, 'reasoning_tokens': 0, 'rejected_prediction_tokens': 0}, 'prompt_tokens_details': {'audio_tokens': 0, 'cached_tokens': 0}}, 'model_name': 'gpt-4o-2024-08-06', 'system_fingerprint': 'fp_f9f4fb6dbf', 'finish_reason': 'stop', 'logprobs': None}, id='run-7fde5662-2ed8-4f97-88cc-c74592b06575-0', usage_metadata={'input_tokens': 973, 'output_tokens': 93, 'total_tokens': 1066, 'input_token_details': {'audio': 0, 'cache_read': 0}, 'output_token_details': {'audio': 0, 'reasoning': 0}})]}\n"
     ]
    }
   ],
   "source": [
    "messages = [HumanMessage(\"What is the weather in LA\")]\n",
    "\n",
    "thread = {\"configurable\": {'thread_id':'4'}}\n",
    "\n",
    "for event in abot.graph.stream({\"messages\": messages}, thread):\n",
    "    for v in event.values():\n",
    "        print(v)\n",
    "\n",
    "while abot.graph.get_state(thread).next:\n",
    "    print(\"\\n\", abot.graph.get_state(thread), '\\n')\n",
    "    _input = input(\"proceed?\")\n",
    "    if _input != \"y\":\n",
    "        print(\"aborting\")\n",
    "        break\n",
    "    for event in abot.graph.stream(None, thread):\n",
    "        for v in event.values():\n",
    "            print(v)"
   ]
  },
  {
   "cell_type": "markdown",
   "id": "c8bc3e29-6da5-44a1-863c-94337b055907",
   "metadata": {},
   "source": [
    "## Modifie state"
   ]
  },
  {
   "cell_type": "code",
   "execution_count": 14,
   "id": "9de25bf2-46dd-4ea0-af23-6cfd30c4ba42",
   "metadata": {},
   "outputs": [
    {
     "name": "stdout",
     "output_type": "stream",
     "text": [
      "{'messages': [HumanMessage(content='Whats the weather in LA?', additional_kwargs={}, response_metadata={}, id='973e2373-650e-4186-ae67-ff9db2e151c1'), AIMessage(content='', additional_kwargs={'tool_calls': [{'id': 'call_SnkDl5G9guxXyCUKZBQuPTF6', 'function': {'arguments': '{\"query\":\"current weather in Los Angeles\"}', 'name': 'tavily_search_results_json'}, 'type': 'function'}], 'refusal': None}, response_metadata={'token_usage': {'completion_tokens': 23, 'prompt_tokens': 150, 'total_tokens': 173, 'completion_tokens_details': {'accepted_prediction_tokens': 0, 'audio_tokens': 0, 'reasoning_tokens': 0, 'rejected_prediction_tokens': 0}, 'prompt_tokens_details': {'audio_tokens': 0, 'cached_tokens': 0}}, 'model_name': 'gpt-4o-2024-08-06', 'system_fingerprint': 'fp_f9f4fb6dbf', 'finish_reason': 'tool_calls', 'logprobs': None}, id='run-373579b3-a6af-424d-b558-decda7394fc5-0', tool_calls=[{'name': 'tavily_search_results_json', 'args': {'query': 'current weather in Los Angeles'}, 'id': 'call_SnkDl5G9guxXyCUKZBQuPTF6', 'type': 'tool_call'}], usage_metadata={'input_tokens': 150, 'output_tokens': 23, 'total_tokens': 173, 'input_token_details': {'audio': 0, 'cache_read': 0}, 'output_token_details': {'audio': 0, 'reasoning': 0}})]}\n",
      "{'messages': [AIMessage(content='', additional_kwargs={'tool_calls': [{'id': 'call_SnkDl5G9guxXyCUKZBQuPTF6', 'function': {'arguments': '{\"query\":\"current weather in Los Angeles\"}', 'name': 'tavily_search_results_json'}, 'type': 'function'}], 'refusal': None}, response_metadata={'token_usage': {'completion_tokens': 23, 'prompt_tokens': 150, 'total_tokens': 173, 'completion_tokens_details': {'accepted_prediction_tokens': 0, 'audio_tokens': 0, 'reasoning_tokens': 0, 'rejected_prediction_tokens': 0}, 'prompt_tokens_details': {'audio_tokens': 0, 'cached_tokens': 0}}, 'model_name': 'gpt-4o-2024-08-06', 'system_fingerprint': 'fp_f9f4fb6dbf', 'finish_reason': 'tool_calls', 'logprobs': None}, id='run-373579b3-a6af-424d-b558-decda7394fc5-0', tool_calls=[{'name': 'tavily_search_results_json', 'args': {'query': 'current weather in Los Angeles'}, 'id': 'call_SnkDl5G9guxXyCUKZBQuPTF6', 'type': 'tool_call'}], usage_metadata={'input_tokens': 150, 'output_tokens': 23, 'total_tokens': 173, 'input_token_details': {'audio': 0, 'cache_read': 0}, 'output_token_details': {'audio': 0, 'reasoning': 0}})]}\n",
      "()\n"
     ]
    }
   ],
   "source": [
    "messages = [HumanMessage(\"Whats the weather in LA?\")]\n",
    "thread = {\"configurable\": {\"thread_id\": \"3\"}}\n",
    "for event in abot.graph.stream({\"messages\": messages}, thread):\n",
    "    for v in event.values():\n",
    "        print(v)"
   ]
  },
  {
   "cell_type": "code",
   "execution_count": 15,
   "id": "e7014627-87db-44d4-96f7-df503d2e59a0",
   "metadata": {},
   "outputs": [],
   "source": [
    "current_values = abot.graph.get_state(thread)"
   ]
  },
  {
   "cell_type": "code",
   "execution_count": 19,
   "id": "7e75c2a7-18ca-466d-b960-bf7feb913ff2",
   "metadata": {},
   "outputs": [
    {
     "data": {
      "text/plain": [
       "AIMessage(content='', additional_kwargs={'tool_calls': [{'id': 'call_SnkDl5G9guxXyCUKZBQuPTF6', 'function': {'arguments': '{\"query\":\"current weather in Los Angeles\"}', 'name': 'tavily_search_results_json'}, 'type': 'function'}], 'refusal': None}, response_metadata={'token_usage': {'completion_tokens': 23, 'prompt_tokens': 150, 'total_tokens': 173, 'completion_tokens_details': {'accepted_prediction_tokens': 0, 'audio_tokens': 0, 'reasoning_tokens': 0, 'rejected_prediction_tokens': 0}, 'prompt_tokens_details': {'audio_tokens': 0, 'cached_tokens': 0}}, 'model_name': 'gpt-4o-2024-08-06', 'system_fingerprint': 'fp_f9f4fb6dbf', 'finish_reason': 'tool_calls', 'logprobs': None}, id='run-373579b3-a6af-424d-b558-decda7394fc5-0', tool_calls=[{'name': 'tavily_search_results_json', 'args': {'query': 'current weather in Los Angeles'}, 'id': 'call_SnkDl5G9guxXyCUKZBQuPTF6', 'type': 'tool_call'}], usage_metadata={'input_tokens': 150, 'output_tokens': 23, 'total_tokens': 173, 'input_token_details': {'audio': 0, 'cache_read': 0}, 'output_token_details': {'audio': 0, 'reasoning': 0}})"
      ]
     },
     "execution_count": 19,
     "metadata": {},
     "output_type": "execute_result"
    }
   ],
   "source": [
    "current_values.values['messages'][-1]"
   ]
  },
  {
   "cell_type": "code",
   "execution_count": 20,
   "id": "16095007-26b1-4c53-bafe-b47263da454f",
   "metadata": {},
   "outputs": [
    {
     "data": {
      "text/plain": [
       "[{'name': 'tavily_search_results_json',\n",
       "  'args': {'query': 'current weather in Los Angeles'},\n",
       "  'id': 'call_SnkDl5G9guxXyCUKZBQuPTF6',\n",
       "  'type': 'tool_call'}]"
      ]
     },
     "execution_count": 20,
     "metadata": {},
     "output_type": "execute_result"
    }
   ],
   "source": [
    "current_values.values['messages'][-1].tool_calls"
   ]
  },
  {
   "cell_type": "code",
   "execution_count": 21,
   "id": "2b7e9a68-2a6a-4dcb-ac46-f0b90ff52b90",
   "metadata": {},
   "outputs": [],
   "source": [
    "_id = current_values.values['messages'][-1].tool_calls[0]['id']\n",
    "\n",
    "current_values.values['messages'][-1].tool_calls = [\n",
    "    {'name': 'tavily_search_results_json',\n",
    "     'args': {'query': 'current weather in Louisiana'},\n",
    "     'id': 'call_SnkDl5G9guxXyCUKZBQuPTF6',\n",
    "     'type': 'tool_call'}\n",
    "]"
   ]
  },
  {
   "cell_type": "code",
   "execution_count": 22,
   "id": "74353aeb-57f1-4b6a-8e0a-18d8cd00e616",
   "metadata": {},
   "outputs": [
    {
     "name": "stdout",
     "output_type": "stream",
     "text": [
      "{'messages': [HumanMessage(content='Whats the weather in LA?', additional_kwargs={}, response_metadata={}, id='973e2373-650e-4186-ae67-ff9db2e151c1'), AIMessage(content='', additional_kwargs={'tool_calls': [{'id': 'call_SnkDl5G9guxXyCUKZBQuPTF6', 'function': {'arguments': '{\"query\":\"current weather in Los Angeles\"}', 'name': 'tavily_search_results_json'}, 'type': 'function'}], 'refusal': None}, response_metadata={'token_usage': {'completion_tokens': 23, 'prompt_tokens': 150, 'total_tokens': 173, 'completion_tokens_details': {'accepted_prediction_tokens': 0, 'audio_tokens': 0, 'reasoning_tokens': 0, 'rejected_prediction_tokens': 0}, 'prompt_tokens_details': {'audio_tokens': 0, 'cached_tokens': 0}}, 'model_name': 'gpt-4o-2024-08-06', 'system_fingerprint': 'fp_f9f4fb6dbf', 'finish_reason': 'tool_calls', 'logprobs': None}, id='run-373579b3-a6af-424d-b558-decda7394fc5-0', tool_calls=[{'name': 'tavily_search_results_json', 'args': {'query': 'current weather in Louisiana'}, 'id': 'call_SnkDl5G9guxXyCUKZBQuPTF6', 'type': 'tool_call'}], usage_metadata={'input_tokens': 150, 'output_tokens': 23, 'total_tokens': 173, 'input_token_details': {'audio': 0, 'cache_read': 0}, 'output_token_details': {'audio': 0, 'reasoning': 0}})]}\n"
     ]
    },
    {
     "data": {
      "text/plain": [
       "{'configurable': {'thread_id': '3',\n",
       "  'checkpoint_ns': '',\n",
       "  'checkpoint_id': '1efff68f-c786-68c2-8002-f55b6314daba'}}"
      ]
     },
     "execution_count": 22,
     "metadata": {},
     "output_type": "execute_result"
    }
   ],
   "source": [
    "abot.graph.update_state(thread, current_values.values)"
   ]
  },
  {
   "cell_type": "code",
   "execution_count": 23,
   "id": "6f5c2ff4-8e34-4310-8b18-b2db8082c35f",
   "metadata": {},
   "outputs": [
    {
     "data": {
      "text/plain": [
       "StateSnapshot(values={'messages': [HumanMessage(content='Whats the weather in LA?', additional_kwargs={}, response_metadata={}, id='973e2373-650e-4186-ae67-ff9db2e151c1'), AIMessage(content='', additional_kwargs={'tool_calls': [{'id': 'call_SnkDl5G9guxXyCUKZBQuPTF6', 'function': {'arguments': '{\"query\":\"current weather in Los Angeles\"}', 'name': 'tavily_search_results_json'}, 'type': 'function'}], 'refusal': None}, response_metadata={'token_usage': {'completion_tokens': 23, 'prompt_tokens': 150, 'total_tokens': 173, 'completion_tokens_details': {'accepted_prediction_tokens': 0, 'audio_tokens': 0, 'reasoning_tokens': 0, 'rejected_prediction_tokens': 0}, 'prompt_tokens_details': {'audio_tokens': 0, 'cached_tokens': 0}}, 'model_name': 'gpt-4o-2024-08-06', 'system_fingerprint': 'fp_f9f4fb6dbf', 'finish_reason': 'tool_calls', 'logprobs': None}, id='run-373579b3-a6af-424d-b558-decda7394fc5-0', tool_calls=[{'name': 'tavily_search_results_json', 'args': {'query': 'current weather in Louisiana'}, 'id': 'call_SnkDl5G9guxXyCUKZBQuPTF6', 'type': 'tool_call'}], usage_metadata={'input_tokens': 150, 'output_tokens': 23, 'total_tokens': 173, 'input_token_details': {'audio': 0, 'cache_read': 0}, 'output_token_details': {'audio': 0, 'reasoning': 0}})]}, next=('action',), config={'configurable': {'thread_id': '3', 'checkpoint_ns': '', 'checkpoint_id': '1efff68f-c786-68c2-8002-f55b6314daba'}}, metadata={'source': 'update', 'writes': {'llm': {'messages': [HumanMessage(content='Whats the weather in LA?', additional_kwargs={}, response_metadata={}, id='973e2373-650e-4186-ae67-ff9db2e151c1'), AIMessage(content='', additional_kwargs={'tool_calls': [{'id': 'call_SnkDl5G9guxXyCUKZBQuPTF6', 'function': {'arguments': '{\"query\":\"current weather in Los Angeles\"}', 'name': 'tavily_search_results_json'}, 'type': 'function'}], 'refusal': None}, response_metadata={'token_usage': {'completion_tokens': 23, 'prompt_tokens': 150, 'total_tokens': 173, 'completion_tokens_details': {'accepted_prediction_tokens': 0, 'audio_tokens': 0, 'reasoning_tokens': 0, 'rejected_prediction_tokens': 0}, 'prompt_tokens_details': {'audio_tokens': 0, 'cached_tokens': 0}}, 'model_name': 'gpt-4o-2024-08-06', 'system_fingerprint': 'fp_f9f4fb6dbf', 'finish_reason': 'tool_calls', 'logprobs': None}, id='run-373579b3-a6af-424d-b558-decda7394fc5-0', tool_calls=[{'name': 'tavily_search_results_json', 'args': {'query': 'current weather in Louisiana'}, 'id': 'call_SnkDl5G9guxXyCUKZBQuPTF6', 'type': 'tool_call'}], usage_metadata={'input_tokens': 150, 'output_tokens': 23, 'total_tokens': 173, 'input_token_details': {'audio': 0, 'cache_read': 0}, 'output_token_details': {'audio': 0, 'reasoning': 0}})]}}, 'thread_id': '3', 'step': 2, 'parents': {}}, created_at='2025-03-12T17:39:44.920595+00:00', parent_config={'configurable': {'thread_id': '3', 'checkpoint_ns': '', 'checkpoint_id': '1efff686-0a22-6df9-8001-9f9086bfcf47'}}, tasks=(PregelTask(id='d7b96944-882d-95c4-6c5c-e1040006b1b3', name='action', path=('__pregel_pull', 'action'), error=None, interrupts=(), state=None, result=None),))"
      ]
     },
     "execution_count": 23,
     "metadata": {},
     "output_type": "execute_result"
    }
   ],
   "source": [
    "abot.graph.get_state(thread)"
   ]
  },
  {
   "cell_type": "code",
   "execution_count": 24,
   "id": "4df60e7b-bfb6-4c0b-a749-9ef6bab5f17c",
   "metadata": {
    "scrolled": true
   },
   "outputs": [
    {
     "name": "stdout",
     "output_type": "stream",
     "text": [
      "Calling: {'name': 'tavily_search_results_json', 'args': {'query': 'current weather in Louisiana'}, 'id': 'call_SnkDl5G9guxXyCUKZBQuPTF6', 'type': 'tool_call'}\n",
      "Back to the model!\n",
      "{'messages': [ToolMessage(content='[{\\'url\\': \\'https://www.weatherapi.com/\\', \\'content\\': \"{\\'location\\': {\\'name\\': \\'Louisiana\\', \\'region\\': \\'Missouri\\', \\'country\\': \\'USA United States of America\\', \\'lat\\': 39.4411, \\'lon\\': -91.0551, \\'tz_id\\': \\'America/Chicago\\', \\'localtime_epoch\\': 1741801476, \\'localtime\\': \\'2025-03-12 12:44\\'}, \\'current\\': {\\'last_updated_epoch\\': 1741800600, \\'last_updated\\': \\'2025-03-12 12:30\\', \\'temp_c\\': 14.8, \\'temp_f\\': 58.6, \\'is_day\\': 1, \\'condition\\': {\\'text\\': \\'Sunny\\', \\'icon\\': \\'//cdn.weatherapi.com/weather/64x64/day/113.png\\', \\'code\\': 1000}, \\'wind_mph\\': 2.2, \\'wind_kph\\': 3.6, \\'wind_degree\\': 107, \\'wind_dir\\': \\'ESE\\', \\'pressure_mb\\': 1009.0, \\'pressure_in\\': 29.78, \\'precip_mm\\': 0.0, \\'precip_in\\': 0.0, \\'humidity\\': 45, \\'cloud\\': 0, \\'feelslike_c\\': 15.6, \\'feelslike_f\\': 60.0, \\'windchill_c\\': 14.1, \\'windchill_f\\': 57.4, \\'heatindex_c\\': 14.2, \\'heatindex_f\\': 57.5, \\'dewpoint_c\\': 5.0, \\'dewpoint_f\\': 40.9, \\'vis_km\\': 16.0, \\'vis_miles\\': 9.0, \\'uv\\': 4.3, \\'gust_mph\\': 2.6, \\'gust_kph\\': 4.1}}\"}, {\\'url\\': \\'https://world-weather.info/forecast/usa/new_orleans/march-2025/\\', \\'content\\': \"Weather in New Orleans in March 2025 (Louisiana) - Detailed Weather Forecast for a Month Weather in New Orleans Weather in New Orleans in March 2025 New Orleans Weather Forecast for March 2025 is based on long term prognosis and previous years\\' statistical data. 1 +73°+61° 2 +61°+61° 3 +68°+52° 4 +73°+63° 5 +64°+61° 6 +57°+54° 7 +72°+52° 8 +70°+68° 9 +68°+66° 10 +64°+57° 11 +70°+55° 12 +73°+57° 13 +77°+64° 14 +79°+70° 15 +73°+72° 16 +73°+64° 17 +73°+63° 18 +77°+63° 19 +79°+68° 20 +73°+70° 21 +66°+63° 22 +75°+57° 23 +81°+64° 24 +73°+73° +75°+66° +73°+66° +73°+66° +75°+66° +73°+64° +75°+66° +73°+66° Extended weather forecast in New Orleans Weather in Washington, D.C.+54° Slidell+66° Biloxi+64° Brookhaven+57° Gulfport+66° Hattiesburg+61° McComb+61° Pascagoula+64° Morgan City+64° Bogalusa+63° Franklin+61° Franklinton+63° McVoy+64° world\\'s temperature today Temperature units\"}]', name='tavily_search_results_json', id='25a03f22-9e0b-405b-aa81-6238ee609f9d', tool_call_id='call_SnkDl5G9guxXyCUKZBQuPTF6')]}\n",
      "{'messages': [HumanMessage(content='Whats the weather in LA?', additional_kwargs={}, response_metadata={}, id='973e2373-650e-4186-ae67-ff9db2e151c1'), AIMessage(content='', additional_kwargs={'tool_calls': [{'id': 'call_SnkDl5G9guxXyCUKZBQuPTF6', 'function': {'arguments': '{\"query\":\"current weather in Los Angeles\"}', 'name': 'tavily_search_results_json'}, 'type': 'function'}], 'refusal': None}, response_metadata={'token_usage': {'completion_tokens': 23, 'prompt_tokens': 150, 'total_tokens': 173, 'completion_tokens_details': {'accepted_prediction_tokens': 0, 'audio_tokens': 0, 'reasoning_tokens': 0, 'rejected_prediction_tokens': 0}, 'prompt_tokens_details': {'audio_tokens': 0, 'cached_tokens': 0}}, 'model_name': 'gpt-4o-2024-08-06', 'system_fingerprint': 'fp_f9f4fb6dbf', 'finish_reason': 'tool_calls', 'logprobs': None}, id='run-373579b3-a6af-424d-b558-decda7394fc5-0', tool_calls=[{'name': 'tavily_search_results_json', 'args': {'query': 'current weather in Louisiana'}, 'id': 'call_SnkDl5G9guxXyCUKZBQuPTF6', 'type': 'tool_call'}], usage_metadata={'input_tokens': 150, 'output_tokens': 23, 'total_tokens': 173, 'input_token_details': {'audio': 0, 'cache_read': 0}, 'output_token_details': {'audio': 0, 'reasoning': 0}}), ToolMessage(content='[{\\'url\\': \\'https://www.weatherapi.com/\\', \\'content\\': \"{\\'location\\': {\\'name\\': \\'Louisiana\\', \\'region\\': \\'Missouri\\', \\'country\\': \\'USA United States of America\\', \\'lat\\': 39.4411, \\'lon\\': -91.0551, \\'tz_id\\': \\'America/Chicago\\', \\'localtime_epoch\\': 1741801476, \\'localtime\\': \\'2025-03-12 12:44\\'}, \\'current\\': {\\'last_updated_epoch\\': 1741800600, \\'last_updated\\': \\'2025-03-12 12:30\\', \\'temp_c\\': 14.8, \\'temp_f\\': 58.6, \\'is_day\\': 1, \\'condition\\': {\\'text\\': \\'Sunny\\', \\'icon\\': \\'//cdn.weatherapi.com/weather/64x64/day/113.png\\', \\'code\\': 1000}, \\'wind_mph\\': 2.2, \\'wind_kph\\': 3.6, \\'wind_degree\\': 107, \\'wind_dir\\': \\'ESE\\', \\'pressure_mb\\': 1009.0, \\'pressure_in\\': 29.78, \\'precip_mm\\': 0.0, \\'precip_in\\': 0.0, \\'humidity\\': 45, \\'cloud\\': 0, \\'feelslike_c\\': 15.6, \\'feelslike_f\\': 60.0, \\'windchill_c\\': 14.1, \\'windchill_f\\': 57.4, \\'heatindex_c\\': 14.2, \\'heatindex_f\\': 57.5, \\'dewpoint_c\\': 5.0, \\'dewpoint_f\\': 40.9, \\'vis_km\\': 16.0, \\'vis_miles\\': 9.0, \\'uv\\': 4.3, \\'gust_mph\\': 2.6, \\'gust_kph\\': 4.1}}\"}, {\\'url\\': \\'https://world-weather.info/forecast/usa/new_orleans/march-2025/\\', \\'content\\': \"Weather in New Orleans in March 2025 (Louisiana) - Detailed Weather Forecast for a Month Weather in New Orleans Weather in New Orleans in March 2025 New Orleans Weather Forecast for March 2025 is based on long term prognosis and previous years\\' statistical data. 1 +73°+61° 2 +61°+61° 3 +68°+52° 4 +73°+63° 5 +64°+61° 6 +57°+54° 7 +72°+52° 8 +70°+68° 9 +68°+66° 10 +64°+57° 11 +70°+55° 12 +73°+57° 13 +77°+64° 14 +79°+70° 15 +73°+72° 16 +73°+64° 17 +73°+63° 18 +77°+63° 19 +79°+68° 20 +73°+70° 21 +66°+63° 22 +75°+57° 23 +81°+64° 24 +73°+73° +75°+66° +73°+66° +73°+66° +75°+66° +73°+64° +75°+66° +73°+66° Extended weather forecast in New Orleans Weather in Washington, D.C.+54° Slidell+66° Biloxi+64° Brookhaven+57° Gulfport+66° Hattiesburg+61° McComb+61° Pascagoula+64° Morgan City+64° Bogalusa+63° Franklin+61° Franklinton+63° McVoy+64° world\\'s temperature today Temperature units\"}]', name='tavily_search_results_json', id='25a03f22-9e0b-405b-aa81-6238ee609f9d', tool_call_id='call_SnkDl5G9guxXyCUKZBQuPTF6'), AIMessage(content='', additional_kwargs={'tool_calls': [{'id': 'call_RXKIrgs6PJgIsUlsuZZBxVVo', 'function': {'arguments': '{\"query\":\"current weather in Los Angeles\"}', 'name': 'tavily_search_results_json'}, 'type': 'function'}], 'refusal': None}, response_metadata={'token_usage': {'completion_tokens': 23, 'prompt_tokens': 990, 'total_tokens': 1013, 'completion_tokens_details': {'accepted_prediction_tokens': 0, 'audio_tokens': 0, 'reasoning_tokens': 0, 'rejected_prediction_tokens': 0}, 'prompt_tokens_details': {'audio_tokens': 0, 'cached_tokens': 0}}, 'model_name': 'gpt-4o-2024-08-06', 'system_fingerprint': 'fp_f9f4fb6dbf', 'finish_reason': 'tool_calls', 'logprobs': None}, id='run-08edef9a-318b-4cf6-9bb8-efce3b0c3690-0', tool_calls=[{'name': 'tavily_search_results_json', 'args': {'query': 'current weather in Los Angeles'}, 'id': 'call_RXKIrgs6PJgIsUlsuZZBxVVo', 'type': 'tool_call'}], usage_metadata={'input_tokens': 990, 'output_tokens': 23, 'total_tokens': 1013, 'input_token_details': {'audio': 0, 'cache_read': 0}, 'output_token_details': {'audio': 0, 'reasoning': 0}})]}\n",
      "{'messages': [AIMessage(content='', additional_kwargs={'tool_calls': [{'id': 'call_RXKIrgs6PJgIsUlsuZZBxVVo', 'function': {'arguments': '{\"query\":\"current weather in Los Angeles\"}', 'name': 'tavily_search_results_json'}, 'type': 'function'}], 'refusal': None}, response_metadata={'token_usage': {'completion_tokens': 23, 'prompt_tokens': 990, 'total_tokens': 1013, 'completion_tokens_details': {'accepted_prediction_tokens': 0, 'audio_tokens': 0, 'reasoning_tokens': 0, 'rejected_prediction_tokens': 0}, 'prompt_tokens_details': {'audio_tokens': 0, 'cached_tokens': 0}}, 'model_name': 'gpt-4o-2024-08-06', 'system_fingerprint': 'fp_f9f4fb6dbf', 'finish_reason': 'tool_calls', 'logprobs': None}, id='run-08edef9a-318b-4cf6-9bb8-efce3b0c3690-0', tool_calls=[{'name': 'tavily_search_results_json', 'args': {'query': 'current weather in Los Angeles'}, 'id': 'call_RXKIrgs6PJgIsUlsuZZBxVVo', 'type': 'tool_call'}], usage_metadata={'input_tokens': 990, 'output_tokens': 23, 'total_tokens': 1013, 'input_token_details': {'audio': 0, 'cache_read': 0}, 'output_token_details': {'audio': 0, 'reasoning': 0}})]}\n",
      "()\n"
     ]
    }
   ],
   "source": [
    "for event in abot.graph.stream(None, thread):\n",
    "    for v in event.values():\n",
    "        print(v)"
   ]
  },
  {
   "cell_type": "markdown",
   "id": "c7624cd8-ede9-429d-a568-6046e7ffce73",
   "metadata": {},
   "source": [
    "# Time Travel"
   ]
  },
  {
   "cell_type": "code",
   "execution_count": 25,
   "id": "35f46709-7eb6-4f2d-a590-8aaf80a3209f",
   "metadata": {
    "scrolled": true
   },
   "outputs": [
    {
     "name": "stdout",
     "output_type": "stream",
     "text": [
      "StateSnapshot(values={'messages': [HumanMessage(content='Whats the weather in LA?', additional_kwargs={}, response_metadata={}, id='973e2373-650e-4186-ae67-ff9db2e151c1'), AIMessage(content='', additional_kwargs={'tool_calls': [{'id': 'call_SnkDl5G9guxXyCUKZBQuPTF6', 'function': {'arguments': '{\"query\":\"current weather in Los Angeles\"}', 'name': 'tavily_search_results_json'}, 'type': 'function'}], 'refusal': None}, response_metadata={'token_usage': {'completion_tokens': 23, 'prompt_tokens': 150, 'total_tokens': 173, 'completion_tokens_details': {'accepted_prediction_tokens': 0, 'audio_tokens': 0, 'reasoning_tokens': 0, 'rejected_prediction_tokens': 0}, 'prompt_tokens_details': {'audio_tokens': 0, 'cached_tokens': 0}}, 'model_name': 'gpt-4o-2024-08-06', 'system_fingerprint': 'fp_f9f4fb6dbf', 'finish_reason': 'tool_calls', 'logprobs': None}, id='run-373579b3-a6af-424d-b558-decda7394fc5-0', tool_calls=[{'name': 'tavily_search_results_json', 'args': {'query': 'current weather in Louisiana'}, 'id': 'call_SnkDl5G9guxXyCUKZBQuPTF6', 'type': 'tool_call'}], usage_metadata={'input_tokens': 150, 'output_tokens': 23, 'total_tokens': 173, 'input_token_details': {'audio': 0, 'cache_read': 0}, 'output_token_details': {'audio': 0, 'reasoning': 0}}), ToolMessage(content='[{\\'url\\': \\'https://www.weatherapi.com/\\', \\'content\\': \"{\\'location\\': {\\'name\\': \\'Louisiana\\', \\'region\\': \\'Missouri\\', \\'country\\': \\'USA United States of America\\', \\'lat\\': 39.4411, \\'lon\\': -91.0551, \\'tz_id\\': \\'America/Chicago\\', \\'localtime_epoch\\': 1741801476, \\'localtime\\': \\'2025-03-12 12:44\\'}, \\'current\\': {\\'last_updated_epoch\\': 1741800600, \\'last_updated\\': \\'2025-03-12 12:30\\', \\'temp_c\\': 14.8, \\'temp_f\\': 58.6, \\'is_day\\': 1, \\'condition\\': {\\'text\\': \\'Sunny\\', \\'icon\\': \\'//cdn.weatherapi.com/weather/64x64/day/113.png\\', \\'code\\': 1000}, \\'wind_mph\\': 2.2, \\'wind_kph\\': 3.6, \\'wind_degree\\': 107, \\'wind_dir\\': \\'ESE\\', \\'pressure_mb\\': 1009.0, \\'pressure_in\\': 29.78, \\'precip_mm\\': 0.0, \\'precip_in\\': 0.0, \\'humidity\\': 45, \\'cloud\\': 0, \\'feelslike_c\\': 15.6, \\'feelslike_f\\': 60.0, \\'windchill_c\\': 14.1, \\'windchill_f\\': 57.4, \\'heatindex_c\\': 14.2, \\'heatindex_f\\': 57.5, \\'dewpoint_c\\': 5.0, \\'dewpoint_f\\': 40.9, \\'vis_km\\': 16.0, \\'vis_miles\\': 9.0, \\'uv\\': 4.3, \\'gust_mph\\': 2.6, \\'gust_kph\\': 4.1}}\"}, {\\'url\\': \\'https://world-weather.info/forecast/usa/new_orleans/march-2025/\\', \\'content\\': \"Weather in New Orleans in March 2025 (Louisiana) - Detailed Weather Forecast for a Month Weather in New Orleans Weather in New Orleans in March 2025 New Orleans Weather Forecast for March 2025 is based on long term prognosis and previous years\\' statistical data. 1 +73°+61° 2 +61°+61° 3 +68°+52° 4 +73°+63° 5 +64°+61° 6 +57°+54° 7 +72°+52° 8 +70°+68° 9 +68°+66° 10 +64°+57° 11 +70°+55° 12 +73°+57° 13 +77°+64° 14 +79°+70° 15 +73°+72° 16 +73°+64° 17 +73°+63° 18 +77°+63° 19 +79°+68° 20 +73°+70° 21 +66°+63° 22 +75°+57° 23 +81°+64° 24 +73°+73° +75°+66° +73°+66° +73°+66° +75°+66° +73°+64° +75°+66° +73°+66° Extended weather forecast in New Orleans Weather in Washington, D.C.+54° Slidell+66° Biloxi+64° Brookhaven+57° Gulfport+66° Hattiesburg+61° McComb+61° Pascagoula+64° Morgan City+64° Bogalusa+63° Franklin+61° Franklinton+63° McVoy+64° world\\'s temperature today Temperature units\"}]', name='tavily_search_results_json', id='25a03f22-9e0b-405b-aa81-6238ee609f9d', tool_call_id='call_SnkDl5G9guxXyCUKZBQuPTF6'), AIMessage(content='', additional_kwargs={'tool_calls': [{'id': 'call_RXKIrgs6PJgIsUlsuZZBxVVo', 'function': {'arguments': '{\"query\":\"current weather in Los Angeles\"}', 'name': 'tavily_search_results_json'}, 'type': 'function'}], 'refusal': None}, response_metadata={'token_usage': {'completion_tokens': 23, 'prompt_tokens': 990, 'total_tokens': 1013, 'completion_tokens_details': {'accepted_prediction_tokens': 0, 'audio_tokens': 0, 'reasoning_tokens': 0, 'rejected_prediction_tokens': 0}, 'prompt_tokens_details': {'audio_tokens': 0, 'cached_tokens': 0}}, 'model_name': 'gpt-4o-2024-08-06', 'system_fingerprint': 'fp_f9f4fb6dbf', 'finish_reason': 'tool_calls', 'logprobs': None}, id='run-08edef9a-318b-4cf6-9bb8-efce3b0c3690-0', tool_calls=[{'name': 'tavily_search_results_json', 'args': {'query': 'current weather in Los Angeles'}, 'id': 'call_RXKIrgs6PJgIsUlsuZZBxVVo', 'type': 'tool_call'}], usage_metadata={'input_tokens': 990, 'output_tokens': 23, 'total_tokens': 1013, 'input_token_details': {'audio': 0, 'cache_read': 0}, 'output_token_details': {'audio': 0, 'reasoning': 0}})]}, next=('action',), config={'configurable': {'thread_id': '3', 'checkpoint_ns': '', 'checkpoint_id': '1efff695-8105-6749-8004-4de6dae13de6'}}, metadata={'source': 'loop', 'writes': {'llm': {'messages': [AIMessage(content='', additional_kwargs={'tool_calls': [{'id': 'call_RXKIrgs6PJgIsUlsuZZBxVVo', 'function': {'arguments': '{\"query\":\"current weather in Los Angeles\"}', 'name': 'tavily_search_results_json'}, 'type': 'function'}], 'refusal': None}, response_metadata={'token_usage': {'completion_tokens': 23, 'prompt_tokens': 990, 'total_tokens': 1013, 'completion_tokens_details': {'accepted_prediction_tokens': 0, 'audio_tokens': 0, 'reasoning_tokens': 0, 'rejected_prediction_tokens': 0}, 'prompt_tokens_details': {'audio_tokens': 0, 'cached_tokens': 0}}, 'model_name': 'gpt-4o-2024-08-06', 'system_fingerprint': 'fp_f9f4fb6dbf', 'finish_reason': 'tool_calls', 'logprobs': None}, id='run-08edef9a-318b-4cf6-9bb8-efce3b0c3690-0', tool_calls=[{'name': 'tavily_search_results_json', 'args': {'query': 'current weather in Los Angeles'}, 'id': 'call_RXKIrgs6PJgIsUlsuZZBxVVo', 'type': 'tool_call'}], usage_metadata={'input_tokens': 990, 'output_tokens': 23, 'total_tokens': 1013, 'input_token_details': {'audio': 0, 'cache_read': 0}, 'output_token_details': {'audio': 0, 'reasoning': 0}})]}}, 'thread_id': '3', 'step': 4, 'parents': {}}, created_at='2025-03-12T17:42:18.588960+00:00', parent_config={'configurable': {'thread_id': '3', 'checkpoint_ns': '', 'checkpoint_id': '1efff695-716b-6b26-8003-c725f6af25d8'}}, tasks=(PregelTask(id='5a267034-014f-756e-3138-2d39b326a4b8', name='action', path=('__pregel_pull', 'action'), error=None, interrupts=(), state=None, result=None),))\n",
      "--------\n",
      "StateSnapshot(values={'messages': [HumanMessage(content='Whats the weather in LA?', additional_kwargs={}, response_metadata={}, id='973e2373-650e-4186-ae67-ff9db2e151c1'), AIMessage(content='', additional_kwargs={'tool_calls': [{'id': 'call_SnkDl5G9guxXyCUKZBQuPTF6', 'function': {'arguments': '{\"query\":\"current weather in Los Angeles\"}', 'name': 'tavily_search_results_json'}, 'type': 'function'}], 'refusal': None}, response_metadata={'token_usage': {'completion_tokens': 23, 'prompt_tokens': 150, 'total_tokens': 173, 'completion_tokens_details': {'accepted_prediction_tokens': 0, 'audio_tokens': 0, 'reasoning_tokens': 0, 'rejected_prediction_tokens': 0}, 'prompt_tokens_details': {'audio_tokens': 0, 'cached_tokens': 0}}, 'model_name': 'gpt-4o-2024-08-06', 'system_fingerprint': 'fp_f9f4fb6dbf', 'finish_reason': 'tool_calls', 'logprobs': None}, id='run-373579b3-a6af-424d-b558-decda7394fc5-0', tool_calls=[{'name': 'tavily_search_results_json', 'args': {'query': 'current weather in Louisiana'}, 'id': 'call_SnkDl5G9guxXyCUKZBQuPTF6', 'type': 'tool_call'}], usage_metadata={'input_tokens': 150, 'output_tokens': 23, 'total_tokens': 173, 'input_token_details': {'audio': 0, 'cache_read': 0}, 'output_token_details': {'audio': 0, 'reasoning': 0}}), ToolMessage(content='[{\\'url\\': \\'https://www.weatherapi.com/\\', \\'content\\': \"{\\'location\\': {\\'name\\': \\'Louisiana\\', \\'region\\': \\'Missouri\\', \\'country\\': \\'USA United States of America\\', \\'lat\\': 39.4411, \\'lon\\': -91.0551, \\'tz_id\\': \\'America/Chicago\\', \\'localtime_epoch\\': 1741801476, \\'localtime\\': \\'2025-03-12 12:44\\'}, \\'current\\': {\\'last_updated_epoch\\': 1741800600, \\'last_updated\\': \\'2025-03-12 12:30\\', \\'temp_c\\': 14.8, \\'temp_f\\': 58.6, \\'is_day\\': 1, \\'condition\\': {\\'text\\': \\'Sunny\\', \\'icon\\': \\'//cdn.weatherapi.com/weather/64x64/day/113.png\\', \\'code\\': 1000}, \\'wind_mph\\': 2.2, \\'wind_kph\\': 3.6, \\'wind_degree\\': 107, \\'wind_dir\\': \\'ESE\\', \\'pressure_mb\\': 1009.0, \\'pressure_in\\': 29.78, \\'precip_mm\\': 0.0, \\'precip_in\\': 0.0, \\'humidity\\': 45, \\'cloud\\': 0, \\'feelslike_c\\': 15.6, \\'feelslike_f\\': 60.0, \\'windchill_c\\': 14.1, \\'windchill_f\\': 57.4, \\'heatindex_c\\': 14.2, \\'heatindex_f\\': 57.5, \\'dewpoint_c\\': 5.0, \\'dewpoint_f\\': 40.9, \\'vis_km\\': 16.0, \\'vis_miles\\': 9.0, \\'uv\\': 4.3, \\'gust_mph\\': 2.6, \\'gust_kph\\': 4.1}}\"}, {\\'url\\': \\'https://world-weather.info/forecast/usa/new_orleans/march-2025/\\', \\'content\\': \"Weather in New Orleans in March 2025 (Louisiana) - Detailed Weather Forecast for a Month Weather in New Orleans Weather in New Orleans in March 2025 New Orleans Weather Forecast for March 2025 is based on long term prognosis and previous years\\' statistical data. 1 +73°+61° 2 +61°+61° 3 +68°+52° 4 +73°+63° 5 +64°+61° 6 +57°+54° 7 +72°+52° 8 +70°+68° 9 +68°+66° 10 +64°+57° 11 +70°+55° 12 +73°+57° 13 +77°+64° 14 +79°+70° 15 +73°+72° 16 +73°+64° 17 +73°+63° 18 +77°+63° 19 +79°+68° 20 +73°+70° 21 +66°+63° 22 +75°+57° 23 +81°+64° 24 +73°+73° +75°+66° +73°+66° +73°+66° +75°+66° +73°+64° +75°+66° +73°+66° Extended weather forecast in New Orleans Weather in Washington, D.C.+54° Slidell+66° Biloxi+64° Brookhaven+57° Gulfport+66° Hattiesburg+61° McComb+61° Pascagoula+64° Morgan City+64° Bogalusa+63° Franklin+61° Franklinton+63° McVoy+64° world\\'s temperature today Temperature units\"}]', name='tavily_search_results_json', id='25a03f22-9e0b-405b-aa81-6238ee609f9d', tool_call_id='call_SnkDl5G9guxXyCUKZBQuPTF6')]}, next=('llm',), config={'configurable': {'thread_id': '3', 'checkpoint_ns': '', 'checkpoint_id': '1efff695-716b-6b26-8003-c725f6af25d8'}}, metadata={'source': 'loop', 'writes': {'action': {'messages': [ToolMessage(content='[{\\'url\\': \\'https://www.weatherapi.com/\\', \\'content\\': \"{\\'location\\': {\\'name\\': \\'Louisiana\\', \\'region\\': \\'Missouri\\', \\'country\\': \\'USA United States of America\\', \\'lat\\': 39.4411, \\'lon\\': -91.0551, \\'tz_id\\': \\'America/Chicago\\', \\'localtime_epoch\\': 1741801476, \\'localtime\\': \\'2025-03-12 12:44\\'}, \\'current\\': {\\'last_updated_epoch\\': 1741800600, \\'last_updated\\': \\'2025-03-12 12:30\\', \\'temp_c\\': 14.8, \\'temp_f\\': 58.6, \\'is_day\\': 1, \\'condition\\': {\\'text\\': \\'Sunny\\', \\'icon\\': \\'//cdn.weatherapi.com/weather/64x64/day/113.png\\', \\'code\\': 1000}, \\'wind_mph\\': 2.2, \\'wind_kph\\': 3.6, \\'wind_degree\\': 107, \\'wind_dir\\': \\'ESE\\', \\'pressure_mb\\': 1009.0, \\'pressure_in\\': 29.78, \\'precip_mm\\': 0.0, \\'precip_in\\': 0.0, \\'humidity\\': 45, \\'cloud\\': 0, \\'feelslike_c\\': 15.6, \\'feelslike_f\\': 60.0, \\'windchill_c\\': 14.1, \\'windchill_f\\': 57.4, \\'heatindex_c\\': 14.2, \\'heatindex_f\\': 57.5, \\'dewpoint_c\\': 5.0, \\'dewpoint_f\\': 40.9, \\'vis_km\\': 16.0, \\'vis_miles\\': 9.0, \\'uv\\': 4.3, \\'gust_mph\\': 2.6, \\'gust_kph\\': 4.1}}\"}, {\\'url\\': \\'https://world-weather.info/forecast/usa/new_orleans/march-2025/\\', \\'content\\': \"Weather in New Orleans in March 2025 (Louisiana) - Detailed Weather Forecast for a Month Weather in New Orleans Weather in New Orleans in March 2025 New Orleans Weather Forecast for March 2025 is based on long term prognosis and previous years\\' statistical data. 1 +73°+61° 2 +61°+61° 3 +68°+52° 4 +73°+63° 5 +64°+61° 6 +57°+54° 7 +72°+52° 8 +70°+68° 9 +68°+66° 10 +64°+57° 11 +70°+55° 12 +73°+57° 13 +77°+64° 14 +79°+70° 15 +73°+72° 16 +73°+64° 17 +73°+63° 18 +77°+63° 19 +79°+68° 20 +73°+70° 21 +66°+63° 22 +75°+57° 23 +81°+64° 24 +73°+73° +75°+66° +73°+66° +73°+66° +75°+66° +73°+64° +75°+66° +73°+66° Extended weather forecast in New Orleans Weather in Washington, D.C.+54° Slidell+66° Biloxi+64° Brookhaven+57° Gulfport+66° Hattiesburg+61° McComb+61° Pascagoula+64° Morgan City+64° Bogalusa+63° Franklin+61° Franklinton+63° McVoy+64° world\\'s temperature today Temperature units\"}]', name='tavily_search_results_json', id='25a03f22-9e0b-405b-aa81-6238ee609f9d', tool_call_id='call_SnkDl5G9guxXyCUKZBQuPTF6')]}}, 'thread_id': '3', 'step': 3, 'parents': {}}, created_at='2025-03-12T17:42:16.953117+00:00', parent_config={'configurable': {'thread_id': '3', 'checkpoint_ns': '', 'checkpoint_id': '1efff68f-c786-68c2-8002-f55b6314daba'}}, tasks=(PregelTask(id='7f4581ac-c01c-4511-c340-055b41a0c8c5', name='llm', path=('__pregel_pull', 'llm'), error=None, interrupts=(), state=None, result={'messages': [AIMessage(content='', additional_kwargs={'tool_calls': [{'id': 'call_RXKIrgs6PJgIsUlsuZZBxVVo', 'function': {'arguments': '{\"query\":\"current weather in Los Angeles\"}', 'name': 'tavily_search_results_json'}, 'type': 'function'}], 'refusal': None}, response_metadata={'token_usage': {'completion_tokens': 23, 'prompt_tokens': 990, 'total_tokens': 1013, 'completion_tokens_details': {'accepted_prediction_tokens': 0, 'audio_tokens': 0, 'reasoning_tokens': 0, 'rejected_prediction_tokens': 0}, 'prompt_tokens_details': {'audio_tokens': 0, 'cached_tokens': 0}}, 'model_name': 'gpt-4o-2024-08-06', 'system_fingerprint': 'fp_f9f4fb6dbf', 'finish_reason': 'tool_calls', 'logprobs': None}, id='run-08edef9a-318b-4cf6-9bb8-efce3b0c3690-0', tool_calls=[{'name': 'tavily_search_results_json', 'args': {'query': 'current weather in Los Angeles'}, 'id': 'call_RXKIrgs6PJgIsUlsuZZBxVVo', 'type': 'tool_call'}], usage_metadata={'input_tokens': 990, 'output_tokens': 23, 'total_tokens': 1013, 'input_token_details': {'audio': 0, 'cache_read': 0}, 'output_token_details': {'audio': 0, 'reasoning': 0}})]}),))\n",
      "--------\n",
      "StateSnapshot(values={'messages': [HumanMessage(content='Whats the weather in LA?', additional_kwargs={}, response_metadata={}, id='973e2373-650e-4186-ae67-ff9db2e151c1'), AIMessage(content='', additional_kwargs={'tool_calls': [{'id': 'call_SnkDl5G9guxXyCUKZBQuPTF6', 'function': {'arguments': '{\"query\":\"current weather in Los Angeles\"}', 'name': 'tavily_search_results_json'}, 'type': 'function'}], 'refusal': None}, response_metadata={'token_usage': {'completion_tokens': 23, 'prompt_tokens': 150, 'total_tokens': 173, 'completion_tokens_details': {'accepted_prediction_tokens': 0, 'audio_tokens': 0, 'reasoning_tokens': 0, 'rejected_prediction_tokens': 0}, 'prompt_tokens_details': {'audio_tokens': 0, 'cached_tokens': 0}}, 'model_name': 'gpt-4o-2024-08-06', 'system_fingerprint': 'fp_f9f4fb6dbf', 'finish_reason': 'tool_calls', 'logprobs': None}, id='run-373579b3-a6af-424d-b558-decda7394fc5-0', tool_calls=[{'name': 'tavily_search_results_json', 'args': {'query': 'current weather in Louisiana'}, 'id': 'call_SnkDl5G9guxXyCUKZBQuPTF6', 'type': 'tool_call'}], usage_metadata={'input_tokens': 150, 'output_tokens': 23, 'total_tokens': 173, 'input_token_details': {'audio': 0, 'cache_read': 0}, 'output_token_details': {'audio': 0, 'reasoning': 0}})]}, next=('action',), config={'configurable': {'thread_id': '3', 'checkpoint_ns': '', 'checkpoint_id': '1efff68f-c786-68c2-8002-f55b6314daba'}}, metadata={'source': 'update', 'writes': {'llm': {'messages': [HumanMessage(content='Whats the weather in LA?', additional_kwargs={}, response_metadata={}, id='973e2373-650e-4186-ae67-ff9db2e151c1'), AIMessage(content='', additional_kwargs={'tool_calls': [{'id': 'call_SnkDl5G9guxXyCUKZBQuPTF6', 'function': {'arguments': '{\"query\":\"current weather in Los Angeles\"}', 'name': 'tavily_search_results_json'}, 'type': 'function'}], 'refusal': None}, response_metadata={'token_usage': {'completion_tokens': 23, 'prompt_tokens': 150, 'total_tokens': 173, 'completion_tokens_details': {'accepted_prediction_tokens': 0, 'audio_tokens': 0, 'reasoning_tokens': 0, 'rejected_prediction_tokens': 0}, 'prompt_tokens_details': {'audio_tokens': 0, 'cached_tokens': 0}}, 'model_name': 'gpt-4o-2024-08-06', 'system_fingerprint': 'fp_f9f4fb6dbf', 'finish_reason': 'tool_calls', 'logprobs': None}, id='run-373579b3-a6af-424d-b558-decda7394fc5-0', tool_calls=[{'name': 'tavily_search_results_json', 'args': {'query': 'current weather in Louisiana'}, 'id': 'call_SnkDl5G9guxXyCUKZBQuPTF6', 'type': 'tool_call'}], usage_metadata={'input_tokens': 150, 'output_tokens': 23, 'total_tokens': 173, 'input_token_details': {'audio': 0, 'cache_read': 0}, 'output_token_details': {'audio': 0, 'reasoning': 0}})]}}, 'thread_id': '3', 'step': 2, 'parents': {}}, created_at='2025-03-12T17:39:44.920595+00:00', parent_config={'configurable': {'thread_id': '3', 'checkpoint_ns': '', 'checkpoint_id': '1efff686-0a22-6df9-8001-9f9086bfcf47'}}, tasks=(PregelTask(id='d7b96944-882d-95c4-6c5c-e1040006b1b3', name='action', path=('__pregel_pull', 'action'), error=None, interrupts=(), state=None, result={'messages': [ToolMessage(content='[{\\'url\\': \\'https://www.weatherapi.com/\\', \\'content\\': \"{\\'location\\': {\\'name\\': \\'Louisiana\\', \\'region\\': \\'Missouri\\', \\'country\\': \\'USA United States of America\\', \\'lat\\': 39.4411, \\'lon\\': -91.0551, \\'tz_id\\': \\'America/Chicago\\', \\'localtime_epoch\\': 1741801476, \\'localtime\\': \\'2025-03-12 12:44\\'}, \\'current\\': {\\'last_updated_epoch\\': 1741800600, \\'last_updated\\': \\'2025-03-12 12:30\\', \\'temp_c\\': 14.8, \\'temp_f\\': 58.6, \\'is_day\\': 1, \\'condition\\': {\\'text\\': \\'Sunny\\', \\'icon\\': \\'//cdn.weatherapi.com/weather/64x64/day/113.png\\', \\'code\\': 1000}, \\'wind_mph\\': 2.2, \\'wind_kph\\': 3.6, \\'wind_degree\\': 107, \\'wind_dir\\': \\'ESE\\', \\'pressure_mb\\': 1009.0, \\'pressure_in\\': 29.78, \\'precip_mm\\': 0.0, \\'precip_in\\': 0.0, \\'humidity\\': 45, \\'cloud\\': 0, \\'feelslike_c\\': 15.6, \\'feelslike_f\\': 60.0, \\'windchill_c\\': 14.1, \\'windchill_f\\': 57.4, \\'heatindex_c\\': 14.2, \\'heatindex_f\\': 57.5, \\'dewpoint_c\\': 5.0, \\'dewpoint_f\\': 40.9, \\'vis_km\\': 16.0, \\'vis_miles\\': 9.0, \\'uv\\': 4.3, \\'gust_mph\\': 2.6, \\'gust_kph\\': 4.1}}\"}, {\\'url\\': \\'https://world-weather.info/forecast/usa/new_orleans/march-2025/\\', \\'content\\': \"Weather in New Orleans in March 2025 (Louisiana) - Detailed Weather Forecast for a Month Weather in New Orleans Weather in New Orleans in March 2025 New Orleans Weather Forecast for March 2025 is based on long term prognosis and previous years\\' statistical data. 1 +73°+61° 2 +61°+61° 3 +68°+52° 4 +73°+63° 5 +64°+61° 6 +57°+54° 7 +72°+52° 8 +70°+68° 9 +68°+66° 10 +64°+57° 11 +70°+55° 12 +73°+57° 13 +77°+64° 14 +79°+70° 15 +73°+72° 16 +73°+64° 17 +73°+63° 18 +77°+63° 19 +79°+68° 20 +73°+70° 21 +66°+63° 22 +75°+57° 23 +81°+64° 24 +73°+73° +75°+66° +73°+66° +73°+66° +75°+66° +73°+64° +75°+66° +73°+66° Extended weather forecast in New Orleans Weather in Washington, D.C.+54° Slidell+66° Biloxi+64° Brookhaven+57° Gulfport+66° Hattiesburg+61° McComb+61° Pascagoula+64° Morgan City+64° Bogalusa+63° Franklin+61° Franklinton+63° McVoy+64° world\\'s temperature today Temperature units\"}]', name='tavily_search_results_json', tool_call_id='call_SnkDl5G9guxXyCUKZBQuPTF6')]}),))\n",
      "--------\n",
      "StateSnapshot(values={'messages': [HumanMessage(content='Whats the weather in LA?', additional_kwargs={}, response_metadata={}, id='973e2373-650e-4186-ae67-ff9db2e151c1'), AIMessage(content='', additional_kwargs={'tool_calls': [{'id': 'call_SnkDl5G9guxXyCUKZBQuPTF6', 'function': {'arguments': '{\"query\":\"current weather in Los Angeles\"}', 'name': 'tavily_search_results_json'}, 'type': 'function'}], 'refusal': None}, response_metadata={'token_usage': {'completion_tokens': 23, 'prompt_tokens': 150, 'total_tokens': 173, 'completion_tokens_details': {'accepted_prediction_tokens': 0, 'audio_tokens': 0, 'reasoning_tokens': 0, 'rejected_prediction_tokens': 0}, 'prompt_tokens_details': {'audio_tokens': 0, 'cached_tokens': 0}}, 'model_name': 'gpt-4o-2024-08-06', 'system_fingerprint': 'fp_f9f4fb6dbf', 'finish_reason': 'tool_calls', 'logprobs': None}, id='run-373579b3-a6af-424d-b558-decda7394fc5-0', tool_calls=[{'name': 'tavily_search_results_json', 'args': {'query': 'current weather in Los Angeles'}, 'id': 'call_SnkDl5G9guxXyCUKZBQuPTF6', 'type': 'tool_call'}], usage_metadata={'input_tokens': 150, 'output_tokens': 23, 'total_tokens': 173, 'input_token_details': {'audio': 0, 'cache_read': 0}, 'output_token_details': {'audio': 0, 'reasoning': 0}})]}, next=('action',), config={'configurable': {'thread_id': '3', 'checkpoint_ns': '', 'checkpoint_id': '1efff686-0a22-6df9-8001-9f9086bfcf47'}}, metadata={'source': 'loop', 'writes': {'llm': {'messages': [AIMessage(content='', additional_kwargs={'tool_calls': [{'id': 'call_SnkDl5G9guxXyCUKZBQuPTF6', 'function': {'arguments': '{\"query\":\"current weather in Los Angeles\"}', 'name': 'tavily_search_results_json'}, 'type': 'function'}], 'refusal': None}, response_metadata={'token_usage': {'completion_tokens': 23, 'prompt_tokens': 150, 'total_tokens': 173, 'completion_tokens_details': {'accepted_prediction_tokens': 0, 'audio_tokens': 0, 'reasoning_tokens': 0, 'rejected_prediction_tokens': 0}, 'prompt_tokens_details': {'audio_tokens': 0, 'cached_tokens': 0}}, 'model_name': 'gpt-4o-2024-08-06', 'system_fingerprint': 'fp_f9f4fb6dbf', 'finish_reason': 'tool_calls', 'logprobs': None}, id='run-373579b3-a6af-424d-b558-decda7394fc5-0', tool_calls=[{'name': 'tavily_search_results_json', 'args': {'query': 'current weather in Los Angeles'}, 'id': 'call_SnkDl5G9guxXyCUKZBQuPTF6', 'type': 'tool_call'}], usage_metadata={'input_tokens': 150, 'output_tokens': 23, 'total_tokens': 173, 'input_token_details': {'audio': 0, 'cache_read': 0}, 'output_token_details': {'audio': 0, 'reasoning': 0}})]}}, 'thread_id': '3', 'step': 1, 'parents': {}}, created_at='2025-03-12T17:35:23.469772+00:00', parent_config={'configurable': {'thread_id': '3', 'checkpoint_ns': '', 'checkpoint_id': '1efff685-fa38-68a8-8000-ec6f82709914'}}, tasks=(PregelTask(id='f97c3e6e-7637-8f46-78e4-37fa24656bda', name='action', path=('__pregel_pull', 'action'), error=None, interrupts=(), state=None, result=None),))\n",
      "--------\n",
      "StateSnapshot(values={'messages': [HumanMessage(content='Whats the weather in LA?', additional_kwargs={}, response_metadata={}, id='973e2373-650e-4186-ae67-ff9db2e151c1')]}, next=('llm',), config={'configurable': {'thread_id': '3', 'checkpoint_ns': '', 'checkpoint_id': '1efff685-fa38-68a8-8000-ec6f82709914'}}, metadata={'source': 'loop', 'writes': None, 'thread_id': '3', 'step': 0, 'parents': {}}, created_at='2025-03-12T17:35:21.800925+00:00', parent_config={'configurable': {'thread_id': '3', 'checkpoint_ns': '', 'checkpoint_id': '1efff685-fa34-61a2-bfff-314c6910991b'}}, tasks=(PregelTask(id='12315bc8-b73e-502c-4f42-cbfc5f63c0ad', name='llm', path=('__pregel_pull', 'llm'), error=None, interrupts=(), state=None, result={'messages': [AIMessage(content='', additional_kwargs={'tool_calls': [{'id': 'call_SnkDl5G9guxXyCUKZBQuPTF6', 'function': {'arguments': '{\"query\":\"current weather in Los Angeles\"}', 'name': 'tavily_search_results_json'}, 'type': 'function'}], 'refusal': None}, response_metadata={'token_usage': {'completion_tokens': 23, 'prompt_tokens': 150, 'total_tokens': 173, 'completion_tokens_details': {'accepted_prediction_tokens': 0, 'audio_tokens': 0, 'reasoning_tokens': 0, 'rejected_prediction_tokens': 0}, 'prompt_tokens_details': {'audio_tokens': 0, 'cached_tokens': 0}}, 'model_name': 'gpt-4o-2024-08-06', 'system_fingerprint': 'fp_f9f4fb6dbf', 'finish_reason': 'tool_calls', 'logprobs': None}, id='run-373579b3-a6af-424d-b558-decda7394fc5-0', tool_calls=[{'name': 'tavily_search_results_json', 'args': {'query': 'current weather in Los Angeles'}, 'id': 'call_SnkDl5G9guxXyCUKZBQuPTF6', 'type': 'tool_call'}], usage_metadata={'input_tokens': 150, 'output_tokens': 23, 'total_tokens': 173, 'input_token_details': {'audio': 0, 'cache_read': 0}, 'output_token_details': {'audio': 0, 'reasoning': 0}})]}),))\n",
      "--------\n",
      "StateSnapshot(values={'messages': []}, next=('__start__',), config={'configurable': {'thread_id': '3', 'checkpoint_ns': '', 'checkpoint_id': '1efff685-fa34-61a2-bfff-314c6910991b'}}, metadata={'source': 'input', 'writes': {'__start__': {'messages': [HumanMessage(content='Whats the weather in LA?', additional_kwargs={}, response_metadata={})]}}, 'thread_id': '3', 'step': -1, 'parents': {}}, created_at='2025-03-12T17:35:21.799107+00:00', parent_config=None, tasks=(PregelTask(id='ad191a0a-4d7d-9571-cf83-f4fa33141b59', name='__start__', path=('__pregel_pull', '__start__'), error=None, interrupts=(), state=None, result={'messages': [HumanMessage(content='Whats the weather in LA?', additional_kwargs={}, response_metadata={}, id='973e2373-650e-4186-ae67-ff9db2e151c1')]}),))\n",
      "--------\n"
     ]
    }
   ],
   "source": [
    "states = []\n",
    "for state in abot.graph.get_state_history(thread):\n",
    "    print(state)\n",
    "    print('--------')\n",
    "    states.append(state)"
   ]
  },
  {
   "cell_type": "code",
   "execution_count": 26,
   "id": "7b06e89c-3809-49c1-afff-82c356a854da",
   "metadata": {},
   "outputs": [],
   "source": [
    "to_replay = states[-3]"
   ]
  },
  {
   "cell_type": "code",
   "execution_count": 27,
   "id": "43ce32cf-7c79-427f-81cf-807f74dddd85",
   "metadata": {},
   "outputs": [
    {
     "data": {
      "text/plain": [
       "StateSnapshot(values={'messages': [HumanMessage(content='Whats the weather in LA?', additional_kwargs={}, response_metadata={}, id='973e2373-650e-4186-ae67-ff9db2e151c1'), AIMessage(content='', additional_kwargs={'tool_calls': [{'id': 'call_SnkDl5G9guxXyCUKZBQuPTF6', 'function': {'arguments': '{\"query\":\"current weather in Los Angeles\"}', 'name': 'tavily_search_results_json'}, 'type': 'function'}], 'refusal': None}, response_metadata={'token_usage': {'completion_tokens': 23, 'prompt_tokens': 150, 'total_tokens': 173, 'completion_tokens_details': {'accepted_prediction_tokens': 0, 'audio_tokens': 0, 'reasoning_tokens': 0, 'rejected_prediction_tokens': 0}, 'prompt_tokens_details': {'audio_tokens': 0, 'cached_tokens': 0}}, 'model_name': 'gpt-4o-2024-08-06', 'system_fingerprint': 'fp_f9f4fb6dbf', 'finish_reason': 'tool_calls', 'logprobs': None}, id='run-373579b3-a6af-424d-b558-decda7394fc5-0', tool_calls=[{'name': 'tavily_search_results_json', 'args': {'query': 'current weather in Los Angeles'}, 'id': 'call_SnkDl5G9guxXyCUKZBQuPTF6', 'type': 'tool_call'}], usage_metadata={'input_tokens': 150, 'output_tokens': 23, 'total_tokens': 173, 'input_token_details': {'audio': 0, 'cache_read': 0}, 'output_token_details': {'audio': 0, 'reasoning': 0}})]}, next=('action',), config={'configurable': {'thread_id': '3', 'checkpoint_ns': '', 'checkpoint_id': '1efff686-0a22-6df9-8001-9f9086bfcf47'}}, metadata={'source': 'loop', 'writes': {'llm': {'messages': [AIMessage(content='', additional_kwargs={'tool_calls': [{'id': 'call_SnkDl5G9guxXyCUKZBQuPTF6', 'function': {'arguments': '{\"query\":\"current weather in Los Angeles\"}', 'name': 'tavily_search_results_json'}, 'type': 'function'}], 'refusal': None}, response_metadata={'token_usage': {'completion_tokens': 23, 'prompt_tokens': 150, 'total_tokens': 173, 'completion_tokens_details': {'accepted_prediction_tokens': 0, 'audio_tokens': 0, 'reasoning_tokens': 0, 'rejected_prediction_tokens': 0}, 'prompt_tokens_details': {'audio_tokens': 0, 'cached_tokens': 0}}, 'model_name': 'gpt-4o-2024-08-06', 'system_fingerprint': 'fp_f9f4fb6dbf', 'finish_reason': 'tool_calls', 'logprobs': None}, id='run-373579b3-a6af-424d-b558-decda7394fc5-0', tool_calls=[{'name': 'tavily_search_results_json', 'args': {'query': 'current weather in Los Angeles'}, 'id': 'call_SnkDl5G9guxXyCUKZBQuPTF6', 'type': 'tool_call'}], usage_metadata={'input_tokens': 150, 'output_tokens': 23, 'total_tokens': 173, 'input_token_details': {'audio': 0, 'cache_read': 0}, 'output_token_details': {'audio': 0, 'reasoning': 0}})]}}, 'thread_id': '3', 'step': 1, 'parents': {}}, created_at='2025-03-12T17:35:23.469772+00:00', parent_config={'configurable': {'thread_id': '3', 'checkpoint_ns': '', 'checkpoint_id': '1efff685-fa38-68a8-8000-ec6f82709914'}}, tasks=(PregelTask(id='f97c3e6e-7637-8f46-78e4-37fa24656bda', name='action', path=('__pregel_pull', 'action'), error=None, interrupts=(), state=None, result=None),))"
      ]
     },
     "execution_count": 27,
     "metadata": {},
     "output_type": "execute_result"
    }
   ],
   "source": [
    "to_replay"
   ]
  },
  {
   "cell_type": "code",
   "execution_count": 28,
   "id": "fd63bb4a-b942-44d0-88a3-5ac186a56129",
   "metadata": {
    "scrolled": true
   },
   "outputs": [
    {
     "name": "stdout",
     "output_type": "stream",
     "text": [
      "Calling: {'name': 'tavily_search_results_json', 'args': {'query': 'current weather in Los Angeles'}, 'id': 'call_SnkDl5G9guxXyCUKZBQuPTF6', 'type': 'tool_call'}\n",
      "Back to the model!\n",
      "{'messages': [ToolMessage(content='[{\\'url\\': \\'https://www.weatherapi.com/\\', \\'content\\': \"{\\'location\\': {\\'name\\': \\'Los Angeles\\', \\'region\\': \\'California\\', \\'country\\': \\'United States of America\\', \\'lat\\': 34.0522, \\'lon\\': -118.2428, \\'tz_id\\': \\'America/Los_Angeles\\', \\'localtime_epoch\\': 1741800867, \\'localtime\\': \\'2025-03-12 10:34\\'}, \\'current\\': {\\'last_updated_epoch\\': 1741800600, \\'last_updated\\': \\'2025-03-12 10:30\\', \\'temp_c\\': 13.9, \\'temp_f\\': 57.0, \\'is_day\\': 1, \\'condition\\': {\\'text\\': \\'Light rain\\', \\'icon\\': \\'//cdn.weatherapi.com/weather/64x64/day/296.png\\', \\'code\\': 1183}, \\'wind_mph\\': 10.1, \\'wind_kph\\': 16.2, \\'wind_degree\\': 127, \\'wind_dir\\': \\'SE\\', \\'pressure_mb\\': 1016.0, \\'pressure_in\\': 30.01, \\'precip_mm\\': 0.0, \\'precip_in\\': 0.0, \\'humidity\\': 93, \\'cloud\\': 100, \\'feelslike_c\\': 12.6, \\'feelslike_f\\': 54.7, \\'windchill_c\\': 12.1, \\'windchill_f\\': 53.7, \\'heatindex_c\\': 12.9, \\'heatindex_f\\': 55.3, \\'dewpoint_c\\': 10.2, \\'dewpoint_f\\': 50.4, \\'vis_km\\': 4.8, \\'vis_miles\\': 2.0, \\'uv\\': 1.8, \\'gust_mph\\': 12.4, \\'gust_kph\\': 19.9}}\"}, {\\'url\\': \\'https://world-weather.info/forecast/usa/los_angeles/march-2025/\\', \\'content\\': \"Weather in Los Angeles in March 2025 (California) - Detailed Weather Forecast for a Month Weather in Los Angeles Weather in Los Angeles in March 2025 1 +59°+55° 2 +57°+54° 3 +61°+46° 4 +61°+52° 5 +54°+50° 6 +48°+46° 7 +64°+45° 8 +64°+46° 9 +70°+46° 10 +66°+50° 11 +57°+54° 12 +61°+54° 13 +59°+54° 14 +52°+45° 15 +64°+50° 16 +72°+48° 17 +63°+54° 18 +64°+52° 19 +68°+48° 20 +70°+50° 21 +68°+52° 22 +61°+55° 23 +59°+57° 24 +61°+54° 25 +63°+59° 26 +64°+57° 27 +66°+64° +66°+55° +66°+55° +66°+55° +66°+57° Extended weather forecast in Los Angeles Weather in Washington, D.C.+50° Sacramento+54° Norwalk+57° Pasadena+52° Rosemead+54° Inglewood+54° Bellflower+57° Burbank+54° Compton+55° Pearblossom+43° Cornell+52° world\\'s temperature today Weather forecast on your site Install Los Angeles+55° Temperature units\"}]', name='tavily_search_results_json', id='5f76366e-54a8-467a-9315-b0fccba66d66', tool_call_id='call_SnkDl5G9guxXyCUKZBQuPTF6')]}\n",
      "{'messages': [HumanMessage(content='Whats the weather in LA?', additional_kwargs={}, response_metadata={}, id='973e2373-650e-4186-ae67-ff9db2e151c1'), AIMessage(content='', additional_kwargs={'tool_calls': [{'id': 'call_SnkDl5G9guxXyCUKZBQuPTF6', 'function': {'arguments': '{\"query\":\"current weather in Los Angeles\"}', 'name': 'tavily_search_results_json'}, 'type': 'function'}], 'refusal': None}, response_metadata={'token_usage': {'completion_tokens': 23, 'prompt_tokens': 150, 'total_tokens': 173, 'completion_tokens_details': {'accepted_prediction_tokens': 0, 'audio_tokens': 0, 'reasoning_tokens': 0, 'rejected_prediction_tokens': 0}, 'prompt_tokens_details': {'audio_tokens': 0, 'cached_tokens': 0}}, 'model_name': 'gpt-4o-2024-08-06', 'system_fingerprint': 'fp_f9f4fb6dbf', 'finish_reason': 'tool_calls', 'logprobs': None}, id='run-373579b3-a6af-424d-b558-decda7394fc5-0', tool_calls=[{'name': 'tavily_search_results_json', 'args': {'query': 'current weather in Los Angeles'}, 'id': 'call_SnkDl5G9guxXyCUKZBQuPTF6', 'type': 'tool_call'}], usage_metadata={'input_tokens': 150, 'output_tokens': 23, 'total_tokens': 173, 'input_token_details': {'audio': 0, 'cache_read': 0}, 'output_token_details': {'audio': 0, 'reasoning': 0}}), ToolMessage(content='[{\\'url\\': \\'https://www.weatherapi.com/\\', \\'content\\': \"{\\'location\\': {\\'name\\': \\'Los Angeles\\', \\'region\\': \\'California\\', \\'country\\': \\'United States of America\\', \\'lat\\': 34.0522, \\'lon\\': -118.2428, \\'tz_id\\': \\'America/Los_Angeles\\', \\'localtime_epoch\\': 1741800867, \\'localtime\\': \\'2025-03-12 10:34\\'}, \\'current\\': {\\'last_updated_epoch\\': 1741800600, \\'last_updated\\': \\'2025-03-12 10:30\\', \\'temp_c\\': 13.9, \\'temp_f\\': 57.0, \\'is_day\\': 1, \\'condition\\': {\\'text\\': \\'Light rain\\', \\'icon\\': \\'//cdn.weatherapi.com/weather/64x64/day/296.png\\', \\'code\\': 1183}, \\'wind_mph\\': 10.1, \\'wind_kph\\': 16.2, \\'wind_degree\\': 127, \\'wind_dir\\': \\'SE\\', \\'pressure_mb\\': 1016.0, \\'pressure_in\\': 30.01, \\'precip_mm\\': 0.0, \\'precip_in\\': 0.0, \\'humidity\\': 93, \\'cloud\\': 100, \\'feelslike_c\\': 12.6, \\'feelslike_f\\': 54.7, \\'windchill_c\\': 12.1, \\'windchill_f\\': 53.7, \\'heatindex_c\\': 12.9, \\'heatindex_f\\': 55.3, \\'dewpoint_c\\': 10.2, \\'dewpoint_f\\': 50.4, \\'vis_km\\': 4.8, \\'vis_miles\\': 2.0, \\'uv\\': 1.8, \\'gust_mph\\': 12.4, \\'gust_kph\\': 19.9}}\"}, {\\'url\\': \\'https://world-weather.info/forecast/usa/los_angeles/march-2025/\\', \\'content\\': \"Weather in Los Angeles in March 2025 (California) - Detailed Weather Forecast for a Month Weather in Los Angeles Weather in Los Angeles in March 2025 1 +59°+55° 2 +57°+54° 3 +61°+46° 4 +61°+52° 5 +54°+50° 6 +48°+46° 7 +64°+45° 8 +64°+46° 9 +70°+46° 10 +66°+50° 11 +57°+54° 12 +61°+54° 13 +59°+54° 14 +52°+45° 15 +64°+50° 16 +72°+48° 17 +63°+54° 18 +64°+52° 19 +68°+48° 20 +70°+50° 21 +68°+52° 22 +61°+55° 23 +59°+57° 24 +61°+54° 25 +63°+59° 26 +64°+57° 27 +66°+64° +66°+55° +66°+55° +66°+55° +66°+57° Extended weather forecast in Los Angeles Weather in Washington, D.C.+50° Sacramento+54° Norwalk+57° Pasadena+52° Rosemead+54° Inglewood+54° Bellflower+57° Burbank+54° Compton+55° Pearblossom+43° Cornell+52° world\\'s temperature today Weather forecast on your site Install Los Angeles+55° Temperature units\"}]', name='tavily_search_results_json', id='5f76366e-54a8-467a-9315-b0fccba66d66', tool_call_id='call_SnkDl5G9guxXyCUKZBQuPTF6'), AIMessage(content='The current weather in Los Angeles is light rain with a temperature of 13.9°C (57.0°F). The wind is blowing from the southeast at 10.1 mph (16.2 kph). The humidity level is 93%, and it is quite cloudy with 100% cloud cover. The visibility is 4.8 km (2.0 miles), and the UV index is 1.8.', additional_kwargs={'refusal': None}, response_metadata={'token_usage': {'completion_tokens': 89, 'prompt_tokens': 973, 'total_tokens': 1062, 'completion_tokens_details': {'accepted_prediction_tokens': 0, 'audio_tokens': 0, 'reasoning_tokens': 0, 'rejected_prediction_tokens': 0}, 'prompt_tokens_details': {'audio_tokens': 0, 'cached_tokens': 0}}, 'model_name': 'gpt-4o-2024-08-06', 'system_fingerprint': 'fp_f9f4fb6dbf', 'finish_reason': 'stop', 'logprobs': None}, id='run-988a74f0-0ca0-4a1c-b9fa-bc5282d939d4-0', usage_metadata={'input_tokens': 973, 'output_tokens': 89, 'total_tokens': 1062, 'input_token_details': {'audio': 0, 'cache_read': 0}, 'output_token_details': {'audio': 0, 'reasoning': 0}})]}\n",
      "{'messages': [AIMessage(content='The current weather in Los Angeles is light rain with a temperature of 13.9°C (57.0°F). The wind is blowing from the southeast at 10.1 mph (16.2 kph). The humidity level is 93%, and it is quite cloudy with 100% cloud cover. The visibility is 4.8 km (2.0 miles), and the UV index is 1.8.', additional_kwargs={'refusal': None}, response_metadata={'token_usage': {'completion_tokens': 89, 'prompt_tokens': 973, 'total_tokens': 1062, 'completion_tokens_details': {'accepted_prediction_tokens': 0, 'audio_tokens': 0, 'reasoning_tokens': 0, 'rejected_prediction_tokens': 0}, 'prompt_tokens_details': {'audio_tokens': 0, 'cached_tokens': 0}}, 'model_name': 'gpt-4o-2024-08-06', 'system_fingerprint': 'fp_f9f4fb6dbf', 'finish_reason': 'stop', 'logprobs': None}, id='run-988a74f0-0ca0-4a1c-b9fa-bc5282d939d4-0', usage_metadata={'input_tokens': 973, 'output_tokens': 89, 'total_tokens': 1062, 'input_token_details': {'audio': 0, 'cache_read': 0}, 'output_token_details': {'audio': 0, 'reasoning': 0}})]}\n"
     ]
    }
   ],
   "source": [
    "for event in abot.graph.stream(None, to_replay.config):\n",
    "    for k, v in event.items():\n",
    "        print(v)"
   ]
  },
  {
   "cell_type": "code",
   "execution_count": null,
   "id": "862d9786-0e07-413d-854e-32580c3e6068",
   "metadata": {},
   "outputs": [],
   "source": []
  }
 ],
 "metadata": {
  "kernelspec": {
   "display_name": "Python 3 (ipykernel)",
   "language": "python",
   "name": "python3"
  },
  "language_info": {
   "codemirror_mode": {
    "name": "ipython",
    "version": 3
   },
   "file_extension": ".py",
   "mimetype": "text/x-python",
   "name": "python",
   "nbconvert_exporter": "python",
   "pygments_lexer": "ipython3",
   "version": "3.11.0"
  }
 },
 "nbformat": 4,
 "nbformat_minor": 5
}
