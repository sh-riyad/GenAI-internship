{
 "cells": [
  {
   "cell_type": "code",
   "execution_count": 1,
   "id": "ccab0c19-fe1e-4579-86c0-f0c56fc177c1",
   "metadata": {},
   "outputs": [
    {
     "name": "stdout",
     "output_type": "stream",
     "text": [
      "Note: you may need to restart the kernel to use updated packages.\n"
     ]
    },
    {
     "name": "stderr",
     "output_type": "stream",
     "text": [
      "\n",
      "[notice] A new release of pip available: 22.3 -> 25.0.1\n",
      "[notice] To update, run: C:\\Users\\saraw\\AppData\\Local\\Programs\\Python\\Python311\\python.exe -m pip install --upgrade pip\n"
     ]
    }
   ],
   "source": [
    "pip install -q openai python-dotenv langsmith"
   ]
  },
  {
   "cell_type": "code",
   "execution_count": 2,
   "id": "9065c1af-d7cb-425a-b4df-7764502c2833",
   "metadata": {},
   "outputs": [],
   "source": [
    "import os\n",
    "from dotenv import load_dotenv\n",
    "load_dotenv()\n",
    "\n",
    "os.environ[\"OPENAI_API_KEY\"] = os.getenv(\"OPENAI_API_KEY\")\n",
    "os.environ[\"LANGCHAIN_API_KEY\"]=os.getenv(\"LANGCHAIN_API_KEY\")\n",
    "os.environ[\"LANGCHAIN_TRACING_V2\"]=os.getenv(\"LANGCHAIN_TRACING_V2\")\n",
    "os.environ[\"LANGCHAIN_PROJECT\"]=os.getenv(\"LANGCHAIN_PROJECT\")"
   ]
  },
  {
   "cell_type": "code",
   "execution_count": 8,
   "id": "f54c15ee-16d7-4d37-aabe-c4b3ef0519e2",
   "metadata": {},
   "outputs": [],
   "source": [
    "from openai import OpenAI\n",
    "from langsmith import wrappers, traceable\n",
    "import base64\n",
    "\n",
    "client = wrappers.wrap_openai(OpenAI())\n",
    "\n",
    "with open(\"vasculitis-101.jpg\", \"rb\") as image_file:\n",
    "    base64_image = base64.b64encode(image_file.read()).decode(\"utf-8\")"
   ]
  },
  {
   "cell_type": "code",
   "execution_count": 12,
   "id": "93f69391-b4b1-4323-a1e9-1db2bb717832",
   "metadata": {},
   "outputs": [],
   "source": [
    "@traceable\n",
    "def pipeline(image_base64):\n",
    "    response = client.chat.completions.create(\n",
    "        model=\"gpt-4o\",\n",
    "        messages=[\n",
    "            {\n",
    "                \"role\": \"system\",\n",
    "                \"content\": (\n",
    "                    \"You are a highly experienced dermatology assistant. \"\n",
    "                    \"Given an image of a skin condition, your task is to identify the most likely diagnosis, \"\n",
    "                    \"explain the reasoning briefly, and if applicable, suggest differential diagnoses.\"\n",
    "                ),\n",
    "            },\n",
    "            {\n",
    "                \"role\": \"user\",\n",
    "                \"content\": [\n",
    "                    {\n",
    "                        \"type\": \"text\",\n",
    "                        \"text\": \"Classify the skin condition based on the image?\",\n",
    "                    },\n",
    "                    {\n",
    "                        \"type\": \"image_url\",\n",
    "                        \"image_url\": {\n",
    "                            \"url\": f\"data:image/jpeg;base64,{image_base64}\",\n",
    "                        },\n",
    "                    },\n",
    "                ],\n",
    "            }\n",
    "        ],\n",
    "        max_tokens=500,\n",
    "    )\n",
    "    return response\n",
    "\n",
    "response = pipeline(base64_image)"
   ]
  },
  {
   "cell_type": "code",
   "execution_count": 14,
   "id": "fc1e6628-aa6e-49a6-b401-00d92f5584c9",
   "metadata": {},
   "outputs": [
    {
     "data": {
      "text/markdown": [
       "This image shows ulcerated, crusted, and violaceous nodules and plaques, which is characteristic of cutaneous leishmaniasis. \n",
       "\n",
       "**Reasoning:**\n",
       "\n",
       "1. **Ulcers:** The image shows open sores, which are typical of leishmaniasis.\n",
       "2. **Crusting and Nodules:** The presence of crusted and nodular lesions aligns with the cutaneous form of this parasitic infection.\n",
       "3. **Distribution:** The lesions are localized, which is common in cutaneous leishmaniasis.\n",
       "\n",
       "**Differential Diagnoses:**\n",
       "- **Pyoderma gangrenosum:** Usually presents with painful ulcers with a violaceous border.\n",
       "- **Infections:** Other infectious processes such as ecthyma or sporotrichosis could present similarly but have different clinical histories and courses.\n",
       "- **Vasculitis:** Can cause ulcerative lesions but typically has systemic involvement.\n",
       "\n",
       "A clinical history, along with a biopsy or microbiological test, would aid in confirming the diagnosis."
      ],
      "text/plain": [
       "<IPython.core.display.Markdown object>"
      ]
     },
     "metadata": {},
     "output_type": "display_data"
    }
   ],
   "source": [
    "from IPython.display import Markdown\n",
    "\n",
    "display(Markdown(response.choices[0].message.content))"
   ]
  },
  {
   "cell_type": "code",
   "execution_count": null,
   "id": "498c849d-aafa-4ee7-8f40-9669a164dd4d",
   "metadata": {},
   "outputs": [],
   "source": []
  }
 ],
 "metadata": {
  "kernelspec": {
   "display_name": "Python 3 (ipykernel)",
   "language": "python",
   "name": "python3"
  },
  "language_info": {
   "codemirror_mode": {
    "name": "ipython",
    "version": 3
   },
   "file_extension": ".py",
   "mimetype": "text/x-python",
   "name": "python",
   "nbconvert_exporter": "python",
   "pygments_lexer": "ipython3",
   "version": "3.11.0"
  }
 },
 "nbformat": 4,
 "nbformat_minor": 5
}
