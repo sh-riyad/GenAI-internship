{
 "cells": [
  {
   "cell_type": "code",
   "execution_count": 1,
   "id": "ed9ea298-f1b0-4779-b298-27451741f258",
   "metadata": {},
   "outputs": [],
   "source": [
    "from typing import Dict, TypedDict, List\n",
    "from langgraph.graph import StateGraph, END\n",
    "from langchain_core.prompts import ChatPromptTemplate\n",
    "from langchain_openai import ChatOpenAI\n",
    "from langchain_core.messages import HumanMessage, AIMessage\n",
    "from IPython.display import display, Image\n",
    "from langchain_core.runnables.graph import MermaidDrawMethod\n",
    "from dotenv import load_dotenv\n",
    "import os\n",
    "from pydantic import BaseModel\n",
    "\n",
    "# Load environment variables and set OpenAI API key\n",
    "load_dotenv()\n",
    "os.environ[\"OPENAI_API_KEY\"] = os.getenv('OPENAI_API_KEY')\n",
    "os.environ[\"LANGSMITH_API_KEY\"] = os.getenv(\"LANGSMITH_API_KEY\")\n",
    "os.environ[\"LANGSMITH_TRACING\"] = os.getenv(\"LANGSMITH_TRACING\")"
   ]
  },
  {
   "cell_type": "code",
   "execution_count": 2,
   "id": "f59760f1-4f1f-4afe-ac9a-116577da8e7f",
   "metadata": {},
   "outputs": [
    {
     "name": "stdout",
     "output_type": "stream",
     "text": [
      "sqlite\n",
      "['products', 'services']\n"
     ]
    }
   ],
   "source": [
    "from langchain_community.utilities import SQLDatabase\n",
    "\n",
    "db = SQLDatabase.from_uri(\"sqlite:///amar-shop.db\")\n",
    "\n",
    "print(db.dialect)\n",
    "print(db.get_usable_table_names())"
   ]
  },
  {
   "cell_type": "code",
   "execution_count": 3,
   "id": "6923c583-be9b-4843-a5ea-1c13d0984e79",
   "metadata": {},
   "outputs": [
    {
     "data": {
      "text/plain": [
       "\"[(1, 'Miniket Rice', 'MR001', 74.0, 100, '2025-12-31', 'Aarong', 'Rice'), (2, 'Chinigura Rice', 'CR002', 115.0, 50, '2025-11-30', 'Kazi Farms', 'Rice'), (3, 'Soyabean Oil', 'SO003', 177.0, 200, '2026-06-15', 'Sundarban', 'Oil'), (4, 'White Sugar', 'WS004', 128.0, 150, '2026-01-20', 'S. A. Group', 'Sugar'), (5, 'Red Lentil (Masoor Dal)', 'RL005', 119.0, 80, '2025-09-10', 'PRAN', 'Lentil'), (6, 'Mustard Oil', 'MO006', 150.0, 120, '2026-05-10', 'Rupchanda', 'Oil'), (7, 'Green Chili', 'GC007', 40.0, 200, '2025-09-15', 'FreshMart', 'Vegetable'), (8, 'Potato', 'PT008', 30.0, 300, '2025-12-20', 'FarmFresh', 'Vegetable'), (9, 'Onion', 'ON009', 50.0, 180, '2025-11-25', 'DeshiOnion', 'Vegetable'), (10, 'Garlic', 'GL010', 60.0, 150, '2025-10-30', 'PureSpice', 'Spice')]\""
      ]
     },
     "execution_count": 3,
     "metadata": {},
     "output_type": "execute_result"
    }
   ],
   "source": [
    "db.run(\"SELECT * FROM products LIMIT 10;\")"
   ]
  },
  {
   "cell_type": "code",
   "execution_count": 4,
   "id": "78e3803b-9003-4e2a-809c-2ddaea8028eb",
   "metadata": {},
   "outputs": [],
   "source": [
    "from langchain_community.agent_toolkits import create_sql_agent\n",
    "from langchain_openai import ChatOpenAI\n",
    "\n",
    "llm = ChatOpenAI(model=\"gpt-4o\", temperature=0)\n",
    "agent_executor = create_sql_agent(llm, db=db, agent_type=\"openai-tools\", verbose=True)"
   ]
  },
  {
   "cell_type": "code",
   "execution_count": 6,
   "id": "2ef9bd5b-a279-4347-a4d5-244fb6951c8e",
   "metadata": {},
   "outputs": [
    {
     "name": "stdout",
     "output_type": "stream",
     "text": [
      "\n",
      "\n",
      "\u001b[1m> Entering new SQL Agent Executor chain...\u001b[0m\n",
      "\u001b[32;1m\u001b[1;3m\n",
      "Invoking: `sql_db_list_tables` with `{}`\n",
      "\n",
      "\n",
      "\u001b[32;1m\u001b[1;3m0m\u001b[1;3mproducts, services\u001b[0m\n",
      "Invoking: `sql_db_schema` with `{'table_names': 'products'}`\n",
      "\n",
      "\n",
      "\u001b[0m\u001b[33;1m\u001b[1;3m\n",
      "CREATE TABLE products (\n",
      "\tid INTEGER NOT NULL, \n",
      "\tname VARCHAR NOT NULL, \n",
      "\tproduct_code VARCHAR NOT NULL, \n",
      "\tprice FLOAT NOT NULL, \n",
      "\tavailable_quantity INTEGER NOT NULL, \n",
      "\texpiry_date DATE NOT NULL, \n",
      "\tbrand VARCHAR NOT NULL, \n",
      "\tproduct_type VARCHAR NOT NULL, \n",
      "\tPRIMARY KEY (id), \n",
      "\tUNIQUE (product_code)\n",
      ")\n",
      "\n",
      "/*\n",
      "3 rows from products table:\n",
      "id\tname\tproduct_code\tprice\tavailable_quantity\texpiry_date\tbrand\tproduct_type\n",
      "1\tMiniket Rice\tMR001\t74.0\t100\t2025-12-31\tAarong\tRice\n",
      "2\tChinigura Rice\tCR002\t115.0\t50\t2025-11-30\tKazi Farms\tRice\n",
      "3\tSoyabean Oil\tSO003\t177.0\t200\t2026-06-15\tSundarban\tOil\n",
      "\u001b[32;1m\u001b[1;3m\n",
      "Invoking: `sql_db_query_checker` with `{'query': \"SELECT name, product_code, price, available_quantity, expiry_date, brand FROM products WHERE product_type = 'Vegetable' LIMIT 10;\"}`\n",
      "\n",
      "\n",
      "\u001b[36;1m\u001b[1;3m```sql\n",
      "SELECT name, product_code, price, available_quantity, expiry_date, brand FROM products WHERE product_type = 'Vegetable' LIMIT 10;\n",
      "\u001b[32;1m\u001b[1;3m\n",
      "Invoking: `sql_db_query` with `{'query': \"SELECT name, product_code, price, available_quantity, expiry_date, brand FROM products WHERE product_type = 'Vegetable' LIMIT 10;\"}`\n",
      "\n",
      "\n",
      "\u001b[32;1m\u001b[1;3mHere are some vegetable-type products:0, '2025-09-15', 'FreshMart'), ('Potato', 'PT008', 30.0, 300, '2025-12-20', 'FarmFresh'), ('Onion', 'ON009', 50.0, 180, '2025-11-25', 'DeshiOnion')]\u001b[0m\n",
      "\n",
      "1. **Green Chili**\n",
      "   - Product Code: GC007\n",
      "   - Price: 40.0\n",
      "   - Available Quantity: 200\n",
      "   - Expiry Date: 2025-09-15\n",
      "   - Brand: FreshMart\n",
      "\n",
      "2. **Potato**\n",
      "   - Product Code: PT008\n",
      "   - Price: 30.0\n",
      "   - Available Quantity: 300\n",
      "   - Expiry Date: 2025-12-20\n",
      "   - Brand: FarmFresh\n",
      "\n",
      "3. **Onion**\n",
      "   - Product Code: ON009\n",
      "   - Price: 50.0\n",
      "   - Available Quantity: 180\n",
      "   - Expiry Date: 2025-11-25\n",
      "   - Brand: DeshiOnion\u001b[0m\n",
      "\n",
      "\u001b[1m> Finished chain.\u001b[0m\n"
     ]
    }
   ],
   "source": [
    "response = agent_executor.invoke(\"List the all vagetable type products\")"
   ]
  },
  {
   "cell_type": "code",
   "execution_count": 8,
   "id": "84efa927-f353-474f-b2a9-f5d04b4774aa",
   "metadata": {},
   "outputs": [
    {
     "data": {
      "text/plain": [
       "'Here are some vegetable-type products:\\n\\n1. **Green Chili**\\n   - Product Code: GC007\\n   - Price: 40.0\\n   - Available Quantity: 200\\n   - Expiry Date: 2025-09-15\\n   - Brand: FreshMart\\n\\n2. **Potato**\\n   - Product Code: PT008\\n   - Price: 30.0\\n   - Available Quantity: 300\\n   - Expiry Date: 2025-12-20\\n   - Brand: FarmFresh\\n\\n3. **Onion**\\n   - Product Code: ON009\\n   - Price: 50.0\\n   - Available Quantity: 180\\n   - Expiry Date: 2025-11-25\\n   - Brand: DeshiOnion'"
      ]
     },
     "execution_count": 8,
     "metadata": {},
     "output_type": "execute_result"
    }
   ],
   "source": [
    "response[\"output\"]"
   ]
  },
  {
   "cell_type": "code",
   "execution_count": 9,
   "id": "3cd13520-3a88-43d3-9237-4e388a696a69",
   "metadata": {},
   "outputs": [
    {
     "name": "stdout",
     "output_type": "stream",
     "text": [
      "\n",
      "\n",
      "\u001b[1m> Entering new SQL Agent Executor chain...\u001b[0m\n",
      "\u001b[32;1m\u001b[1;3m\n",
      "Invoking: `sql_db_list_tables` with `{}`\n",
      "\n",
      "\n",
      "\u001b[32;1m\u001b[1;3m0m\u001b[1;3mproducts, services\u001b[0m\n",
      "Invoking: `sql_db_schema` with `{'table_names': 'services'}`\n",
      "\n",
      "\n",
      "\u001b[0m\u001b[33;1m\u001b[1;3m\n",
      "CREATE TABLE services (\n",
      "\tid INTEGER NOT NULL, \n",
      "\tname VARCHAR NOT NULL, \n",
      "\tservice_code VARCHAR NOT NULL, \n",
      "\tprice FLOAT NOT NULL, \n",
      "\tPRIMARY KEY (id), \n",
      "\tUNIQUE (service_code)\n",
      ")\n",
      "\n",
      "/*\n",
      "3 rows from services table:\n",
      "id\tname\tservice_code\tprice\n",
      "1\tCar Wash\tCW001\t20.0\n",
      "2\tHouse Cleaning\tHC002\t35.0\n",
      "3\tLawn Mowing\tLM003\t40.0\n",
      "\u001b[32;1m\u001b[1;3mThe `services` table contains the following columns:\n",
      "\n",
      "- `id`: An integer that serves as the primary key for the table.\n",
      "- `name`: A string (VARCHAR) that represents the name of the service.\n",
      "- `service_code`: A string (VARCHAR) that is unique for each service, used to identify the service.\n",
      "- `price`: A float that indicates the price of the service.\n",
      "\n",
      "The table ensures that each `service_code` is unique. Here are some example entries from the table:\n",
      "\n",
      "1. Car Wash with service code \"CW001\" priced at 20.0\n",
      "2. House Cleaning with service code \"HC002\" priced at 35.0\n",
      "3. Lawn Mowing with service code \"LM003\" priced at 40.0\u001b[0m\n",
      "\n",
      "\u001b[1m> Finished chain.\u001b[0m\n"
     ]
    },
    {
     "data": {
      "text/plain": [
       "{'input': 'Describe the Services table',\n",
       " 'output': 'The `services` table contains the following columns:\\n\\n- `id`: An integer that serves as the primary key for the table.\\n- `name`: A string (VARCHAR) that represents the name of the service.\\n- `service_code`: A string (VARCHAR) that is unique for each service, used to identify the service.\\n- `price`: A float that indicates the price of the service.\\n\\nThe table ensures that each `service_code` is unique. Here are some example entries from the table:\\n\\n1. Car Wash with service code \"CW001\" priced at 20.0\\n2. House Cleaning with service code \"HC002\" priced at 35.0\\n3. Lawn Mowing with service code \"LM003\" priced at 40.0'}"
      ]
     },
     "execution_count": 9,
     "metadata": {},
     "output_type": "execute_result"
    }
   ],
   "source": [
    "agent_executor.invoke(\"Describe the Services table\")"
   ]
  },
  {
   "cell_type": "code",
   "execution_count": null,
   "id": "44ae0085-ded2-4e8c-a32b-46ae51bf17ca",
   "metadata": {},
   "outputs": [],
   "source": []
  }
 ],
 "metadata": {
  "kernelspec": {
   "display_name": "Python 3 (ipykernel)",
   "language": "python",
   "name": "python3"
  },
  "language_info": {
   "codemirror_mode": {
    "name": "ipython",
    "version": 3
   },
   "file_extension": ".py",
   "mimetype": "text/x-python",
   "name": "python",
   "nbconvert_exporter": "python",
   "pygments_lexer": "ipython3",
   "version": "3.11.0"
  }
 },
 "nbformat": 4,
 "nbformat_minor": 5
}
