{
 "cells": [
  {
   "cell_type": "code",
   "execution_count": 60,
   "metadata": {},
   "outputs": [],
   "source": [
    "import openai\n",
    "\n",
    "from dotenv import load_dotenv\n",
    "import os\n",
    "load_dotenv()\n",
    "\n",
    "openai.api_key = os.getenv(\"OPENAI_API_KEY\")"
   ]
  },
  {
   "cell_type": "code",
   "execution_count": 8,
   "metadata": {},
   "outputs": [
    {
     "name": "stdout",
     "output_type": "stream",
     "text": [
      "As of March 14, 2025, there are no specific positive news stories from Chittagong available in the provided sources. However, recent developments in the region include the restoration of direct maritime ties between Pakistan and Bangladesh, with a cargo vessel from Karachi docking at Chittagong port in November 2024. This event marked the first direct maritime contact between the two countries since the 1971 Liberation War, potentially opening new business opportunities and streamlining supply chains. ([themirrorasia.net](https://www.themirrorasia.net/news/2024/11/15/3434?utm_source=openai))\n",
      "\n",
      "Additionally, the Chittagong Kings cricket team achieved a significant victory in the Bangladesh Premier League (BPL) by defeating the Khulna Tigers in a thrilling Qualifier-2 match in February 2025. This win secured their spot in the BPL final, highlighting the team's strong performance in the tournament. ([bssnews.net](https://www.bssnews.net/festival-of-youth-2025/244130?utm_source=openai))\n",
      "\n",
      "While these events are from the previous months, they reflect positive developments in Chittagong's economic and sports sectors. \n"
     ]
    }
   ],
   "source": [
    "from openai import OpenAI\n",
    "client = OpenAI()\n",
    "\n",
    "completion = client.chat.completions.create(\n",
    "    model=\"gpt-4o-mini-search-preview\",\n",
    "    web_search_options={},\n",
    "    messages=[\n",
    "        {\n",
    "            \"role\": \"user\",\n",
    "            \"content\": \"What was a positive news story from today in Chittagong?\",\n",
    "        }\n",
    "    ],\n",
    ")\n",
    "\n",
    "print(completion.choices[0].message.content)"
   ]
  },
  {
   "cell_type": "code",
   "execution_count": 55,
   "metadata": {},
   "outputs": [
    {
     "name": "stdout",
     "output_type": "stream",
     "text": [
      "## [Liberate Labs Bangladesh](https://www.google.com/maps/search/Liberate+Labs+Bangladesh)\n",
      "\n",
      "\n",
      "Liberate Labs Bangladesh is located in Chittagong, Bangladesh. While the exact address isn't specified in the available sources, you can contact them at phone number 01783389820 ([signalhire.com](https://www.signalhire.com/companies/liberate-labs-bangladesh?utm_source=openai)). For more detailed information, you might consider visiting their official website at liberate-labs.com. \n"
     ]
    }
   ],
   "source": [
    "from openai import OpenAI\n",
    "client = OpenAI()\n",
    "\n",
    "completion = client.chat.completions.create(\n",
    "    model=\"gpt-4o-search-preview\",\n",
    "    web_search_options={\n",
    "        \"user_location\": {\n",
    "            \"type\": \"approximate\",\n",
    "            \"approximate\": {\n",
    "                \"country\": \"BN\",\n",
    "                \"city\": \"Chittagong\",\n",
    "                \"region\": \"Chittagong\",\n",
    "            }\n",
    "        },\n",
    "    },\n",
    "    messages=[{\n",
    "        \"role\": \"user\",\n",
    "        \"content\": \"Where is Liberate labs located in Chittagong?\",\n",
    "    }],\n",
    ")\n",
    "\n",
    "print(completion.choices[0].message.content)"
   ]
  },
  {
   "cell_type": "markdown",
   "metadata": {},
   "source": [
    "<h1>File upload and search</h1>"
   ]
  },
  {
   "cell_type": "code",
   "execution_count": 47,
   "metadata": {},
   "outputs": [
    {
     "name": "stdout",
     "output_type": "stream",
     "text": [
      "file-ReWCdN9pxGCWZwD9CjsbyT\n"
     ]
    }
   ],
   "source": [
    "import requests\n",
    "from io import BytesIO\n",
    "from openai import OpenAI\n",
    "\n",
    "client = OpenAI()\n",
    "\n",
    "def create_file(client, file_path):\n",
    "    if file_path.startswith(\"http://\") or file_path.startswith(\"https://\"):\n",
    "        response = requests.get(file_path)\n",
    "        file_content = BytesIO(response.content)\n",
    "        file_name = file_path.split(\"/\")[-1]\n",
    "        file_tuple = (file_name, file_content)\n",
    "        result = client.files.create(\n",
    "            file=file_tuple,\n",
    "            purpose=\"assistants\"\n",
    "        )\n",
    "    else:\n",
    "        # Handle local file path\n",
    "        with open(file_path, \"rb\") as file_content:\n",
    "            result = client.files.create(\n",
    "                file=file_content,\n",
    "                purpose=\"assistants\"\n",
    "            )\n",
    "    print(result.id)\n",
    "    return result.id\n",
    "\n",
    "# Replace with your own file path or URL\n",
    "file_id = create_file(client, \"mistral7b.pdf\")"
   ]
  },
  {
   "cell_type": "code",
   "execution_count": 48,
   "metadata": {},
   "outputs": [
    {
     "name": "stdout",
     "output_type": "stream",
     "text": [
      "vs_67d3f2348ca48191885a29da445721e1\n"
     ]
    }
   ],
   "source": [
    "vector_store = client.vector_stores.create(\n",
    "    name=\"knowledge_base\"\n",
    ")\n",
    "print(vector_store.id)"
   ]
  },
  {
   "cell_type": "code",
   "execution_count": 49,
   "metadata": {},
   "outputs": [
    {
     "name": "stdout",
     "output_type": "stream",
     "text": [
      "VectorStoreFile(id='file-ReWCdN9pxGCWZwD9CjsbyT', created_at=1741943350, last_error=None, object='vector_store.file', status='in_progress', usage_bytes=0, vector_store_id='vs_67d3f2348ca48191885a29da445721e1', attributes={}, chunking_strategy=StaticFileChunkingStrategyObject(static=StaticFileChunkingStrategy(chunk_overlap_tokens=400, max_chunk_size_tokens=800), type='static'))\n"
     ]
    }
   ],
   "source": [
    "result = client.vector_stores.files.create(\n",
    "    vector_store_id=vector_store.id,\n",
    "    file_id=file_id\n",
    ")\n",
    "print(result)"
   ]
  },
  {
   "cell_type": "code",
   "execution_count": 50,
   "metadata": {},
   "outputs": [
    {
     "name": "stdout",
     "output_type": "stream",
     "text": [
      "SyncCursorPage[VectorStoreFile](data=[VectorStoreFile(id='file-ReWCdN9pxGCWZwD9CjsbyT', created_at=1741943350, last_error=None, object='vector_store.file', status='in_progress', usage_bytes=0, vector_store_id='vs_67d3f2348ca48191885a29da445721e1', attributes={}, chunking_strategy=StaticFileChunkingStrategyObject(static=StaticFileChunkingStrategy(chunk_overlap_tokens=400, max_chunk_size_tokens=800), type='static'))], has_more=False, object='list', first_id='file-ReWCdN9pxGCWZwD9CjsbyT', last_id='file-ReWCdN9pxGCWZwD9CjsbyT')\n"
     ]
    }
   ],
   "source": [
    "result = client.vector_stores.files.list(\n",
    "    vector_store_id=vector_store.id\n",
    ")\n",
    "print(result)"
   ]
  },
  {
   "cell_type": "code",
   "execution_count": 51,
   "metadata": {},
   "outputs": [
    {
     "name": "stdout",
     "output_type": "stream",
     "text": [
      "### Summary of Mistral 7B PDF\n",
      "\n",
      "**Overview:**\n",
      "Mistral 7B is a 7-billion-parameter language model optimized for high performance and efficiency, significantly outperforming larger models such as Llama 2 (13B) and Llama 1 (34B) across various benchmarks related to reasoning, mathematics, and code generation.\n",
      "\n",
      "**Key Features:**\n",
      "- **Grouped-Query Attention (GQA):** Enhances inference speed and reduces memory requirements, allowing for higher batch sizes and better throughput.\n",
      "- **Sliding Window Attention (SWA):** Efficiently handles longer sequences at a lower computational cost, alleviating typical limitations found in large language models.\n",
      "\n",
      "**Performance:**\n",
      "- Achieves superior results in multiple tasks, including:\n",
      "  - Commonsense reasoning\n",
      "  - Code generation (with results comparable to Code-Llama 7B)\n",
      "  - Mathematical tasks\n",
      "- Evaluation across several metrics demonstrates that Mistral 7B consistently outperforms Llama 2 and Llama 1 models, especially in code-related challenges and reasoning.\n",
      "\n",
      "**Instruction Tuning:**\n",
      "- The model can be fine-tuned for specific instruction-following scenarios, where Mistral 7B – Instruct outperformed all other 7B models in assessments, with results comparable to 13B chat models on multiple benchmarks.\n",
      "\n",
      "**Safety Mechanisms:**\n",
      "- Incorporates system prompts for enforcing guardrails, ensuring safe outputs, and improving content moderation. The model effectively declines harmful or unethical requests and can successfully classify responses.\n",
      "\n",
      "**Deployment:**\n",
      "- Released under the Apache 2.0 license, facilitating local and cloud-based deployments. It supports easy integration with various platforms such as AWS and GCP.\n",
      "\n",
      "### Conclusion:\n",
      "Mistral 7B strikes a balance between model size and performance, pushing forward the development of efficient and powerful AI systems suitable for various applications.\n"
     ]
    }
   ],
   "source": [
    "from openai import OpenAI\n",
    "client = OpenAI()\n",
    "\n",
    "response = client.responses.create(\n",
    "    model=\"gpt-4o-mini\",\n",
    "    input=\"Summerize the pdf about Mistral7B\",\n",
    "    tools=[{\n",
    "        \"type\": \"file_search\",\n",
    "        \"vector_store_ids\": [\"vs_67d3e71f2a448191ab5933741812ea36\"]\n",
    "    }]\n",
    ")\n",
    "print(response.output[1].content[0].text)"
   ]
  },
  {
   "cell_type": "code",
   "execution_count": null,
   "metadata": {},
   "outputs": [
    {
     "name": "stdout",
     "output_type": "stream",
     "text": [
      "Here is the model-wise benchmark table with performance above 50%:\n",
      "\n",
      "| Model           | Modality    | MMLU  | HellaSwag | WinoG | PIQA  | Arc-e | Arc-c | NQ   | TriviaQA | HumanEval | MBPP  | MATH  | GSM8K  |\n",
      "|-----------------|-------------|-------|-----------|-------|-------|-------|-------|------|----------|-----------|-------|-------|--------|\n",
      "| LLaMA 2 13B     | Pretrained  | 55.6% | 80.7%     | 72.9% | 80.8% | 75.2% | 48.8% | 29.0%| 69.6%   | 18.9%     | 35.4% | 6.0%  | 34.3%  |\n",
      "| Mistral 7B      | Pretrained  | 60.1% | 81.3%     | 75.3% | 83.0% | 80.0% | 55.5% | 28.8%| 69.9%   | 30.5%     | 47.5% | 13.1% | 52.2%  |\n",
      "\n",
      "This table showcases the benchmark performance across various modalities, highlighting models that achieved more than 50% in several tests.\n"
     ]
    }
   ],
   "source": [
    "response = client.responses.create(\n",
    "    model=\"gpt-4o-mini\",\n",
    "    input=\"Tell me the model wise benchmark in tabular format where is performed above 50%\",\n",
    "    tools=[{\n",
    "        \"type\": \"file_search\",\n",
    "        \"vector_store_ids\": [vector_store.id],\n",
    "        \"max_num_results\": 2\n",
    "    }]\n",
    ")\n",
    "print(response.output[1].content[0].text)"
   ]
  },
  {
   "cell_type": "code",
   "execution_count": 64,
   "metadata": {},
   "outputs": [
    {
     "name": "stdout",
     "output_type": "stream",
     "text": [
      "Response(id='resp_67d3f6f831a081918e7c6b67458420960852f2efcd8cc6d0', created_at=1741944568.0, error=None, incomplete_details=None, instructions=None, metadata={}, model='gpt-4o-mini-2024-07-18', object='response', output=[ResponseFileSearchToolCall(id='fs_67d3f6f8ac308191a042893bdaad2f9c0852f2efcd8cc6d0', queries=['What is Mistral?'], status='completed', type='file_search_call', results=[Result(attributes={}, file_id='file-ReWCdN9pxGCWZwD9CjsbyT', filename='mistral7b.pdf', score=0.8700607377494348, text='Mistral 7B\\n\\nAlbert Q. Jiang, Alexandre Sablayrolles, Arthur Mensch, Chris Bamford,\\nDevendra Singh Chaplot, Diego de las Casas, Florian Bressand, Gianna Lengyel,\\nGuillaume Lample, Lucile Saulnier, Lélio Renard Lavaud, Marie-Anne Lachaux,\\nPierre Stock, Teven Le Scao, Thibaut Lavril, Thomas Wang, Timothée Lacroix,\\n\\nWilliam El Sayed\\n\\nAbstract\\n\\nWe introduce Mistral 7B, a 7–billion-parameter language model engineered for\\nsuperior performance and efficiency. Mistral 7B outperforms the best open 13B\\nmodel (Llama 2) across all evaluated benchmarks, and the best released 34B\\nmodel (Llama 1) in reasoning, mathematics, and code generation. Our model\\nleverages grouped-query attention (GQA) for faster inference, coupled with sliding\\nwindow attention (SWA) to effectively handle sequences of arbitrary length with a\\nreduced inference cost. We also provide a model fine-tuned to follow instructions,\\nMistral 7B – Instruct, that surpasses Llama 2 13B – chat model both on human and\\nautomated benchmarks. Our models are released under the Apache 2.0 license.\\nCode: https://github.com/mistralai/mistral-src\\nWebpage: https://mistral.ai/news/announcing-mistral-7b/\\n\\n1 Introduction\\n\\nIn the rapidly evolving domain of Natural Language Processing (NLP), the race towards higher model\\nperformance often necessitates an escalation in model size. However, this scaling tends to increase\\ncomputational costs and inference latency, thereby raising barriers to deployment in practical,\\nreal-world scenarios. In this context, the search for balanced models delivering both high-level\\nperformance and efficiency becomes critically essential. Our model, Mistral 7B, demonstrates that\\na carefully designed language model can deliver high performance while maintaining an efficient\\ninference. Mistral 7B outperforms the previous best 13B model (Llama 2, [26]) across all tested\\nbenchmarks, and surpasses the best 34B model (LLaMa 34B, [25]) in mathematics and code\\ngeneration. Furthermore, Mistral 7B approaches the coding performance of Code-Llama 7B [20],\\nwithout sacrificing performance on non-code related benchmarks.\\n\\nMistral 7B leverages grouped-query attention (GQA) [1], and sliding window attention (SWA) [6, 3].\\nGQA significantly accelerates the inference speed, and also reduces the memory requirement during\\ndecoding, allowing for higher batch sizes hence higher throughput, a crucial factor for real-time\\napplications. In addition, SWA is designed to handle longer sequences more effectively at a reduced\\ncomputational cost, thereby alleviating a common limitation in LLMs. These attention mechanisms\\ncollectively contribute to the enhanced performance and efficiency of Mistral 7B.\\n\\nar\\nX\\n\\niv\\n:2\\n\\n31\\n0.\\n\\n06\\n82\\n\\n5v\\n1 \\n\\n [\\ncs\\n\\n.C\\nL\\n\\n] \\n 1\\n\\n0 \\nO\\n\\nct\\n 2\\n\\n02\\n3\\n\\nhttps://github.com/mistralai/mistral-src\\nhttps://mistral.ai/news/announcing-mistral-7b/'), Result(attributes={}, file_id='file-ReWCdN9pxGCWZwD9CjsbyT', filename='mistral7b.pdf', score=0.788004836693605, text='1 Introduction\\n\\nIn the rapidly evolving domain of Natural Language Processing (NLP), the race towards higher model\\nperformance often necessitates an escalation in model size. However, this scaling tends to increase\\ncomputational costs and inference latency, thereby raising barriers to deployment in practical,\\nreal-world scenarios. In this context, the search for balanced models delivering both high-level\\nperformance and efficiency becomes critically essential. Our model, Mistral 7B, demonstrates that\\na carefully designed language model can deliver high performance while maintaining an efficient\\ninference. Mistral 7B outperforms the previous best 13B model (Llama 2, [26]) across all tested\\nbenchmarks, and surpasses the best 34B model (LLaMa 34B, [25]) in mathematics and code\\ngeneration. Furthermore, Mistral 7B approaches the coding performance of Code-Llama 7B [20],\\nwithout sacrificing performance on non-code related benchmarks.\\n\\nMistral 7B leverages grouped-query attention (GQA) [1], and sliding window attention (SWA) [6, 3].\\nGQA significantly accelerates the inference speed, and also reduces the memory requirement during\\ndecoding, allowing for higher batch sizes hence higher throughput, a crucial factor for real-time\\napplications. In addition, SWA is designed to handle longer sequences more effectively at a reduced\\ncomputational cost, thereby alleviating a common limitation in LLMs. These attention mechanisms\\ncollectively contribute to the enhanced performance and efficiency of Mistral 7B.\\n\\nar\\nX\\n\\niv\\n:2\\n\\n31\\n0.\\n\\n06\\n82\\n\\n5v\\n1 \\n\\n [\\ncs\\n\\n.C\\nL\\n\\n] \\n 1\\n\\n0 \\nO\\n\\nct\\n 2\\n\\n02\\n3\\n\\nhttps://github.com/mistralai/mistral-src\\nhttps://mistral.ai/news/announcing-mistral-7b/\\n\\n\\nMistral 7B is released under the Apache 2.0 license. This release is accompanied by a reference\\nimplementation1 facilitating easy deployment either locally or on cloud platforms such as AWS, GCP,\\nor Azure using the vLLM [17] inference server and SkyPilot 2. Integration with Hugging Face 3 is\\nalso streamlined for easier integration. Moreover, Mistral 7B is crafted for ease of fine-tuning across\\na myriad of tasks. As a demonstration of its adaptability and superior performance, we present a chat\\nmodel fine-tuned from Mistral 7B that significantly outperforms the Llama 2 13B – Chat model.\\n\\nMistral 7B takes a significant step in balancing the goals of getting high performance while keeping\\nlarge language models efficient. Through our work, our aim is to help the community create more\\naffordable, efficient, and high-performing language models that can be used in a wide range of\\nreal-world applications.\\n\\n2 Architectural details\\n\\nFigure 1: Sliding Window Attention. The number of operations in vanilla attention is quadratic in the sequence\\nlength, and the memory increases linearly with the number of tokens. At inference time, this incurs higher\\nlatency and smaller throughput due to reduced cache availability. To alleviate this issue, we use sliding window\\nattention: each token can attend to at most W tokens from the previous layer (here, W = 3). Note that tokens\\noutside the sliding window still influence next word prediction. At each attention layer, information can move\\nforward by W tokens. Hence, after k attention layers, information can move forward by up to k ×W tokens.\\n\\nParameter Value'), Result(attributes={}, file_id='file-ReWCdN9pxGCWZwD9CjsbyT', filename='mistral7b.pdf', score=0.7106075771416931, text='Size and Efficiency. We computed “equivalent model sizes” of the Llama 2 family, aiming to\\nunderstand Mistral 7B models’ efficiency in the cost-performance spectrum (see Figure 5). When\\nevaluated on reasoning, comprehension, and STEM reasoning (specifically MMLU), Mistral 7B\\nmirrored performance that one might expect from a Llama 2 model with more than 3x its size. On\\nthe Knowledge benchmarks, Mistral 7B’s performance achieves a lower compression rate of 1.9x,\\nwhich is likely due to its limited parameter count that restricts the amount of knowledge it can store.\\n\\nEvaluation Differences. On some benchmarks, there are some differences between our evaluation\\nprotocol and the one reported in the Llama 2 paper: 1) on MBPP, we use the hand-verified subset 2)\\non TriviaQA, we do not provide Wikipedia contexts.\\n\\n4 Instruction Finetuning\\n\\nModel Chatbot Arena\\nELO Rating MT Bench\\n\\nWizardLM 13B v1.2 1047 7.2\\nMistral 7B Instruct 1031 6.84 +/- 0.07\\nLlama 2 13B Chat 1012 6.65\\nVicuna 13B 1041 6.57\\nLlama 2 7B Chat 985 6.27\\nVicuna 7B 997 6.17\\nAlpaca 13B 914 4.53\\n\\nTable 3: Comparison of Chat models. Mistral 7B –\\nInstruct outperforms all 7B models on MT-Bench, and\\nis comparable to 13B – Chat models.\\n\\nTo evaluate the generalization capabilities of\\nMistral 7B, we fine-tuned it on instruction datasets\\npublicly available on the Hugging Face repository.\\nNo proprietary data or training tricks were utilized:\\nMistral 7B – Instruct model is a simple and\\npreliminary demonstration that the base model can\\neasily be fine-tuned to achieve good performance.\\nIn Table 3, we observe that the resulting model,\\nMistral 7B – Instruct, exhibits superior perfor-\\nmance compared to all 7B models on MT-Bench,\\nand is comparable to 13B – Chat models. An\\nindependent human evaluation was conducted on\\nhttps://llmboxing.com/leaderboard.\\n\\nIn this evaluation, participants were provided with a set of questions along with anonymous responses\\nfrom two models and were asked to select their preferred response, as illustrated in Figure 6. As of\\nOctober 6, 2023, the outputs generated by Mistral 7B were preferred 5020 times, compared to 4143\\ntimes for Llama 2 13B.\\n\\n4\\n\\nhttps://llmboxing.com/leaderboard\\n\\n\\nFigure 5: Results on MMLU, commonsense reasoning, world knowledge and reading comprehension for\\nMistral 7B and Llama 2 (7B/13B/70B). Mistral 7B largely outperforms Llama 2 13B on all evaluations, except\\non knowledge benchmarks, where it is on par (this is likely due to its limited parameter count, which limits the\\namount of knowledge it can compress).\\n\\n5 Adding guardrails for front-facing applications\\n\\nThe ability to enforce guardrails when it comes to AI generation is important for front-facing appli-\\ncations. In this section, we highlight how to leverage system prompting to optionally enforce output\\nconstraints on top of our models. Additionally, we showcase the ability of Mistral 7B to perform\\nfine-grained content moderation, which can be useful to enforce quality content in applications.'), Result(attributes={}, file_id='file-ReWCdN9pxGCWZwD9CjsbyT', filename='mistral7b.pdf', score=0.692972477051244, text='0 \\nO\\n\\nct\\n 2\\n\\n02\\n3\\n\\nhttps://github.com/mistralai/mistral-src\\nhttps://mistral.ai/news/announcing-mistral-7b/\\n\\n\\nMistral 7B is released under the Apache 2.0 license. This release is accompanied by a reference\\nimplementation1 facilitating easy deployment either locally or on cloud platforms such as AWS, GCP,\\nor Azure using the vLLM [17] inference server and SkyPilot 2. Integration with Hugging Face 3 is\\nalso streamlined for easier integration. Moreover, Mistral 7B is crafted for ease of fine-tuning across\\na myriad of tasks. As a demonstration of its adaptability and superior performance, we present a chat\\nmodel fine-tuned from Mistral 7B that significantly outperforms the Llama 2 13B – Chat model.\\n\\nMistral 7B takes a significant step in balancing the goals of getting high performance while keeping\\nlarge language models efficient. Through our work, our aim is to help the community create more\\naffordable, efficient, and high-performing language models that can be used in a wide range of\\nreal-world applications.\\n\\n2 Architectural details\\n\\nFigure 1: Sliding Window Attention. The number of operations in vanilla attention is quadratic in the sequence\\nlength, and the memory increases linearly with the number of tokens. At inference time, this incurs higher\\nlatency and smaller throughput due to reduced cache availability. To alleviate this issue, we use sliding window\\nattention: each token can attend to at most W tokens from the previous layer (here, W = 3). Note that tokens\\noutside the sliding window still influence next word prediction. At each attention layer, information can move\\nforward by W tokens. Hence, after k attention layers, information can move forward by up to k ×W tokens.\\n\\nParameter Value\\n\\ndim 4096\\nn_layers 32\\nhead_dim 128\\nhidden_dim 14336\\nn_heads 32\\nn_kv_heads 8\\nwindow_size 4096\\ncontext_len 8192\\nvocab_size 32000\\n\\nTable 1: Model architecture.\\n\\nMistral 7B is based on a transformer architecture [27]. The main\\nparameters of the architecture are summarized in Table 1. Compared\\nto Llama, it introduces a few changes that we summarize below.\\n\\nSliding Window Attention. SWA exploits the stacked layers of a trans-\\nformer to attend information beyond the window size W . The hidden\\nstate in position i of the layer k, hi, attends to all hidden states from\\nthe previous layer with positions between i −W and i. Recursively,\\nhi can access tokens from the input layer at a distance of up to W × k\\ntokens, as illustrated in Figure 1. At the last layer, using a window size\\nof W = 4096, we have a theoretical attention span of approximately\\n131K tokens. In practice, for a sequence length of 16K and W = 4096,\\nchanges made to FlashAttention [11] and xFormers [18] yield a 2x\\nspeed improvement over a vanilla attention baseline.\\n\\nRolling Buffer Cache. A fixed attention span means that we can limit our cache size using a rolling\\nbuffer cache. The cache has a fixed size of W , and the keys and values for the timestep i are stored\\nin position i mod W of the cache. As a result, when the position i is larger than W , past values\\nin the cache are overwritten, and the size of the cache stops increasing. We provide an illustration\\nin Figure 2 for W = 3. On a sequence length of 32k tokens, this reduces the cache memory usage\\nby 8x, without impacting the model quality.'), Result(attributes={}, file_id='file-ReWCdN9pxGCWZwD9CjsbyT', filename='mistral7b.pdf', score=0.6856475003933644, text='• Math: GSM8K [10] (8-shot) with maj@8 and MATH [13] (4-shot) with maj@4\\n\\n• Code: Humaneval [5] (0-shot) and MBPP [2] (3-shot)\\n\\n• Popular aggregated results: MMLU [12] (5-shot), BBH [23] (3-shot), and AGI Eval [29]\\n(3-5-shot, English multiple-choice questions only)\\n\\nDetailed results for Mistral 7B, Llama 2 7B/13B, and Code-Llama 7B are reported in Table 2. Figure 4\\ncompares the performance of Mistral 7B with Llama 2 7B/13B, and Llama 1 34B4 in different\\ncategories. Mistral 7B surpasses Llama 2 13B across all metrics, and outperforms Llama 1 34B on\\nmost benchmarks. In particular, Mistral 7B displays a superior performance in code, mathematics,\\nand reasoning benchmarks.\\n\\n4Since Llama 2 34B was not open-sourced, we report results for Llama 1 34B.\\n\\n3\\n\\n\\n\\nFigure 4: Performance of Mistral 7B and different Llama models on a wide range of benchmarks. All\\nmodels were re-evaluated on all metrics with our evaluation pipeline for accurate comparison. Mistral 7B\\nsignificantly outperforms Llama 2 7B and Llama 2 13B on all benchmarks. It is also vastly superior to Llama 1\\n34B in mathematics, code generation, and reasoning benchmarks.\\n\\nModel Modality MMLU HellaSwag WinoG PIQA Arc-e Arc-c NQ TriviaQA HumanEval MBPP MATH GSM8K\\n\\nLLaMA 2 7B Pretrained 44.4% 77.1% 69.5% 77.9% 68.7% 43.2% 24.7% 63.8% 11.6% 26.1% 3.9% 16.0%\\nLLaMA 2 13B Pretrained 55.6% 80.7% 72.9% 80.8% 75.2% 48.8% 29.0% 69.6% 18.9% 35.4% 6.0% 34.3%\\n\\nCode-Llama 7B Finetuned 36.9% 62.9% 62.3% 72.8% 59.4% 34.5% 11.0% 34.9% 31.1% 52.5% 5.2% 20.8%\\n\\nMistral 7B Pretrained 60.1% 81.3% 75.3% 83.0% 80.0% 55.5% 28.8% 69.9% 30.5% 47.5% 13.1% 52.2%\\n\\nTable 2: Comparison of Mistral 7B with Llama. Mistral 7B outperforms Llama 2 13B on all metrics, and\\napproaches the code performance of Code-Llama 7B without sacrificing performance on non-code benchmarks.'), Result(attributes={}, file_id='file-ReWCdN9pxGCWZwD9CjsbyT', filename='mistral7b.pdf', score=0.6526603157801151, text='In this evaluation, participants were provided with a set of questions along with anonymous responses\\nfrom two models and were asked to select their preferred response, as illustrated in Figure 6. As of\\nOctober 6, 2023, the outputs generated by Mistral 7B were preferred 5020 times, compared to 4143\\ntimes for Llama 2 13B.\\n\\n4\\n\\nhttps://llmboxing.com/leaderboard\\n\\n\\nFigure 5: Results on MMLU, commonsense reasoning, world knowledge and reading comprehension for\\nMistral 7B and Llama 2 (7B/13B/70B). Mistral 7B largely outperforms Llama 2 13B on all evaluations, except\\non knowledge benchmarks, where it is on par (this is likely due to its limited parameter count, which limits the\\namount of knowledge it can compress).\\n\\n5 Adding guardrails for front-facing applications\\n\\nThe ability to enforce guardrails when it comes to AI generation is important for front-facing appli-\\ncations. In this section, we highlight how to leverage system prompting to optionally enforce output\\nconstraints on top of our models. Additionally, we showcase the ability of Mistral 7B to perform\\nfine-grained content moderation, which can be useful to enforce quality content in applications.\\n\\n5.1 System prompt to enforce guardrails\\n\\nWe introduce a system prompt (see below) to guide the model to generate answers within specified\\nguardrails, similar to the work done with Llama 2. Using this prompt allows the user to move on the\\nPareto front of model utility / guardrails enforcement, as indicated in Table 4.\\n\\nAlways assist with care, respect, and truth. Respond with utmost utility yet securely. Avoid harmful,\\nunethical, prejudiced, or negative content. Ensure replies promote fairness and positivity.\\n\\nGuardrails MT Bench\\n\\nNo system prompt 6.84 ± 0.07\\nLlama 2 system prompt 6.38 ± 0.07\\nMistral system prompt 6.58 ± 0.05\\n\\nTable 4: System prompts. Mean official\\nMT Bench score over 10 iterations with\\nstandard deviation for Mistral 7B – Instruct.\\nFor reference, Llama 2 13B – Chat reports\\nofficial results of 6.65.\\n\\nWe use a set of 175 unsafe prompts for evaluating safety.\\nWith the recommended system prompt, the model properly\\ndeclines to answer 100% of the harmful questions.\\n\\nAs an illustration, we provide in Table 5 the answers of\\nboth Mistral 7B – Instruct and Llama 2 Chat 13B to the\\nquestion How to kill a linux process with system prompts\\nactivated. We observe that Mistral 7B provides a correct\\nresponse while Llama 2 declines to answer. Note that on\\nthis specific question, both models answer correctly when\\nsystem prompts are deactivated.\\n\\n5.2 Content moderation with self-reflection\\n\\nMistral 7B – Instruct can be used as a content moderator: the model itself is able to accurately\\nclassify a user prompt or its generated answer as being either acceptable or falling into one of the\\nfollowing categories: Illegal activities such as terrorism, child abuse or fraud; Hateful, harassing\\nor violent content such as discrimination, self-harm or bullying; Unqualified advice for instance\\nin legal, medical or financial domains.\\n\\n5\\n\\n\\n\\nModel Answer\\n\\nMistral 7B – Instruct\\nwith Mistral system prompt'), Result(attributes={}, file_id='file-ReWCdN9pxGCWZwD9CjsbyT', filename='mistral7b.pdf', score=0.6226620393811939, text='Always assist with care, respect, and truth. Respond with utmost utility yet securely. Avoid harmful,\\nunethical, prejudiced, or negative content. Ensure replies promote fairness and positivity.\\n\\nGuardrails MT Bench\\n\\nNo system prompt 6.84 ± 0.07\\nLlama 2 system prompt 6.38 ± 0.07\\nMistral system prompt 6.58 ± 0.05\\n\\nTable 4: System prompts. Mean official\\nMT Bench score over 10 iterations with\\nstandard deviation for Mistral 7B – Instruct.\\nFor reference, Llama 2 13B – Chat reports\\nofficial results of 6.65.\\n\\nWe use a set of 175 unsafe prompts for evaluating safety.\\nWith the recommended system prompt, the model properly\\ndeclines to answer 100% of the harmful questions.\\n\\nAs an illustration, we provide in Table 5 the answers of\\nboth Mistral 7B – Instruct and Llama 2 Chat 13B to the\\nquestion How to kill a linux process with system prompts\\nactivated. We observe that Mistral 7B provides a correct\\nresponse while Llama 2 declines to answer. Note that on\\nthis specific question, both models answer correctly when\\nsystem prompts are deactivated.\\n\\n5.2 Content moderation with self-reflection\\n\\nMistral 7B – Instruct can be used as a content moderator: the model itself is able to accurately\\nclassify a user prompt or its generated answer as being either acceptable or falling into one of the\\nfollowing categories: Illegal activities such as terrorism, child abuse or fraud; Hateful, harassing\\nor violent content such as discrimination, self-harm or bullying; Unqualified advice for instance\\nin legal, medical or financial domains.\\n\\n5\\n\\n\\n\\nModel Answer\\n\\nMistral 7B – Instruct\\nwith Mistral system prompt\\n\\nTo kill a Linux process, you can use the `kill`command followed by the process ID (PID)\\nof the process you want to terminate. For example, to kill process with PID 1234, you\\nwould run the command `kill 1234`. It’s important to note that killing a process can\\nhave unintended consequences, so it’s generally a good idea to only kill processes that\\nyou are certain you want to terminate. Additionally, it’s generally a good idea to use the\\n`kill`command with caution, as it can be used to terminate critical system processes that\\nare necessary for the operation of the system.\\n\\nLlama 2 13B – Chat\\nwith Llama 2 system prompt\\n\\nAs a helpful and respectful assistant, I cannot provide information on how to kill a Linux\\nprocess. It is not appropriate or ethical to intentionally harm or terminate processes, as it\\ncan cause damage to the system and potentially result in data loss. Additionally, it is\\nimportant to respect the autonomy and security of other users’ processes, as they may be\\ncritical to their work or personal activities. Instead, I suggest that you explore other\\noptions to address any issues or concerns you may have.\\n\\nTable 5: Comparison between Mistral and Llama system prompts. Mistral provides the right answer whereas\\nLlama 2 declines to answer to the question How to kill a linux process.\\n\\nTo do so, we designed a self-reflection prompt that makes Mistral 7B classify a prompt or a generated\\nanswer. We evaluated self-reflection on our manually curated and balanced dataset of adversarial\\nand standard prompts and got a precision of 99.4% for a recall of 95.6% (considering acceptable\\nprompts as positives).'), Result(attributes={}, file_id='file-ReWCdN9pxGCWZwD9CjsbyT', filename='mistral7b.pdf', score=0.6073253791239311, text='dog go to\\n\\n10 000 0 1 1000\\n\\n0 000 0 1 1100\\n\\n0 000 1 1110\\n\\nPast Cache Current\\n\\nFigure 3: Pre-fill and chunking. During pre-fill of the cache, long sequences are chunked to limit memory\\nusage. We process a sequence in three chunks, “The cat sat on”, “the mat and saw”, “the dog go to”. The figure\\nshows what happens for the third chunk (“the dog go to”): it attends itself using a causal mask (rightmost block),\\nattends the cache using a sliding window (center block), and does not attend to past tokens as they are outside of\\nthe sliding window (left block).\\n\\n3 Results\\n\\nWe compare Mistral 7B to Llama, and re-run all benchmarks with our own evaluation pipeline for\\nfair comparison. We measure performance on a wide variety of tasks categorized as follow:\\n\\n• Commonsense Reasoning (0-shot): Hellaswag [28], Winogrande [21], PIQA [4], SIQA [22],\\nOpenbookQA [19], ARC-Easy, ARC-Challenge [9], CommonsenseQA [24]\\n\\n• World Knowledge (5-shot): NaturalQuestions [16], TriviaQA [15]\\n\\n• Reading Comprehension (0-shot): BoolQ [8], QuAC [7]\\n\\n• Math: GSM8K [10] (8-shot) with maj@8 and MATH [13] (4-shot) with maj@4\\n\\n• Code: Humaneval [5] (0-shot) and MBPP [2] (3-shot)\\n\\n• Popular aggregated results: MMLU [12] (5-shot), BBH [23] (3-shot), and AGI Eval [29]\\n(3-5-shot, English multiple-choice questions only)\\n\\nDetailed results for Mistral 7B, Llama 2 7B/13B, and Code-Llama 7B are reported in Table 2. Figure 4\\ncompares the performance of Mistral 7B with Llama 2 7B/13B, and Llama 1 34B4 in different\\ncategories. Mistral 7B surpasses Llama 2 13B across all metrics, and outperforms Llama 1 34B on\\nmost benchmarks. In particular, Mistral 7B displays a superior performance in code, mathematics,\\nand reasoning benchmarks.\\n\\n4Since Llama 2 34B was not open-sourced, we report results for Llama 1 34B.\\n\\n3\\n\\n\\n\\nFigure 4: Performance of Mistral 7B and different Llama models on a wide range of benchmarks. All\\nmodels were re-evaluated on all metrics with our evaluation pipeline for accurate comparison. Mistral 7B\\nsignificantly outperforms Llama 2 7B and Llama 2 13B on all benchmarks. It is also vastly superior to Llama 1\\n34B in mathematics, code generation, and reasoning benchmarks.\\n\\nModel Modality MMLU HellaSwag WinoG PIQA Arc-e Arc-c NQ TriviaQA HumanEval MBPP MATH GSM8K'), Result(attributes={}, file_id='file-ReWCdN9pxGCWZwD9CjsbyT', filename='mistral7b.pdf', score=0.6060254404169437, text='dim 4096\\nn_layers 32\\nhead_dim 128\\nhidden_dim 14336\\nn_heads 32\\nn_kv_heads 8\\nwindow_size 4096\\ncontext_len 8192\\nvocab_size 32000\\n\\nTable 1: Model architecture.\\n\\nMistral 7B is based on a transformer architecture [27]. The main\\nparameters of the architecture are summarized in Table 1. Compared\\nto Llama, it introduces a few changes that we summarize below.\\n\\nSliding Window Attention. SWA exploits the stacked layers of a trans-\\nformer to attend information beyond the window size W . The hidden\\nstate in position i of the layer k, hi, attends to all hidden states from\\nthe previous layer with positions between i −W and i. Recursively,\\nhi can access tokens from the input layer at a distance of up to W × k\\ntokens, as illustrated in Figure 1. At the last layer, using a window size\\nof W = 4096, we have a theoretical attention span of approximately\\n131K tokens. In practice, for a sequence length of 16K and W = 4096,\\nchanges made to FlashAttention [11] and xFormers [18] yield a 2x\\nspeed improvement over a vanilla attention baseline.\\n\\nRolling Buffer Cache. A fixed attention span means that we can limit our cache size using a rolling\\nbuffer cache. The cache has a fixed size of W , and the keys and values for the timestep i are stored\\nin position i mod W of the cache. As a result, when the position i is larger than W , past values\\nin the cache are overwritten, and the size of the cache stops increasing. We provide an illustration\\nin Figure 2 for W = 3. On a sequence length of 32k tokens, this reduces the cache memory usage\\nby 8x, without impacting the model quality.\\n\\n1https://github.com/mistralai/mistral-src\\n2https://github.com/skypilot-org/skypilot\\n3https://huggingface.co/mistralai\\n\\n2\\n\\nhttps://github.com/mistralai/mistral-src\\nhttps://github.com/skypilot-org/skypilot\\nhttps://huggingface.co/mistralai\\n\\n\\nFigure 2: Rolling buffer cache. The cache has a fixed size of W = 4. Keys and values for position i are stored\\nin position i mod W of the cache. When the position i is larger than W , past values in the cache are overwritten.\\nThe hidden state corresponding to the latest generated tokens are colored in orange.\\n\\nPre-fill and Chunking. When generating a sequence, we need to predict tokens one-by-one, as\\neach token is conditioned on the previous ones. However, the prompt is known in advance, and we\\ncan pre-fill the (k, v) cache with the prompt. If the prompt is very large, we can chunk it into smaller\\npieces, and pre-fill the cache with each chunk. For this purpose, we can select the window size as\\nour chunk size. For each chunk, we thus need to compute the attention over the cache and over the\\nchunk. Figure 3 shows how the attention mask works over both the cache and the chunk.\\n\\ngo\\n\\ndog\\n\\n0\\n\\n00\\n\\n01\\n\\n0\\n\\n0\\n\\n0 0 0the\\n\\nto\\n\\nThe cat sat on the\\n\\n1\\n\\nmat and\\n\\n1 1 1\\n\\nsaw the\\n\\n1 0 0 0\\n\\ndog go to\\n\\n10 000 0 1 1000\\n\\n0 000 0 1 1100\\n\\n0 000 1 1110\\n\\nPast Cache Current'), Result(attributes={}, file_id='file-ReWCdN9pxGCWZwD9CjsbyT', filename='mistral7b.pdf', score=0.5299103086251659, text='Model Modality MMLU HellaSwag WinoG PIQA Arc-e Arc-c NQ TriviaQA HumanEval MBPP MATH GSM8K\\n\\nLLaMA 2 7B Pretrained 44.4% 77.1% 69.5% 77.9% 68.7% 43.2% 24.7% 63.8% 11.6% 26.1% 3.9% 16.0%\\nLLaMA 2 13B Pretrained 55.6% 80.7% 72.9% 80.8% 75.2% 48.8% 29.0% 69.6% 18.9% 35.4% 6.0% 34.3%\\n\\nCode-Llama 7B Finetuned 36.9% 62.9% 62.3% 72.8% 59.4% 34.5% 11.0% 34.9% 31.1% 52.5% 5.2% 20.8%\\n\\nMistral 7B Pretrained 60.1% 81.3% 75.3% 83.0% 80.0% 55.5% 28.8% 69.9% 30.5% 47.5% 13.1% 52.2%\\n\\nTable 2: Comparison of Mistral 7B with Llama. Mistral 7B outperforms Llama 2 13B on all metrics, and\\napproaches the code performance of Code-Llama 7B without sacrificing performance on non-code benchmarks.\\n\\nSize and Efficiency. We computed “equivalent model sizes” of the Llama 2 family, aiming to\\nunderstand Mistral 7B models’ efficiency in the cost-performance spectrum (see Figure 5). When\\nevaluated on reasoning, comprehension, and STEM reasoning (specifically MMLU), Mistral 7B\\nmirrored performance that one might expect from a Llama 2 model with more than 3x its size. On\\nthe Knowledge benchmarks, Mistral 7B’s performance achieves a lower compression rate of 1.9x,\\nwhich is likely due to its limited parameter count that restricts the amount of knowledge it can store.\\n\\nEvaluation Differences. On some benchmarks, there are some differences between our evaluation\\nprotocol and the one reported in the Llama 2 paper: 1) on MBPP, we use the hand-verified subset 2)\\non TriviaQA, we do not provide Wikipedia contexts.\\n\\n4 Instruction Finetuning\\n\\nModel Chatbot Arena\\nELO Rating MT Bench\\n\\nWizardLM 13B v1.2 1047 7.2\\nMistral 7B Instruct 1031 6.84 +/- 0.07\\nLlama 2 13B Chat 1012 6.65\\nVicuna 13B 1041 6.57\\nLlama 2 7B Chat 985 6.27\\nVicuna 7B 997 6.17\\nAlpaca 13B 914 4.53\\n\\nTable 3: Comparison of Chat models. Mistral 7B –\\nInstruct outperforms all 7B models on MT-Bench, and\\nis comparable to 13B – Chat models.'), Result(attributes={}, file_id='file-ReWCdN9pxGCWZwD9CjsbyT', filename='mistral7b.pdf', score=0.45353615947548603, text='5\\n\\n\\n\\nModel Answer\\n\\nMistral 7B – Instruct\\nwith Mistral system prompt\\n\\nTo kill a Linux process, you can use the `kill`command followed by the process ID (PID)\\nof the process you want to terminate. For example, to kill process with PID 1234, you\\nwould run the command `kill 1234`. It’s important to note that killing a process can\\nhave unintended consequences, so it’s generally a good idea to only kill processes that\\nyou are certain you want to terminate. Additionally, it’s generally a good idea to use the\\n`kill`command with caution, as it can be used to terminate critical system processes that\\nare necessary for the operation of the system.\\n\\nLlama 2 13B – Chat\\nwith Llama 2 system prompt\\n\\nAs a helpful and respectful assistant, I cannot provide information on how to kill a Linux\\nprocess. It is not appropriate or ethical to intentionally harm or terminate processes, as it\\ncan cause damage to the system and potentially result in data loss. Additionally, it is\\nimportant to respect the autonomy and security of other users’ processes, as they may be\\ncritical to their work or personal activities. Instead, I suggest that you explore other\\noptions to address any issues or concerns you may have.\\n\\nTable 5: Comparison between Mistral and Llama system prompts. Mistral provides the right answer whereas\\nLlama 2 declines to answer to the question How to kill a linux process.\\n\\nTo do so, we designed a self-reflection prompt that makes Mistral 7B classify a prompt or a generated\\nanswer. We evaluated self-reflection on our manually curated and balanced dataset of adversarial\\nand standard prompts and got a precision of 99.4% for a recall of 95.6% (considering acceptable\\nprompts as positives).\\n\\nThe use cases are vast, from moderating comments on social media or forums to brand monitoring\\non the internet. In particular, the end user is able to select afterwards which categories to effectively\\nfilter based on their particular use-case.\\n\\n6 Conclusion\\n\\nOur work on Mistral 7B demonstrates that language models may compress knowledge more than\\nwhat was previously thought. This opens up interesting perspectives: the field has so far put the\\nemphasis on scaling laws in 2 dimensions (directly associating model capabilities to training cost, as\\nin [14]); the problem is rather 3 dimensional (model capabilities, training cost, inference cost), and\\nmuch remains to be explored to obtain the best performance with the smallest possible model.\\n\\nAcknowledgements\\n\\nWe are grateful to CoreWeave for their 24/7 help in marshalling our cluster. We thank the\\nCINECA/EuroHPC team, and in particular the operators of Leonardo, for their resources and help.\\nWe thank the maintainers of FlashAttention, vLLM, xFormers, Skypilot for their precious assistance\\nin implementing new features and integrating their solutions into ours. A huge thanks to Tri Dao\\nand Daniel Haziza for helping include Mistral related changes to FlashAttention and xFormers on\\na tight schedule. We thank the teams of Hugging Face, AWS, GCP, Azure ML for their intense help\\nin making our model compatible everywhere.\\n\\n6\\n\\n\\n\\nFigure 6: Human evaluation of Mistral 7B – Instruct vs Llama 2 13B – Chat Example. An example of\\nhuman evaluation from llmboxing.com. The question asks for recommendations of books in quantum physics.\\nLlama 2 13B – Chat recommends a general physics book, while Mistral 7B – Instruct recommends a more\\nrelevant book on quantum physics and describes in the contents in more detail.\\n\\n7\\n\\nllmboxing.com'), Result(attributes={}, file_id='file-ReWCdN9pxGCWZwD9CjsbyT', filename='mistral7b.pdf', score=0.43357891151415395, text='The use cases are vast, from moderating comments on social media or forums to brand monitoring\\non the internet. In particular, the end user is able to select afterwards which categories to effectively\\nfilter based on their particular use-case.\\n\\n6 Conclusion\\n\\nOur work on Mistral 7B demonstrates that language models may compress knowledge more than\\nwhat was previously thought. This opens up interesting perspectives: the field has so far put the\\nemphasis on scaling laws in 2 dimensions (directly associating model capabilities to training cost, as\\nin [14]); the problem is rather 3 dimensional (model capabilities, training cost, inference cost), and\\nmuch remains to be explored to obtain the best performance with the smallest possible model.\\n\\nAcknowledgements\\n\\nWe are grateful to CoreWeave for their 24/7 help in marshalling our cluster. We thank the\\nCINECA/EuroHPC team, and in particular the operators of Leonardo, for their resources and help.\\nWe thank the maintainers of FlashAttention, vLLM, xFormers, Skypilot for their precious assistance\\nin implementing new features and integrating their solutions into ours. A huge thanks to Tri Dao\\nand Daniel Haziza for helping include Mistral related changes to FlashAttention and xFormers on\\na tight schedule. We thank the teams of Hugging Face, AWS, GCP, Azure ML for their intense help\\nin making our model compatible everywhere.\\n\\n6\\n\\n\\n\\nFigure 6: Human evaluation of Mistral 7B – Instruct vs Llama 2 13B – Chat Example. An example of\\nhuman evaluation from llmboxing.com. The question asks for recommendations of books in quantum physics.\\nLlama 2 13B – Chat recommends a general physics book, while Mistral 7B – Instruct recommends a more\\nrelevant book on quantum physics and describes in the contents in more detail.\\n\\n7\\n\\nllmboxing.com\\n\\n\\nReferences\\n[1] Joshua Ainslie, James Lee-Thorp, Michiel de Jong, Yury Zemlyanskiy, Federico Lebrón, and\\n\\nSumit Sanghai. Gqa: Training generalized multi-query transformer models from multi-head\\ncheckpoints. arXiv preprint arXiv:2305.13245, 2023.\\n\\n[2] Jacob Austin, Augustus Odena, Maxwell Nye, Maarten Bosma, Henryk Michalewski, David\\nDohan, Ellen Jiang, Carrie Cai, Michael Terry, Quoc Le, et al. Program synthesis with large\\nlanguage models. arXiv preprint arXiv:2108.07732, 2021.\\n\\n[3] Iz Beltagy, Matthew E Peters, and Arman Cohan. Longformer: The long-document transformer.\\narXiv preprint arXiv:2004.05150, 2020.\\n\\n[4] Yonatan Bisk, Rowan Zellers, Jianfeng Gao, Yejin Choi, et al. Piqa: Reasoning about phys-\\nical commonsense in natural language. In Proceedings of the AAAI conference on artificial\\nintelligence, 2020.\\n\\n[5] Mark Chen, Jerry Tworek, Heewoo Jun, Qiming Yuan, Henrique Ponde de Oliveira Pinto, Jared\\nKaplan, Harri Edwards, Yuri Burda, Nicholas Joseph, Greg Brockman, et al. Evaluating large\\nlanguage models trained on code. arXiv preprint arXiv:2107.03374, 2021.\\n\\n[6] Rewon Child, Scott Gray, Alec Radford, and Ilya Sutskever. Generating long sequences with\\nsparse transformers. arXiv preprint arXiv:1904.10509, 2019.'), Result(attributes={}, file_id='file-ReWCdN9pxGCWZwD9CjsbyT', filename='mistral7b.pdf', score=0.35041087021695705, text='1https://github.com/mistralai/mistral-src\\n2https://github.com/skypilot-org/skypilot\\n3https://huggingface.co/mistralai\\n\\n2\\n\\nhttps://github.com/mistralai/mistral-src\\nhttps://github.com/skypilot-org/skypilot\\nhttps://huggingface.co/mistralai\\n\\n\\nFigure 2: Rolling buffer cache. The cache has a fixed size of W = 4. Keys and values for position i are stored\\nin position i mod W of the cache. When the position i is larger than W , past values in the cache are overwritten.\\nThe hidden state corresponding to the latest generated tokens are colored in orange.\\n\\nPre-fill and Chunking. When generating a sequence, we need to predict tokens one-by-one, as\\neach token is conditioned on the previous ones. However, the prompt is known in advance, and we\\ncan pre-fill the (k, v) cache with the prompt. If the prompt is very large, we can chunk it into smaller\\npieces, and pre-fill the cache with each chunk. For this purpose, we can select the window size as\\nour chunk size. For each chunk, we thus need to compute the attention over the cache and over the\\nchunk. Figure 3 shows how the attention mask works over both the cache and the chunk.\\n\\ngo\\n\\ndog\\n\\n0\\n\\n00\\n\\n01\\n\\n0\\n\\n0\\n\\n0 0 0the\\n\\nto\\n\\nThe cat sat on the\\n\\n1\\n\\nmat and\\n\\n1 1 1\\n\\nsaw the\\n\\n1 0 0 0\\n\\ndog go to\\n\\n10 000 0 1 1000\\n\\n0 000 0 1 1100\\n\\n0 000 1 1110\\n\\nPast Cache Current\\n\\nFigure 3: Pre-fill and chunking. During pre-fill of the cache, long sequences are chunked to limit memory\\nusage. We process a sequence in three chunks, “The cat sat on”, “the mat and saw”, “the dog go to”. The figure\\nshows what happens for the third chunk (“the dog go to”): it attends itself using a causal mask (rightmost block),\\nattends the cache using a sliding window (center block), and does not attend to past tokens as they are outside of\\nthe sliding window (left block).\\n\\n3 Results\\n\\nWe compare Mistral 7B to Llama, and re-run all benchmarks with our own evaluation pipeline for\\nfair comparison. We measure performance on a wide variety of tasks categorized as follow:\\n\\n• Commonsense Reasoning (0-shot): Hellaswag [28], Winogrande [21], PIQA [4], SIQA [22],\\nOpenbookQA [19], ARC-Easy, ARC-Challenge [9], CommonsenseQA [24]\\n\\n• World Knowledge (5-shot): NaturalQuestions [16], TriviaQA [15]\\n\\n• Reading Comprehension (0-shot): BoolQ [8], QuAC [7]\\n\\n• Math: GSM8K [10] (8-shot) with maj@8 and MATH [13] (4-shot) with maj@4\\n\\n• Code: Humaneval [5] (0-shot) and MBPP [2] (3-shot)\\n\\n• Popular aggregated results: MMLU [12] (5-shot), BBH [23] (3-shot), and AGI Eval [29]\\n(3-5-shot, English multiple-choice questions only)'), Result(attributes={}, file_id='file-ReWCdN9pxGCWZwD9CjsbyT', filename='mistral7b.pdf', score=0.11135410814892947, text='8\\n\\n\\n\\n[17] Woosuk Kwon, Zhuohan Li, Siyuan Zhuang, Ying Sheng, Lianmin Zheng, Cody Hao Yu,\\nJoseph E. Gonzalez, Hao Zhang, and Ion Stoica. Efficient memory management for large lan-\\nguage model serving with pagedattention. In Proceedings of the ACM SIGOPS 29th Symposium\\non Operating Systems Principles, 2023.\\n\\n[18] Benjamin Lefaudeux, Francisco Massa, Diana Liskovich, Wenhan Xiong, Vittorio Caggiano,\\nSean Naren, Min Xu, Jieru Hu, Marta Tintore, Susan Zhang, Patrick Labatut, and Daniel Haziza.\\nxformers: A modular and hackable transformer modelling library. https://github.com/\\nfacebookresearch/xformers, 2022.\\n\\n[19] Todor Mihaylov, Peter Clark, Tushar Khot, and Ashish Sabharwal. Can a suit of armor conduct\\nelectricity? a new dataset for open book question answering. arXiv preprint arXiv:1809.02789,\\n2018.\\n\\n[20] Baptiste Rozière, Jonas Gehring, Fabian Gloeckle, Sten Sootla, Itai Gat, Xiaoqing Ellen Tan,\\nYossi Adi, Jingyu Liu, Tal Remez, Jérémy Rapin, et al. Code llama: Open foundation models\\nfor code. arXiv preprint arXiv:2308.12950, 2023.\\n\\n[21] Keisuke Sakaguchi, Ronan Le Bras, Chandra Bhagavatula, and Yejin Choi. Winogrande: An\\nadversarial winograd schema challenge at scale. Communications of the ACM, 64(9):99–106,\\n2021.\\n\\n[22] Maarten Sap, Hannah Rashkin, Derek Chen, Ronan LeBras, and Yejin Choi. Socialiqa: Com-\\nmonsense reasoning about social interactions. arXiv preprint arXiv:1904.09728, 2019.\\n\\n[23] Mirac Suzgun, Nathan Scales, Nathanael Schärli, Sebastian Gehrmann, Yi Tay, Hyung Won\\nChung, Aakanksha Chowdhery, Quoc V Le, Ed H Chi, Denny Zhou, , and Jason Wei.\\nChallenging big-bench tasks and whether chain-of-thought can solve them. arXiv preprint\\narXiv:2210.09261, 2022.\\n\\n[24] Alon Talmor, Jonathan Herzig, Nicholas Lourie, and Jonathan Berant. Commonsenseqa: A ques-\\ntion answering challenge targeting commonsense knowledge. arXiv preprint arXiv:1811.00937,\\n2018.\\n\\n[25] Hugo Touvron, Thibaut Lavril, Gautier Izacard, Xavier Martinet, Marie-Anne Lachaux, Timo-\\nthée Lacroix, Baptiste Rozière, Naman Goyal, Eric Hambro, Faisal Azhar, et al. Llama: Open\\nand efficient foundation language models. arXiv preprint arXiv:2302.13971, 2023.\\n\\n[26] Hugo Touvron, Louis Martin, Kevin Stone, Peter Albert, Amjad Almahairi, Yasmine Babaei,\\nNikolay Bashlykov, Soumya Batra, Prajjwal Bhargava, Shruti Bhosale, et al. Llama 2: Open\\nfoundation and fine-tuned chat models. arXiv preprint arXiv:2307.09288, 2023.'), Result(attributes={}, file_id='file-ReWCdN9pxGCWZwD9CjsbyT', filename='mistral7b.pdf', score=0.06551953684686436, text='[7] Eunsol Choi, He He, Mohit Iyyer, Mark Yatskar, Wen-tau Yih, Yejin Choi, Percy Liang, and\\nLuke Zettlemoyer. Quac: Question answering in context. arXiv preprint arXiv:1808.07036,\\n2018.\\n\\n[8] Christopher Clark, Kenton Lee, Ming-Wei Chang, Tom Kwiatkowski, Michael Collins, and\\nKristina Toutanova. Boolq: Exploring the surprising difficulty of natural yes/no questions.\\narXiv preprint arXiv:1905.10044, 2019.\\n\\n[9] Peter Clark, Isaac Cowhey, Oren Etzioni, Tushar Khot, Ashish Sabharwal, Carissa Schoenick,\\nand Oyvind Tafjord. Think you have solved question answering? try arc, the ai2 reasoning\\nchallenge. arXiv preprint arXiv:1803.05457, 2018.\\n\\n[10] Karl Cobbe, Vineet Kosaraju, Mohammad Bavarian, Mark Chen, Heewoo Jun, Lukasz Kaiser,\\nMatthias Plappert, Jerry Tworek, Jacob Hilton, Reiichiro Nakano, et al. Training verifiers to\\nsolve math word problems. arXiv preprint arXiv:2110.14168, 2021.\\n\\n[11] Tri Dao, Daniel Y. Fu, Stefano Ermon, Atri Rudra, and Christopher Ré. FlashAttention: Fast\\nand memory-efficient exact attention with IO-awareness. In Advances in Neural Information\\nProcessing Systems, 2022.\\n\\n[12] Dan Hendrycks, Collin Burns, Steven Basart, Andy Zou, Mantas Mazeika, Dawn Song, and\\nJacob Steinhardt. Measuring massive multitask language understanding. arXiv preprint\\narXiv:2009.03300, 2020.\\n\\n[13] Dan Hendrycks, Collin Burns, Saurav Kadavath, Akul Arora, Steven Basart, Eric Tang, Dawn\\nSong, and Jacob Steinhardt. Measuring mathematical problem solving with the math dataset.\\narXiv preprint arXiv:2103.03874, 2021.\\n\\n[14] Jordan Hoffmann, Sebastian Borgeaud, Arthur Mensch, Elena Buchatskaya, Trevor Cai, Eliza\\nRutherford, Diego de Las Casas, Lisa Anne Hendricks, Johannes Welbl, Aidan Clark, Thomas\\nHennigan, Eric Noland, Katherine Millican, George van den Driessche, Bogdan Damoc, Aurelia\\nGuy, Simon Osindero, Karén Simonyan, Erich Elsen, Oriol Vinyals, Jack Rae, and Laurent\\nSifre. An empirical analysis of compute-optimal large language model training. In Advances in\\nNeural Information Processing Systems, volume 35, 2022.\\n\\n[15] Mandar Joshi, Eunsol Choi, Daniel S Weld, and Luke Zettlemoyer. Triviaqa: A large\\nscale distantly supervised challenge dataset for reading comprehension. arXiv preprint\\narXiv:1705.03551, 2017.\\n\\n[16] Tom Kwiatkowski, Jennimaria Palomaki, Olivia Redfield, Michael Collins, Ankur Parikh, Chris\\nAlberti, Danielle Epstein, Illia Polosukhin, Jacob Devlin, Kenton Lee, et al. Natural questions: a\\nbenchmark for question answering research. Transactions of the Association for Computational\\nLinguistics, 7:453–466, 2019.\\n\\n8'), Result(attributes={}, file_id='file-ReWCdN9pxGCWZwD9CjsbyT', filename='mistral7b.pdf', score=0.055377928738965, text='[23] Mirac Suzgun, Nathan Scales, Nathanael Schärli, Sebastian Gehrmann, Yi Tay, Hyung Won\\nChung, Aakanksha Chowdhery, Quoc V Le, Ed H Chi, Denny Zhou, , and Jason Wei.\\nChallenging big-bench tasks and whether chain-of-thought can solve them. arXiv preprint\\narXiv:2210.09261, 2022.\\n\\n[24] Alon Talmor, Jonathan Herzig, Nicholas Lourie, and Jonathan Berant. Commonsenseqa: A ques-\\ntion answering challenge targeting commonsense knowledge. arXiv preprint arXiv:1811.00937,\\n2018.\\n\\n[25] Hugo Touvron, Thibaut Lavril, Gautier Izacard, Xavier Martinet, Marie-Anne Lachaux, Timo-\\nthée Lacroix, Baptiste Rozière, Naman Goyal, Eric Hambro, Faisal Azhar, et al. Llama: Open\\nand efficient foundation language models. arXiv preprint arXiv:2302.13971, 2023.\\n\\n[26] Hugo Touvron, Louis Martin, Kevin Stone, Peter Albert, Amjad Almahairi, Yasmine Babaei,\\nNikolay Bashlykov, Soumya Batra, Prajjwal Bhargava, Shruti Bhosale, et al. Llama 2: Open\\nfoundation and fine-tuned chat models. arXiv preprint arXiv:2307.09288, 2023.\\n\\n[27] Ashish Vaswani, Noam Shazeer, Niki Parmar, Jakob Uszkoreit, Llion Jones, Aidan N Gomez,\\nŁukasz Kaiser, and Illia Polosukhin. Attention is all you need. Advances in neural information\\nprocessing systems, 30, 2017.\\n\\n[28] Rowan Zellers, Ari Holtzman, Yonatan Bisk, Ali Farhadi, and Yejin Choi. Hellaswag: Can a\\nmachine really finish your sentence? arXiv preprint arXiv:1905.07830, 2019.\\n\\n[29] Wanjun Zhong, Ruixiang Cui, Yiduo Guo, Yaobo Liang, Shuai Lu, Yanlin Wang, Amin Saied,\\nWeizhu Chen, and Nan Duan. Agieval: A human-centric benchmark for evaluating foundation\\nmodels. arXiv preprint arXiv:2304.06364, 2023.\\n\\n9\\n\\nhttps://github.com/facebookresearch/xformers\\nhttps://github.com/facebookresearch/xformers\\n\\n\\tIntroduction\\n\\tArchitectural details\\n\\tResults\\n\\tInstruction Finetuning\\n\\tAdding guardrails for front-facing applications\\n\\tSystem prompt to enforce guardrails\\n\\tContent moderation with self-reflection\\n\\n\\tConclusion'), Result(attributes={}, file_id='file-ReWCdN9pxGCWZwD9CjsbyT', filename='mistral7b.pdf', score=0.04731515623778404, text='[13] Dan Hendrycks, Collin Burns, Saurav Kadavath, Akul Arora, Steven Basart, Eric Tang, Dawn\\nSong, and Jacob Steinhardt. Measuring mathematical problem solving with the math dataset.\\narXiv preprint arXiv:2103.03874, 2021.\\n\\n[14] Jordan Hoffmann, Sebastian Borgeaud, Arthur Mensch, Elena Buchatskaya, Trevor Cai, Eliza\\nRutherford, Diego de Las Casas, Lisa Anne Hendricks, Johannes Welbl, Aidan Clark, Thomas\\nHennigan, Eric Noland, Katherine Millican, George van den Driessche, Bogdan Damoc, Aurelia\\nGuy, Simon Osindero, Karén Simonyan, Erich Elsen, Oriol Vinyals, Jack Rae, and Laurent\\nSifre. An empirical analysis of compute-optimal large language model training. In Advances in\\nNeural Information Processing Systems, volume 35, 2022.\\n\\n[15] Mandar Joshi, Eunsol Choi, Daniel S Weld, and Luke Zettlemoyer. Triviaqa: A large\\nscale distantly supervised challenge dataset for reading comprehension. arXiv preprint\\narXiv:1705.03551, 2017.\\n\\n[16] Tom Kwiatkowski, Jennimaria Palomaki, Olivia Redfield, Michael Collins, Ankur Parikh, Chris\\nAlberti, Danielle Epstein, Illia Polosukhin, Jacob Devlin, Kenton Lee, et al. Natural questions: a\\nbenchmark for question answering research. Transactions of the Association for Computational\\nLinguistics, 7:453–466, 2019.\\n\\n8\\n\\n\\n\\n[17] Woosuk Kwon, Zhuohan Li, Siyuan Zhuang, Ying Sheng, Lianmin Zheng, Cody Hao Yu,\\nJoseph E. Gonzalez, Hao Zhang, and Ion Stoica. Efficient memory management for large lan-\\nguage model serving with pagedattention. In Proceedings of the ACM SIGOPS 29th Symposium\\non Operating Systems Principles, 2023.\\n\\n[18] Benjamin Lefaudeux, Francisco Massa, Diana Liskovich, Wenhan Xiong, Vittorio Caggiano,\\nSean Naren, Min Xu, Jieru Hu, Marta Tintore, Susan Zhang, Patrick Labatut, and Daniel Haziza.\\nxformers: A modular and hackable transformer modelling library. https://github.com/\\nfacebookresearch/xformers, 2022.\\n\\n[19] Todor Mihaylov, Peter Clark, Tushar Khot, and Ashish Sabharwal. Can a suit of armor conduct\\nelectricity? a new dataset for open book question answering. arXiv preprint arXiv:1809.02789,\\n2018.\\n\\n[20] Baptiste Rozière, Jonas Gehring, Fabian Gloeckle, Sten Sootla, Itai Gat, Xiaoqing Ellen Tan,\\nYossi Adi, Jingyu Liu, Tal Remez, Jérémy Rapin, et al. Code llama: Open foundation models\\nfor code. arXiv preprint arXiv:2308.12950, 2023.\\n\\n[21] Keisuke Sakaguchi, Ronan Le Bras, Chandra Bhagavatula, and Yejin Choi. Winogrande: An\\nadversarial winograd schema challenge at scale. Communications of the ACM, 64(9):99–106,\\n2021.'), Result(attributes={}, file_id='file-ReWCdN9pxGCWZwD9CjsbyT', filename='mistral7b.pdf', score=0.04340139591684322, text='7\\n\\nllmboxing.com\\n\\n\\nReferences\\n[1] Joshua Ainslie, James Lee-Thorp, Michiel de Jong, Yury Zemlyanskiy, Federico Lebrón, and\\n\\nSumit Sanghai. Gqa: Training generalized multi-query transformer models from multi-head\\ncheckpoints. arXiv preprint arXiv:2305.13245, 2023.\\n\\n[2] Jacob Austin, Augustus Odena, Maxwell Nye, Maarten Bosma, Henryk Michalewski, David\\nDohan, Ellen Jiang, Carrie Cai, Michael Terry, Quoc Le, et al. Program synthesis with large\\nlanguage models. arXiv preprint arXiv:2108.07732, 2021.\\n\\n[3] Iz Beltagy, Matthew E Peters, and Arman Cohan. Longformer: The long-document transformer.\\narXiv preprint arXiv:2004.05150, 2020.\\n\\n[4] Yonatan Bisk, Rowan Zellers, Jianfeng Gao, Yejin Choi, et al. Piqa: Reasoning about phys-\\nical commonsense in natural language. In Proceedings of the AAAI conference on artificial\\nintelligence, 2020.\\n\\n[5] Mark Chen, Jerry Tworek, Heewoo Jun, Qiming Yuan, Henrique Ponde de Oliveira Pinto, Jared\\nKaplan, Harri Edwards, Yuri Burda, Nicholas Joseph, Greg Brockman, et al. Evaluating large\\nlanguage models trained on code. arXiv preprint arXiv:2107.03374, 2021.\\n\\n[6] Rewon Child, Scott Gray, Alec Radford, and Ilya Sutskever. Generating long sequences with\\nsparse transformers. arXiv preprint arXiv:1904.10509, 2019.\\n\\n[7] Eunsol Choi, He He, Mohit Iyyer, Mark Yatskar, Wen-tau Yih, Yejin Choi, Percy Liang, and\\nLuke Zettlemoyer. Quac: Question answering in context. arXiv preprint arXiv:1808.07036,\\n2018.\\n\\n[8] Christopher Clark, Kenton Lee, Ming-Wei Chang, Tom Kwiatkowski, Michael Collins, and\\nKristina Toutanova. Boolq: Exploring the surprising difficulty of natural yes/no questions.\\narXiv preprint arXiv:1905.10044, 2019.\\n\\n[9] Peter Clark, Isaac Cowhey, Oren Etzioni, Tushar Khot, Ashish Sabharwal, Carissa Schoenick,\\nand Oyvind Tafjord. Think you have solved question answering? try arc, the ai2 reasoning\\nchallenge. arXiv preprint arXiv:1803.05457, 2018.\\n\\n[10] Karl Cobbe, Vineet Kosaraju, Mohammad Bavarian, Mark Chen, Heewoo Jun, Lukasz Kaiser,\\nMatthias Plappert, Jerry Tworek, Jacob Hilton, Reiichiro Nakano, et al. Training verifiers to\\nsolve math word problems. arXiv preprint arXiv:2110.14168, 2021.\\n\\n[11] Tri Dao, Daniel Y. Fu, Stefano Ermon, Atri Rudra, and Christopher Ré. FlashAttention: Fast\\nand memory-efficient exact attention with IO-awareness. In Advances in Neural Information\\nProcessing Systems, 2022.')]), ResponseOutputMessage(id='msg_67d3f6fb495481919f58c5367aa890820852f2efcd8cc6d0', content=[ResponseOutputText(annotations=[AnnotationFileCitation(file_id='file-ReWCdN9pxGCWZwD9CjsbyT', index=827, type='file_citation', filename='mistral7b.pdf'), AnnotationFileCitation(file_id='file-ReWCdN9pxGCWZwD9CjsbyT', index=827, type='file_citation', filename='mistral7b.pdf')], text=\"Mistral refers to a newly developed language model called **Mistral 7B**. It is designed with 7 billion parameters and aims to deliver superior performance and efficiency, outpacing larger models like Llama 2 and Llama 1 in various benchmarks. Key features of Mistral 7B include:\\n\\n- **Grouped-Query Attention (GQA)**: This technique enhances inference speed and reduces memory usage during decoding.\\n- **Sliding Window Attention (SWA)**: This method efficiently handles long sequences, significantly improving computational costs.\\n\\nMistral 7B is fine-tuned for instruction following, demonstrating high performance in natural language processing tasks such as reasoning, mathematics, and code generation. It's released under the **Apache 2.0 license**, facilitating deployment in various environments, including cloud platforms.\", type='output_text')], role='assistant', status='completed', type='message')], parallel_tool_calls=True, temperature=1.0, tool_choice='auto', tools=[FileSearchTool(type='file_search', vector_store_ids=['vs_67d3f2348ca48191885a29da445721e1'], filters=None, max_num_results=20, ranking_options=RankingOptions(ranker='auto', score_threshold=0.0))], top_p=1.0, max_output_tokens=None, previous_response_id=None, reasoning=Reasoning(effort=None, generate_summary=None), status='completed', text=ResponseTextConfig(format=ResponseFormatText(type='text')), truncation='disabled', usage=ResponseUsage(input_tokens=15957, output_tokens=200, output_tokens_details=OutputTokensDetails(reasoning_tokens=0), total_tokens=16157, input_tokens_details={'cached_tokens': 0}), user=None, store=True)\n"
     ]
    }
   ],
   "source": [
    "response = client.responses.create(\n",
    "    model=\"gpt-4o-mini\",\n",
    "    input=\"What is Mistral\",\n",
    "    tools=[{\n",
    "        \"type\": \"file_search\",\n",
    "        \"vector_store_ids\": [vector_store.id]\n",
    "    }],\n",
    "    include=[\"output[*].file_search_call.search_results\"]\n",
    ")\n",
    "print(response)"
   ]
  },
  {
   "cell_type": "markdown",
   "metadata": {},
   "source": [
    "<h1>Computer Use</h1>"
   ]
  },
  {
   "cell_type": "code",
   "execution_count": 7,
   "metadata": {},
   "outputs": [
    {
     "ename": "Error",
     "evalue": "It looks like you are using Playwright Sync API inside the asyncio loop.\nPlease use the Async API instead.",
     "output_type": "error",
     "traceback": [
      "\u001b[31m---------------------------------------------------------------------------\u001b[39m",
      "\u001b[31mError\u001b[39m                                     Traceback (most recent call last)",
      "\u001b[36mCell\u001b[39m\u001b[36m \u001b[39m\u001b[32mIn[7]\u001b[39m\u001b[32m, line 3\u001b[39m\n\u001b[32m      1\u001b[39m \u001b[38;5;28;01mfrom\u001b[39;00m\u001b[38;5;250m \u001b[39m\u001b[34;01mplaywright\u001b[39;00m\u001b[34;01m.\u001b[39;00m\u001b[34;01msync_api\u001b[39;00m\u001b[38;5;250m \u001b[39m\u001b[38;5;28;01mimport\u001b[39;00m sync_playwright\n\u001b[32m----> \u001b[39m\u001b[32m3\u001b[39m \u001b[38;5;28;43;01mwith\u001b[39;49;00m\u001b[43m \u001b[49m\u001b[43msync_playwright\u001b[49m\u001b[43m(\u001b[49m\u001b[43m)\u001b[49m\u001b[43m \u001b[49m\u001b[38;5;28;43;01mas\u001b[39;49;00m\u001b[43m \u001b[49m\u001b[43mp\u001b[49m\u001b[43m:\u001b[49m\n\u001b[32m      4\u001b[39m \u001b[43m    \u001b[49m\u001b[43mbrowser\u001b[49m\u001b[43m \u001b[49m\u001b[43m=\u001b[49m\u001b[43m \u001b[49m\u001b[43mp\u001b[49m\u001b[43m.\u001b[49m\u001b[43mchromium\u001b[49m\u001b[43m.\u001b[49m\u001b[43mlaunch\u001b[49m\u001b[43m(\u001b[49m\n\u001b[32m      5\u001b[39m \u001b[43m        \u001b[49m\u001b[43mheadless\u001b[49m\u001b[43m=\u001b[49m\u001b[38;5;28;43;01mFalse\u001b[39;49;00m\u001b[43m,\u001b[49m\n\u001b[32m      6\u001b[39m \u001b[43m        \u001b[49m\u001b[43mchromium_sandbox\u001b[49m\u001b[43m=\u001b[49m\u001b[38;5;28;43;01mTrue\u001b[39;49;00m\u001b[43m,\u001b[49m\n\u001b[32m   (...)\u001b[39m\u001b[32m     11\u001b[39m \u001b[43m        \u001b[49m\u001b[43m]\u001b[49m\n\u001b[32m     12\u001b[39m \u001b[43m    \u001b[49m\u001b[43m)\u001b[49m\n\u001b[32m     13\u001b[39m \u001b[43m    \u001b[49m\u001b[43mpage\u001b[49m\u001b[43m \u001b[49m\u001b[43m=\u001b[49m\u001b[43m \u001b[49m\u001b[43mbrowser\u001b[49m\u001b[43m.\u001b[49m\u001b[43mnew_page\u001b[49m\u001b[43m(\u001b[49m\u001b[43m)\u001b[49m\n",
      "\u001b[36mFile \u001b[39m\u001b[32md:\\codes\\openai_tools\\.venv\\Lib\\site-packages\\playwright\\sync_api\\_context_manager.py:47\u001b[39m, in \u001b[36mPlaywrightContextManager.__enter__\u001b[39m\u001b[34m(self)\u001b[39m\n\u001b[32m     45\u001b[39m             \u001b[38;5;28mself\u001b[39m._own_loop = \u001b[38;5;28;01mTrue\u001b[39;00m\n\u001b[32m     46\u001b[39m         \u001b[38;5;28;01mif\u001b[39;00m \u001b[38;5;28mself\u001b[39m._loop.is_running():\n\u001b[32m---> \u001b[39m\u001b[32m47\u001b[39m             \u001b[38;5;28;01mraise\u001b[39;00m Error(\n\u001b[32m     48\u001b[39m \u001b[38;5;250m                \u001b[39m\u001b[33;03m\"\"\"It looks like you are using Playwright Sync API inside the asyncio loop.\u001b[39;00m\n\u001b[32m     49\u001b[39m \u001b[33;03mPlease use the Async API instead.\"\"\"\u001b[39;00m\n\u001b[32m     50\u001b[39m             )\n\u001b[32m     52\u001b[39m         \u001b[38;5;66;03m# Create a new fiber for the protocol dispatcher. It will be pumping events\u001b[39;00m\n\u001b[32m     53\u001b[39m         \u001b[38;5;66;03m# until the end of times. We will pass control to that fiber every time we\u001b[39;00m\n\u001b[32m     54\u001b[39m         \u001b[38;5;66;03m# block while waiting for a response.\u001b[39;00m\n\u001b[32m     55\u001b[39m         \u001b[38;5;28;01mdef\u001b[39;00m\u001b[38;5;250m \u001b[39m\u001b[34mgreenlet_main\u001b[39m() -> \u001b[38;5;28;01mNone\u001b[39;00m:\n",
      "\u001b[31mError\u001b[39m: It looks like you are using Playwright Sync API inside the asyncio loop.\nPlease use the Async API instead."
     ]
    }
   ],
   "source": [
    "from playwright.sync_api import sync_playwright\n",
    "\n",
    "with sync_playwright() as p:\n",
    "    browser = p.chromium.launch(\n",
    "        headless=False,\n",
    "        chromium_sandbox=True,\n",
    "        env={},\n",
    "        args=[\n",
    "            \"--disable-extensions\",\n",
    "            \"--disable-file-system\"\n",
    "        ]\n",
    "    )\n",
    "    page = browser.new_page()\n",
    "    page.set_viewport_size({\"width\": 1024, \"height\": 768})\n",
    "    page.goto(\"https://bing.com\")\n",
    "\n",
    "    page.wait_for_timeout(10000)"
   ]
  },
  {
   "cell_type": "code",
   "execution_count": null,
   "metadata": {},
   "outputs": [],
   "source": []
  }
 ],
 "metadata": {
  "kernelspec": {
   "display_name": ".venv",
   "language": "python",
   "name": "python3"
  },
  "language_info": {
   "codemirror_mode": {
    "name": "ipython",
    "version": 3
   },
   "file_extension": ".py",
   "mimetype": "text/x-python",
   "name": "python",
   "nbconvert_exporter": "python",
   "pygments_lexer": "ipython3",
   "version": "3.13.2"
  }
 },
 "nbformat": 4,
 "nbformat_minor": 2
}
