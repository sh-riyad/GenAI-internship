{
 "cells": [
  {
   "cell_type": "code",
   "execution_count": 4,
   "id": "a366475f-33ad-4544-81a3-dddd00fd2a28",
   "metadata": {},
   "outputs": [
    {
     "name": "stdout",
     "output_type": "stream",
     "text": [
      "Note: you may need to restart the kernel to use updated packages.\n"
     ]
    },
    {
     "name": "stderr",
     "output_type": "stream",
     "text": [
      "\n",
      "[notice] A new release of pip available: 22.3 -> 25.0.1\n",
      "[notice] To update, run: C:\\Users\\saraw\\AppData\\Local\\Programs\\Python\\Python311\\python.exe -m pip install --upgrade pip\n"
     ]
    }
   ],
   "source": [
    "pip install -q openai python-dotenv langsmith"
   ]
  },
  {
   "cell_type": "code",
   "execution_count": 5,
   "id": "f955d06b-96b1-483b-9f2b-6b378bb0c76c",
   "metadata": {},
   "outputs": [],
   "source": [
    "import os\n",
    "from dotenv import load_dotenv\n",
    "load_dotenv()\n",
    "\n",
    "os.environ[\"OPENAI_API_KEY\"] = os.getenv(\"OPENAI_API_KEY\")\n",
    "os.environ[\"LANGCHAIN_API_KEY\"]=os.getenv(\"LANGCHAIN_API_KEY\")\n",
    "os.environ[\"LANGCHAIN_TRACING_V2\"]=os.getenv(\"LANGCHAIN_TRACING_V2\")\n",
    "os.environ[\"LANGCHAIN_PROJECT\"]=os.getenv(\"LANGCHAIN_PROJECT\")"
   ]
  },
  {
   "cell_type": "code",
   "execution_count": 6,
   "id": "07ec88c7-e620-40a3-b3b7-b3d43520bf17",
   "metadata": {},
   "outputs": [],
   "source": [
    "from openai import OpenAI\n",
    "from langsmith import wrappers, traceable\n",
    "\n",
    "client = wrappers.wrap_openai(OpenAI())\n",
    "\n",
    "audio_file= open(\"Hello voice.m4a\", \"rb\")"
   ]
  },
  {
   "cell_type": "code",
   "execution_count": 7,
   "id": "cd9747cc-277b-4453-9af5-2c94aae5c3de",
   "metadata": {},
   "outputs": [
    {
     "name": "stdout",
     "output_type": "stream",
     "text": [
      "হ্যালো, আমি সোহরাব। আপনি কেমন আছেন?\n"
     ]
    }
   ],
   "source": [
    "@traceable\n",
    "def pipeline(audio_file):\n",
    "    transcription = client.audio.transcriptions.create(\n",
    "        model=\"gpt-4o-transcribe\", \n",
    "        file=audio_file\n",
    "    )\n",
    "    return transcription.text\n",
    "\n",
    "response = pipeline(audio_file)\n",
    "\n",
    "print(response)"
   ]
  },
  {
   "cell_type": "code",
   "execution_count": 8,
   "id": "32c1aece-ae3c-4629-9b1f-683b6e8a7142",
   "metadata": {},
   "outputs": [
    {
     "name": "stdout",
     "output_type": "stream",
     "text": [
      "Hello, I'm Sarwar. How are you?\n"
     ]
    }
   ],
   "source": [
    "translation = client.audio.translations.create(\n",
    "    model=\"whisper-1\", \n",
    "    file=audio_file,\n",
    ")\n",
    "\n",
    "print(translation.text)"
   ]
  },
  {
   "cell_type": "code",
   "execution_count": 9,
   "id": "966ad5fa-2c5b-4016-b8bf-35cd26c47791",
   "metadata": {},
   "outputs": [
    {
     "name": "stdout",
     "output_type": "stream",
     "text": [
      "[TranscriptionWord(end=1.3600000143051147, start=0.0, word='Hello'), TranscriptionWord(end=2.119999885559082, start=1.7400000095367432, word=\"I'm\"), TranscriptionWord(end=2.559999942779541, start=2.119999885559082, word='Sarwar'), TranscriptionWord(end=3.4800000190734863, start=3.200000047683716, word='How'), TranscriptionWord(end=3.619999885559082, start=3.4800000190734863, word='are'), TranscriptionWord(end=3.819999933242798, start=3.619999885559082, word='you')]\n"
     ]
    }
   ],
   "source": [
    "# Timestamp options\n",
    "\n",
    "transcription = client.audio.transcriptions.create(\n",
    "  file=audio_file,\n",
    "  model=\"whisper-1\",\n",
    "  response_format=\"verbose_json\",\n",
    "  timestamp_granularities=[\"word\"]\n",
    ")\n",
    "\n",
    "print(transcription.words)"
   ]
  },
  {
   "cell_type": "code",
   "execution_count": null,
   "id": "d077b1d7-3162-43fd-9b7f-382e456be1f2",
   "metadata": {},
   "outputs": [],
   "source": []
  },
  {
   "cell_type": "code",
   "execution_count": 12,
   "id": "08e00c08-2002-4249-8906-bfa9e7ba488e",
   "metadata": {},
   "outputs": [
    {
     "name": "stdout",
     "output_type": "stream",
     "text": [
      "হ্যালো, আমি সারোয়ার। আপনি কেমন আছেন?\n",
      "\n"
     ]
    }
   ],
   "source": [
    "#Prompting\n",
    "\n",
    "transcription = client.audio.transcriptions.create(\n",
    "  model=\"gpt-4o-transcribe\", \n",
    "  file=audio_file, \n",
    "  response_format=\"text\",\n",
    "  prompt=\"Extract the information from audio and translate it into bangla\"\n",
    ")\n",
    "\n",
    "print(transcription)"
   ]
  },
  {
   "cell_type": "code",
   "execution_count": null,
   "id": "2e534a7f-b9cd-4dd0-b2b5-fa029d229900",
   "metadata": {},
   "outputs": [],
   "source": []
  }
 ],
 "metadata": {
  "kernelspec": {
   "display_name": "Python 3 (ipykernel)",
   "language": "python",
   "name": "python3"
  },
  "language_info": {
   "codemirror_mode": {
    "name": "ipython",
    "version": 3
   },
   "file_extension": ".py",
   "mimetype": "text/x-python",
   "name": "python",
   "nbconvert_exporter": "python",
   "pygments_lexer": "ipython3",
   "version": "3.11.0"
  }
 },
 "nbformat": 4,
 "nbformat_minor": 5
}
