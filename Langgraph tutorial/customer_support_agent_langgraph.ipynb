{
 "cells": [
  {
   "cell_type": "code",
   "execution_count": 2,
   "id": "f249020f-7024-427e-bad2-21a02dfdb7b0",
   "metadata": {},
   "outputs": [],
   "source": [
    "from typing import Dict, TypedDict, List\n",
    "from langgraph.graph import StateGraph, END\n",
    "from langchain_core.prompts import ChatPromptTemplate\n",
    "from langchain_openai import ChatOpenAI\n",
    "from langchain_core.messages import HumanMessage, AIMessage\n",
    "from IPython.display import display, Image\n",
    "from langchain_core.runnables.graph import MermaidDrawMethod\n",
    "from dotenv import load_dotenv\n",
    "import os\n",
    "from pydantic import BaseModel\n",
    "\n",
    "# Load environment variables and set OpenAI API key\n",
    "load_dotenv()\n",
    "os.environ[\"OPENAI_API_KEY\"] = os.getenv('OPENAI_API_KEY')\n",
    "os.environ[\"LANGSMITH_API_KEY\"] = os.getenv(\"LANGSMITH_API_KEY\")\n",
    "os.environ[\"LANGSMITH_TRACING\"] = os.getenv(\"LANGSMITH_TRACING\")"
   ]
  },
  {
   "cell_type": "markdown",
   "id": "4b4616d3-f032-440e-b7fd-d1db325f62a8",
   "metadata": {},
   "source": [
    "# Database Implementation"
   ]
  },
  {
   "cell_type": "code",
   "execution_count": 2,
   "id": "8949b594-5a2d-46df-a67f-c7f07f60dc67",
   "metadata": {},
   "outputs": [],
   "source": [
    "from sqlalchemy import create_engine, Column, Integer, String, Float, Date\n",
    "from sqlalchemy.orm import declarative_base, sessionmaker, Session\n",
    "import datetime\n",
    "\n",
    "# import logging\n",
    "# # Suppress SQLAlchemy logging output\n",
    "# logging.basicConfig()\n",
    "# logging.getLogger('sqlalchemy.engine').setLevel(logging.WARNING)\n",
    "\n",
    "Base = declarative_base()\n",
    "\n",
    "# create database\n",
    "engine = create_engine('sqlite:///amar-shop.db', echo=False)\n",
    "SessionLocal = sessionmaker(autocommit=False, autoflush=False, bind=engine)\n",
    "\n",
    "database = SessionLocal()"
   ]
  },
  {
   "cell_type": "code",
   "execution_count": 3,
   "id": "e17268eb-c2a4-4a4e-bdc8-0d266d4c76b8",
   "metadata": {},
   "outputs": [],
   "source": [
    "from db import Products, Services"
   ]
  },
  {
   "cell_type": "markdown",
   "id": "2731164d-4ef1-41ef-9810-ac0b6d10dc81",
   "metadata": {},
   "source": [
    "# LangGraph Implementation"
   ]
  },
  {
   "cell_type": "code",
   "execution_count": 4,
   "id": "2c20d4e1-d85e-479c-942d-b6e127af956d",
   "metadata": {},
   "outputs": [],
   "source": [
    "from typing import Annotated\n",
    "from langgraph.graph.message import AnyMessage, add_messages\n",
    "\n",
    "class State(TypedDict):\n",
    "    messages: Annotated[list[AnyMessage], add_messages]\n",
    "    query: str\n",
    "    category: List[str]\n",
    "    sentiment: str\n",
    "    response: str"
   ]
  },
  {
   "cell_type": "code",
   "execution_count": 7,
   "id": "24c4bf62-0600-4af2-ab48-ce8a3faf5f07",
   "metadata": {},
   "outputs": [],
   "source": [
    "from langchain_core.tools import tool\n",
    "\n",
    "class GetProductInput(BaseModel):\n",
    "    product_type: str\n",
    "    skip: int = 0\n",
    "    limit: int = 10\n",
    "    \n",
    "    class Config:\n",
    "        from_attributes = True \n",
    "\n",
    "@tool\n",
    "def get_products_by_type(input_data: GetProductInput):\n",
    "    \"\"\"\n",
    "    Fetches all products from the 'products' table that match the given product type.\n",
    "    \"\"\"\n",
    "    # print(input_data)\n",
    "    db = SessionLocal()\n",
    "    products = db.query(Products).filter(Products.product_type.ilike(f\"%{input_data.product_type}%\")).offset(input_data.skip).limit(input_data.limit).all()\n",
    "\n",
    "    product_list = [\n",
    "        {\n",
    "            \"name\": product.name,\n",
    "            \"price\": product.price,\n",
    "            \"available_quantity\": product.available_quantity,\n",
    "            \"expiry_date\": product.expiry_date,\n",
    "            \"brand\": product.brand,\n",
    "        }\n",
    "        for product in products\n",
    "    ]\n",
    "    \n",
    "    return product_list"
   ]
  },
  {
   "cell_type": "code",
   "execution_count": 8,
   "id": "4fe2378a-3fbb-48f7-ad9d-4a891c6184b4",
   "metadata": {},
   "outputs": [],
   "source": [
    "# import rich\n",
    "# result = get_products_by_type(GetProductInput(product_type=\"Rice\"))\n",
    "# rich.print(result)"
   ]
  },
  {
   "cell_type": "code",
   "execution_count": 9,
   "id": "5037616b-6891-4345-adaa-d886569756a3",
   "metadata": {},
   "outputs": [
    {
     "data": {
      "text/plain": [
       "[{'name': 'Car Wash', 'price': 20.0}]"
      ]
     },
     "execution_count": 9,
     "metadata": {},
     "output_type": "execute_result"
    }
   ],
   "source": [
    "class GetServiceInput(BaseModel):\n",
    "    name: str\n",
    "    skip: int = 0\n",
    "    limit: int = 10\n",
    "    \n",
    "    class Config:\n",
    "        from_attributes = True \n",
    "\n",
    "def get_services(input_data: GetServiceInput):\n",
    "    \"\"\"\n",
    "    Fetches all products from the 'products' table that match the given product type.\n",
    "    \"\"\"\n",
    "    # print(input_data)\n",
    "    db = SessionLocal()\n",
    "    services = db.query(Services).filter(Services.name.ilike(f\"%{input_data.name}%\")).offset(input_data.skip).limit(input_data.limit).all()\n",
    "\n",
    "    service_list = [\n",
    "        {\n",
    "            \"name\": service.name,\n",
    "            \"price\": service.price,\n",
    "        }\n",
    "        for service in services\n",
    "    ]\n",
    "    \n",
    "    return service_list\n",
    "\n",
    "# get_services(GetServiceInput(name=\"Car Wash\"))"
   ]
  },
  {
   "cell_type": "code",
   "execution_count": 12,
   "id": "0f1033c9-5dcb-4a18-b43c-dbaa86a6c71e",
   "metadata": {},
   "outputs": [
    {
     "ename": "NameError",
     "evalue": "name 'Products' is not defined",
     "output_type": "error",
     "traceback": [
      "\u001b[31m---------------------------------------------------------------------------\u001b[39m",
      "\u001b[31mNameError\u001b[39m                                 Traceback (most recent call last)",
      "\u001b[36mCell\u001b[39m\u001b[36m \u001b[39m\u001b[32mIn[12]\u001b[39m\u001b[32m, line 41\u001b[39m\n\u001b[32m     38\u001b[39m     \u001b[38;5;28;01mreturn\u001b[39;00m {\u001b[33m\"\u001b[39m\u001b[33mresponse\u001b[39m\u001b[33m\"\u001b[39m: final_response.content}\n\u001b[32m     40\u001b[39m query = \u001b[33m\"\u001b[39m\u001b[33mWhat are your rice products?\u001b[39m\u001b[33m\"\u001b[39m\n\u001b[32m---> \u001b[39m\u001b[32m41\u001b[39m result = \u001b[43mproduct_inquiry\u001b[49m\u001b[43m(\u001b[49m\u001b[43mState\u001b[49m\u001b[43m(\u001b[49m\u001b[43mquery\u001b[49m\u001b[43m=\u001b[49m\u001b[43mquery\u001b[49m\u001b[43m)\u001b[49m\u001b[43m)\u001b[49m\n",
      "\u001b[36mCell\u001b[39m\u001b[36m \u001b[39m\u001b[32mIn[12]\u001b[39m\u001b[32m, line 34\u001b[39m, in \u001b[36mproduct_inquiry\u001b[39m\u001b[34m(state)\u001b[39m\n\u001b[32m     31\u001b[39m         selected_tool = tool_mapping.get(tool_name)\n\u001b[32m     33\u001b[39m         \u001b[38;5;28;01mif\u001b[39;00m selected_tool:\n\u001b[32m---> \u001b[39m\u001b[32m34\u001b[39m             tool_msg = \u001b[43mselected_tool\u001b[49m\u001b[43m.\u001b[49m\u001b[43minvoke\u001b[49m\u001b[43m(\u001b[49m\u001b[43mtool_call\u001b[49m\u001b[43m)\u001b[49m                \n\u001b[32m     35\u001b[39m             message_history.append(tool_msg)\n\u001b[32m     36\u001b[39m final_response = chain.invoke({\u001b[33m\"\u001b[39m\u001b[33mquery\u001b[39m\u001b[33m\"\u001b[39m: message_history})\n",
      "\u001b[36mFile \u001b[39m\u001b[32m~\\Documents\\Langgraph\\.venv\\Lib\\site-packages\\langchain_core\\tools\\base.py:509\u001b[39m, in \u001b[36mBaseTool.invoke\u001b[39m\u001b[34m(self, input, config, **kwargs)\u001b[39m\n\u001b[32m    502\u001b[39m \u001b[38;5;28;01mdef\u001b[39;00m\u001b[38;5;250m \u001b[39m\u001b[34minvoke\u001b[39m(\n\u001b[32m    503\u001b[39m     \u001b[38;5;28mself\u001b[39m,\n\u001b[32m    504\u001b[39m     \u001b[38;5;28minput\u001b[39m: Union[\u001b[38;5;28mstr\u001b[39m, \u001b[38;5;28mdict\u001b[39m, ToolCall],\n\u001b[32m    505\u001b[39m     config: Optional[RunnableConfig] = \u001b[38;5;28;01mNone\u001b[39;00m,\n\u001b[32m    506\u001b[39m     **kwargs: Any,\n\u001b[32m    507\u001b[39m ) -> Any:\n\u001b[32m    508\u001b[39m     tool_input, kwargs = _prep_run_args(\u001b[38;5;28minput\u001b[39m, config, **kwargs)\n\u001b[32m--> \u001b[39m\u001b[32m509\u001b[39m     \u001b[38;5;28;01mreturn\u001b[39;00m \u001b[38;5;28;43mself\u001b[39;49m\u001b[43m.\u001b[49m\u001b[43mrun\u001b[49m\u001b[43m(\u001b[49m\u001b[43mtool_input\u001b[49m\u001b[43m,\u001b[49m\u001b[43m \u001b[49m\u001b[43m*\u001b[49m\u001b[43m*\u001b[49m\u001b[43mkwargs\u001b[49m\u001b[43m)\u001b[49m\n",
      "\u001b[36mFile \u001b[39m\u001b[32m~\\Documents\\Langgraph\\.venv\\Lib\\site-packages\\langchain_core\\tools\\base.py:763\u001b[39m, in \u001b[36mBaseTool.run\u001b[39m\u001b[34m(self, tool_input, verbose, start_color, color, callbacks, tags, metadata, run_name, run_id, config, tool_call_id, **kwargs)\u001b[39m\n\u001b[32m    761\u001b[39m \u001b[38;5;28;01mif\u001b[39;00m error_to_raise:\n\u001b[32m    762\u001b[39m     run_manager.on_tool_error(error_to_raise)\n\u001b[32m--> \u001b[39m\u001b[32m763\u001b[39m     \u001b[38;5;28;01mraise\u001b[39;00m error_to_raise\n\u001b[32m    764\u001b[39m output = _format_output(content, artifact, tool_call_id, \u001b[38;5;28mself\u001b[39m.name, status)\n\u001b[32m    765\u001b[39m run_manager.on_tool_end(output, color=color, name=\u001b[38;5;28mself\u001b[39m.name, **kwargs)\n",
      "\u001b[36mFile \u001b[39m\u001b[32m~\\Documents\\Langgraph\\.venv\\Lib\\site-packages\\langchain_core\\tools\\base.py:732\u001b[39m, in \u001b[36mBaseTool.run\u001b[39m\u001b[34m(self, tool_input, verbose, start_color, color, callbacks, tags, metadata, run_name, run_id, config, tool_call_id, **kwargs)\u001b[39m\n\u001b[32m    730\u001b[39m \u001b[38;5;28;01mif\u001b[39;00m config_param := _get_runnable_config_param(\u001b[38;5;28mself\u001b[39m._run):\n\u001b[32m    731\u001b[39m     tool_kwargs = tool_kwargs | {config_param: config}\n\u001b[32m--> \u001b[39m\u001b[32m732\u001b[39m response = \u001b[43mcontext\u001b[49m\u001b[43m.\u001b[49m\u001b[43mrun\u001b[49m\u001b[43m(\u001b[49m\u001b[38;5;28;43mself\u001b[39;49m\u001b[43m.\u001b[49m\u001b[43m_run\u001b[49m\u001b[43m,\u001b[49m\u001b[43m \u001b[49m\u001b[43m*\u001b[49m\u001b[43mtool_args\u001b[49m\u001b[43m,\u001b[49m\u001b[43m \u001b[49m\u001b[43m*\u001b[49m\u001b[43m*\u001b[49m\u001b[43mtool_kwargs\u001b[49m\u001b[43m)\u001b[49m\n\u001b[32m    733\u001b[39m \u001b[38;5;28;01mif\u001b[39;00m \u001b[38;5;28mself\u001b[39m.response_format == \u001b[33m\"\u001b[39m\u001b[33mcontent_and_artifact\u001b[39m\u001b[33m\"\u001b[39m:\n\u001b[32m    734\u001b[39m     \u001b[38;5;28;01mif\u001b[39;00m \u001b[38;5;129;01mnot\u001b[39;00m \u001b[38;5;28misinstance\u001b[39m(response, \u001b[38;5;28mtuple\u001b[39m) \u001b[38;5;129;01mor\u001b[39;00m \u001b[38;5;28mlen\u001b[39m(response) != \u001b[32m2\u001b[39m:\n",
      "\u001b[36mFile \u001b[39m\u001b[32m~\\Documents\\Langgraph\\.venv\\Lib\\site-packages\\langchain_core\\tools\\structured.py:89\u001b[39m, in \u001b[36mStructuredTool._run\u001b[39m\u001b[34m(self, config, run_manager, *args, **kwargs)\u001b[39m\n\u001b[32m     87\u001b[39m     \u001b[38;5;28;01mif\u001b[39;00m config_param := _get_runnable_config_param(\u001b[38;5;28mself\u001b[39m.func):\n\u001b[32m     88\u001b[39m         kwargs[config_param] = config\n\u001b[32m---> \u001b[39m\u001b[32m89\u001b[39m     \u001b[38;5;28;01mreturn\u001b[39;00m \u001b[38;5;28;43mself\u001b[39;49m\u001b[43m.\u001b[49m\u001b[43mfunc\u001b[49m\u001b[43m(\u001b[49m\u001b[43m*\u001b[49m\u001b[43margs\u001b[49m\u001b[43m,\u001b[49m\u001b[43m \u001b[49m\u001b[43m*\u001b[49m\u001b[43m*\u001b[49m\u001b[43mkwargs\u001b[49m\u001b[43m)\u001b[49m\n\u001b[32m     90\u001b[39m msg = \u001b[33m\"\u001b[39m\u001b[33mStructuredTool does not support sync invocation.\u001b[39m\u001b[33m\"\u001b[39m\n\u001b[32m     91\u001b[39m \u001b[38;5;28;01mraise\u001b[39;00m \u001b[38;5;167;01mNotImplementedError\u001b[39;00m(msg)\n",
      "\u001b[36mCell\u001b[39m\u001b[36m \u001b[39m\u001b[32mIn[9]\u001b[39m\u001b[32m, line 18\u001b[39m, in \u001b[36mget_products_by_type\u001b[39m\u001b[34m(input_data)\u001b[39m\n\u001b[32m     16\u001b[39m \u001b[38;5;66;03m# print(input_data)\u001b[39;00m\n\u001b[32m     17\u001b[39m db = SessionLocal()\n\u001b[32m---> \u001b[39m\u001b[32m18\u001b[39m products = db.query(\u001b[43mProducts\u001b[49m).filter(Products.product_type.ilike(\u001b[33mf\u001b[39m\u001b[33m\"\u001b[39m\u001b[33m%\u001b[39m\u001b[38;5;132;01m{\u001b[39;00minput_data.product_type\u001b[38;5;132;01m}\u001b[39;00m\u001b[33m%\u001b[39m\u001b[33m\"\u001b[39m)).offset(input_data.skip).limit(input_data.limit).all()\n\u001b[32m     20\u001b[39m product_list = [\n\u001b[32m     21\u001b[39m     {\n\u001b[32m     22\u001b[39m         \u001b[33m\"\u001b[39m\u001b[33mname\u001b[39m\u001b[33m\"\u001b[39m: product.name,\n\u001b[32m   (...)\u001b[39m\u001b[32m     28\u001b[39m     \u001b[38;5;28;01mfor\u001b[39;00m product \u001b[38;5;129;01min\u001b[39;00m products\n\u001b[32m     29\u001b[39m ]\n\u001b[32m     31\u001b[39m \u001b[38;5;28;01mreturn\u001b[39;00m product_list\n",
      "\u001b[31mNameError\u001b[39m: name 'Products' is not defined"
     ]
    }
   ],
   "source": [
    "def product_inquiry(state: State) -> State:\n",
    "    prompt = ChatPromptTemplate.from_template(\n",
    "        \"You have access to the 'get_products_by_type' tool, which retrieves product data from the database based on the provided product type. \"\n",
    "        \"When a user asks a query, first extract the relevant product type from the query. \"\n",
    "        \"Then, use the 'get_products_by_type' tool to fetch the products that match the extracted product type. \"\n",
    "        \"Finally, present the output to the user in a clear and concise manner as youre a sales man. Dont add unnecessary details. \"\n",
    "        \"If no product type is found in the user's query, politely inform the user that the information is unavailable. \"\n",
    "        \"User Query: {query}\"\n",
    "    )\n",
    "\n",
    "    message_history = []\n",
    "    llm = ChatOpenAI(model=\"gpt-4o\")\n",
    "\n",
    "    llm_with_tools = llm.bind_tools([get_products_by_type])\n",
    "    chain = prompt | llm_with_tools\n",
    "\n",
    "    message_history.append(HumanMessage(content=state[\"query\"]))\n",
    "\n",
    "    response = chain.invoke({\"query\": state[\"query\"]})\n",
    "\n",
    "\n",
    "    message_history.append(response)\n",
    "\n",
    "    if response.tool_calls:\n",
    "        tool_mapping = {\n",
    "            \"get_products_by_type\": get_products_by_type\n",
    "        }\n",
    "\n",
    "        for tool_call in response.tool_calls:\n",
    "            tool_name = tool_call[\"name\"].lower()\n",
    "            selected_tool = tool_mapping.get(tool_name)\n",
    "\n",
    "            if selected_tool:\n",
    "                tool_msg = selected_tool.invoke(tool_call)                \n",
    "                message_history.append(tool_msg)\n",
    "    final_response = chain.invoke({\"query\": message_history})\n",
    "\n",
    "    return {\"response\": final_response.content}\n",
    "\n",
    "query = \"What are your rice products?\"\n",
    "result = product_inquiry(State(query=query))"
   ]
  },
  {
   "cell_type": "code",
   "execution_count": null,
   "id": "c6b372e3-dbca-4dc9-b314-954442513d91",
   "metadata": {},
   "outputs": [],
   "source": [
    "result"
   ]
  },
  {
   "cell_type": "code",
   "execution_count": null,
   "id": "66a49bb2-45e8-4d1f-9916-ac5b56b6e68c",
   "metadata": {},
   "outputs": [],
   "source": []
  },
  {
   "cell_type": "code",
   "execution_count": null,
   "id": "abf4247b-c3c1-46b0-b77c-1bab1c88d6e7",
   "metadata": {},
   "outputs": [],
   "source": []
  },
  {
   "cell_type": "code",
   "execution_count": null,
   "id": "c727f4fc-634b-4d90-975f-6e0731afe725",
   "metadata": {},
   "outputs": [],
   "source": []
  },
  {
   "cell_type": "code",
   "execution_count": 10,
   "id": "7bc291c1-cffd-4612-b2bd-7c571399e3fb",
   "metadata": {},
   "outputs": [
    {
     "ename": "IndentationError",
     "evalue": "unexpected indent (3372712987.py, line 32)",
     "output_type": "error",
     "traceback": [
      "  \u001b[36mCell\u001b[39m\u001b[36m \u001b[39m\u001b[32mIn[10]\u001b[39m\u001b[32m, line 32\u001b[39m\n\u001b[31m    \u001b[39m\u001b[31mif response.tool_calls:\u001b[39m\n    ^\n\u001b[31mIndentationError\u001b[39m\u001b[31m:\u001b[39m unexpected indent\n"
     ]
    }
   ],
   "source": [
    "def categorize(state: State) -> State:\n",
    "    \"\"\"Categorize the customer query into one of the predefined categories.\"\"\"\n",
    "    prompt = ChatPromptTemplate.from_template(\n",
    "        \"Classify the following customer query into one of these categories: \"\n",
    "        \"product_inquiry (questions about products), \"\n",
    "        \"service_inquiry (questions about services), \"\n",
    "        \"chat (casual conversation), \"\n",
    "        \"order_inquiry (questions about orders), \"\n",
    "        \"pricing_inquiry (questions about prices and offers), \"\n",
    "        \"profile_inquiry (questions about accounts or profiles), \"\n",
    "        \"general_info (general information like store hours or policies). Query: {query}\"\n",
    "    )\n",
    "    chain = prompt | ChatOpenAI(temperature=0)\n",
    "    category = chain.invoke({\"query\": state[\"query\"]}).content\n",
    "    return {\"category\": category}\n",
    "\n",
    "\n",
    "\n",
    "def analyze_sentiment(state: State) -> State:\n",
    "    \"\"\"Analyze the sentiment of the customer query as Positive, Neutral, or Negative.\"\"\"\n",
    "    prompt = ChatPromptTemplate.from_template(\n",
    "        \"Analyze the sentiment of the following customer query. \"\n",
    "        \"Respond with either 'Positive', 'Neutral', or 'Negative'. Query: {query}\"\n",
    "    )\n",
    "    chain = prompt | ChatOpenAI(temperature=0)\n",
    "    sentiment = chain.invoke({\"query\": state[\"query\"]}).content\n",
    "    return {\"sentiment\": sentiment}\n",
    "\n",
    "def handle_technical(state: State) -> State:\n",
    "    \"\"\"Provide a technical support response to the query.\"\"\"\n",
    "    prompt = ChatPromptTemplate.from_template(\n",
    "        \"Provide a technical support response to the following query: {query}\"\n",
    "    )\n",
    "    chain = prompt | ChatOpenAI(temperature=0)\n",
    "    response = chain.invoke({\"query\": state[\"query\"]}).content\n",
    "    return {\"response\": response}\n",
    "\n",
    "def handle_billing(state: State) -> State:\n",
    "    \"\"\"Provide a billing support response to the query.\"\"\"\n",
    "    prompt = ChatPromptTemplate.from_template(\n",
    "        \"Provide a billing support response to the following query: {query}\"\n",
    "    )\n",
    "    chain = prompt | ChatOpenAI(temperature=0)\n",
    "    response = chain.invoke({\"query\": state[\"query\"]}).content\n",
    "    return {\"response\": response}\n",
    "\n",
    "def handle_general(state: State) -> State:\n",
    "    \"\"\"Provide a general support response to the query.\"\"\"\n",
    "    prompt = ChatPromptTemplate.from_template(\n",
    "        \"Provide a general support response to the following query: {query}\"\n",
    "    )\n",
    "    chain = prompt | ChatOpenAI(temperature=0)\n",
    "    response = chain.invoke({\"query\": state[\"query\"]}).content\n",
    "    return {\"response\": response}\n",
    "\n",
    "def escalate(state: State) -> State:\n",
    "    \"\"\"Escalate the query to a human agent due to negative sentiment.\"\"\"\n",
    "    return {\"response\": \"This query has been escalated to a human agent due to its negative sentiment.\"}\n",
    "\n",
    "def route_query(state: State) -> str:\n",
    "    \"\"\"Route the query based on its sentiment and category.\"\"\"\n",
    "    if state[\"sentiment\"] == \"Negative\":\n",
    "        return \"escalate\"\n",
    "    elif state[\"category\"] == \"Technical\":\n",
    "        return \"handle_technical\"\n",
    "    elif state[\"category\"] == \"Billing\":\n",
    "        return \"handle_billing\"\n",
    "    else:\n",
    "        return \"handle_general\""
   ]
  },
  {
   "cell_type": "code",
   "execution_count": 4,
   "id": "e4c01876-808d-406a-a6a2-073ac49c06b8",
   "metadata": {},
   "outputs": [],
   "source": [
    "# Create the graph\n",
    "workflow = StateGraph(State)\n",
    "\n",
    "# Add nodes\n",
    "workflow.add_node(\"categorize\", categorize)\n",
    "workflow.add_node(\"analyze_sentiment\", analyze_sentiment)\n",
    "workflow.add_node(\"handle_technical\", handle_technical)\n",
    "workflow.add_node(\"handle_billing\", handle_billing)\n",
    "workflow.add_node(\"handle_general\", handle_general)\n",
    "workflow.add_node(\"escalate\", escalate)\n",
    "\n",
    "# Add edges\n",
    "workflow.add_edge(\"categorize\", \"analyze_sentiment\")\n",
    "workflow.add_conditional_edges(\n",
    "    \"analyze_sentiment\",\n",
    "    route_query,\n",
    "    {\n",
    "        \"handle_technical\": \"handle_technical\",\n",
    "        \"handle_billing\": \"handle_billing\",\n",
    "        \"handle_general\": \"handle_general\",\n",
    "        \"escalate\": \"escalate\"\n",
    "    }\n",
    ")\n",
    "workflow.add_edge(\"handle_technical\", END)\n",
    "workflow.add_edge(\"handle_billing\", END)\n",
    "workflow.add_edge(\"handle_general\", END)\n",
    "workflow.add_edge(\"escalate\", END)\n",
    "\n",
    "# Set entry point\n",
    "workflow.set_entry_point(\"categorize\")\n",
    "\n",
    "# Compile the graph\n",
    "app = workflow.compile()"
   ]
  },
  {
   "cell_type": "code",
   "execution_count": 5,
   "id": "16dfc693-5280-42a1-ae27-bb3159facda7",
   "metadata": {},
   "outputs": [
    {
     "data": {
      "image/png": "[encoded data removed]",
      "text/plain": [
       "<IPython.core.display.Image object>"
      ]
     },
     "metadata": {},
     "output_type": "display_data"
    }
   ],
   "source": [
    "display(\n",
    "    Image(\n",
    "        app.get_graph().draw_mermaid_png(\n",
    "            draw_method=MermaidDrawMethod.API,\n",
    "        )\n",
    "    )\n",
    ")"
   ]
  },
  {
   "cell_type": "code",
   "execution_count": 6,
   "id": "53b6d92d-3c9b-46ce-b3d5-f2672345495c",
   "metadata": {},
   "outputs": [],
   "source": [
    "def run_customer_support(query: str) -> Dict[str, str]:\n",
    "    \"\"\"Process a customer query through the LangGraph workflow.\n",
    "    \n",
    "    Args:\n",
    "        query (str): The customer's query\n",
    "        \n",
    "    Returns:\n",
    "        Dict[str, str]: A dictionary containing the query's category, sentiment, and response\n",
    "    \"\"\"\n",
    "    results = app.invoke({\"query\": query})\n",
    "    return {\n",
    "        \"category\": results[\"category\"],\n",
    "        \"sentiment\": results[\"sentiment\"],\n",
    "        \"response\": results[\"response\"]\n",
    "    }"
   ]
  },
  {
   "cell_type": "code",
   "execution_count": 7,
   "id": "638cd853-5520-427c-bd7e-f56eee3b9a96",
   "metadata": {},
   "outputs": [
    {
     "name": "stdout",
     "output_type": "stream",
     "text": [
      "Query: My internet connection keeps dropping. Can you help?\n",
      "Category: Technical\n",
      "Sentiment: Negative\n",
      "Response: This query has been escalated to a human agent due to its negative sentiment.\n"
     ]
    }
   ],
   "source": [
    "# escalate\n",
    "query = \"My internet connection keeps dropping. Can you help?\"\n",
    "result = run_customer_support(query)\n",
    "print(f\"Query: {query}\")\n",
    "print(f\"Category: {result['category']}\")\n",
    "print(f\"Sentiment: {result['sentiment']}\")\n",
    "print(f\"Response: {result['response']}\")"
   ]
  },
  {
   "cell_type": "code",
   "execution_count": 8,
   "id": "1551098c-27e2-482c-a042-d9538d5c2a33",
   "metadata": {},
   "outputs": [
    {
     "name": "stdout",
     "output_type": "stream",
     "text": [
      "Query: I need help talking to chatGPT\n",
      "Category: Technical\n",
      "Sentiment: Neutral\n",
      "Response: Hello,\n",
      "\n",
      "Thank you for reaching out for technical support. To communicate with ChatGPT, you can simply start typing your message in the chatbox provided on the platform. ChatGPT is designed to respond to your messages in a conversational manner, so feel free to ask any questions or share any information you'd like.\n",
      "\n",
      "If you are experiencing any specific issues while trying to communicate with ChatGPT, please provide more details so that we can assist you further. Thank you.\n"
     ]
    }
   ],
   "source": [
    "# handle_technical\n",
    "query = \"I need help talking to chatGPT\"\n",
    "result = run_customer_support(query)\n",
    "print(f\"Query: {query}\")\n",
    "print(f\"Category: {result['category']}\")\n",
    "print(f\"Sentiment: {result['sentiment']}\")\n",
    "print(f\"Response: {result['response']}\")"
   ]
  },
  {
   "cell_type": "code",
   "execution_count": 9,
   "id": "4f81bf76-78c9-4534-9070-9579411d5af9",
   "metadata": {},
   "outputs": [
    {
     "name": "stdout",
     "output_type": "stream",
     "text": [
      "Query: where can i find my receipt?\n",
      "Category: Billing\n",
      "Sentiment: Neutral\n",
      "Response: Thank you for reaching out. To locate your receipt, please check your email inbox for a confirmation email from the time of purchase. You can also log into your account on our website and navigate to the \"Order History\" section to view and download your receipt. If you are unable to locate your receipt, please provide us with your order number or any other relevant information so we can assist you further. Thank you for your patience.\n"
     ]
    }
   ],
   "source": [
    "# handle_billing\n",
    "query = \"where can i find my receipt?\"\n",
    "result = run_customer_support(query)\n",
    "print(f\"Query: {query}\")\n",
    "print(f\"Category: {result['category']}\")\n",
    "print(f\"Sentiment: {result['sentiment']}\")\n",
    "print(f\"Response: {result['response']}\")"
   ]
  },
  {
   "cell_type": "code",
   "execution_count": 10,
   "id": "ecee5620-93c0-42d1-9474-bee5a2de99d8",
   "metadata": {},
   "outputs": [
    {
     "name": "stdout",
     "output_type": "stream",
     "text": [
      "Query: What are your business hours?\n",
      "Category: General\n",
      "Sentiment: Neutral\n",
      "Response: Thank you for reaching out. Our business hours are [insert specific business hours here]. If you have any further questions or need assistance, please feel free to contact us during our operating hours.\n"
     ]
    }
   ],
   "source": [
    "# handle_general\n",
    "query = \"What are your business hours?\"\n",
    "result = run_customer_support(query)\n",
    "print(f\"Query: {query}\")\n",
    "print(f\"Category: {result['category']}\")\n",
    "print(f\"Sentiment: {result['sentiment']}\")\n",
    "print(f\"Response: {result['response']}\")"
   ]
  },
  {
   "cell_type": "code",
   "execution_count": null,
   "id": "2feb8d5c-dfd6-4ba5-bc6e-2d2bafd8223e",
   "metadata": {},
   "outputs": [],
   "source": []
  }
 ],
 "metadata": {
  "kernelspec": {
   "display_name": "Python 3 (ipykernel)",
   "language": "python",
   "name": "python3"
  },
  "language_info": {
   "codemirror_mode": {
    "name": "ipython",
    "version": 3
   },
   "file_extension": ".py",
   "mimetype": "text/x-python",
   "name": "python",
   "nbconvert_exporter": "python",
   "pygments_lexer": "ipython3",
   "version": "3.11.0"
  }
 },
 "nbformat": 4,
 "nbformat_minor": 5
}
