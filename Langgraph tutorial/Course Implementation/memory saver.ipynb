{
 "cells": [
  {
   "cell_type": "code",
   "execution_count": 1,
   "id": "eb986c25-b80e-41c3-82ed-e4da2d12e0cd",
   "metadata": {},
   "outputs": [],
   "source": [
    "from dotenv import load_dotenv\n",
    "_ = load_dotenv()"
   ]
  },
  {
   "cell_type": "code",
   "execution_count": 2,
   "id": "d8ba17ae-78b7-4c87-9c57-8b7b38181406",
   "metadata": {},
   "outputs": [],
   "source": [
    "from langgraph.graph import StateGraph, END\n",
    "from typing import TypedDict, Annotated\n",
    "import operator\n",
    "from langchain_core.messages import AnyMessage, SystemMessage, HumanMessage, ToolMessage\n",
    "from langchain_openai import ChatOpenAI\n",
    "from langchain_community.tools.tavily_search import TavilySearchResults"
   ]
  },
  {
   "cell_type": "code",
   "execution_count": 3,
   "id": "2a0768a5-d59f-4194-a1bf-a0e84d9c097d",
   "metadata": {},
   "outputs": [],
   "source": [
    "tool = TavilySearchResults(max_results=2)"
   ]
  },
  {
   "cell_type": "code",
   "execution_count": 4,
   "id": "9870cec9-0310-4984-8622-dd35434473ad",
   "metadata": {},
   "outputs": [],
   "source": [
    "class AgentState(TypedDict):\n",
    "    messages: Annotated[list[AnyMessage], operator.add]"
   ]
  },
  {
   "cell_type": "code",
   "execution_count": 10,
   "id": "02d5e9f3-691c-4347-8828-21ca0705c364",
   "metadata": {},
   "outputs": [
    {
     "name": "stderr",
     "output_type": "stream",
     "text": [
      "\n",
      "[notice] A new release of pip is available: 23.2.1 -> 25.0.1\n",
      "[notice] To update, run: python.exe -m pip install --upgrade pip\n"
     ]
    }
   ],
   "source": [
    "!pip install -q langgraph-checkpoint-sqlite"
   ]
  },
  {
   "cell_type": "markdown",
   "id": "94b3641f-4b79-4e21-889b-1f5da9d3022c",
   "metadata": {},
   "source": [
    "# Persistent In-memory Database"
   ]
  },
  {
   "cell_type": "code",
   "execution_count": 11,
   "id": "07b2822c-9733-40d5-bc94-81cafc0c05e1",
   "metadata": {},
   "outputs": [],
   "source": [
    "from langgraph.checkpoint.sqlite import SqliteSaver\n",
    "import sqlite3\n",
    "\n",
    "conn = sqlite3.connect(\":memory:\", check_same_thread=False)\n",
    "memory = SqliteSaver(conn)\n",
    "\n",
    "# memory = SqliteSaver.from_conn_string(\":memory:\")"
   ]
  },
  {
   "cell_type": "code",
   "execution_count": 12,
   "id": "23c81a3c-eb81-4b06-9cd6-a2aeeb24dbb9",
   "metadata": {},
   "outputs": [],
   "source": [
    "class Agent:\n",
    "    def __init__(self, model, tools, checkpointer, system=\"\"):\n",
    "        self.system = system\n",
    "        graph = StateGraph(AgentState)\n",
    "        graph.add_node(\"llm\", self.call_openai)\n",
    "        graph.add_node(\"action\", self.take_action)\n",
    "        graph.add_conditional_edges(\"llm\", self.exists_action, {True: \"action\", False: END})\n",
    "        graph.add_edge(\"action\", \"llm\")\n",
    "        graph.set_entry_point(\"llm\")\n",
    "        self.graph = graph.compile(checkpointer=checkpointer)\n",
    "        self.tools = {t.name: t for t in tools}\n",
    "        self.model = model.bind_tools(tools)\n",
    "\n",
    "    def call_openai(self, state: AgentState):\n",
    "        messages = state['messages']\n",
    "        if self.system:\n",
    "            messages = [SystemMessage(content=self.system)] + messages\n",
    "        message = self.model.invoke(messages)\n",
    "        return {'messages': [message]}\n",
    "\n",
    "    def exists_action(self, state: AgentState):\n",
    "        result = state['messages'][-1]\n",
    "        return len(result.tool_calls) > 0\n",
    "\n",
    "    def take_action(self, state: AgentState):\n",
    "        tool_calls = state['messages'][-1].tool_calls\n",
    "        results = []\n",
    "        for t in tool_calls:\n",
    "            print(f\"Calling: {t}\")\n",
    "            result = self.tools[t['name']].invoke(t['args'])\n",
    "            results.append(ToolMessage(tool_call_id=t['id'], name=t['name'], content=str(result)))\n",
    "        print(\"Back to the model!\")\n",
    "        return {'messages': results}"
   ]
  },
  {
   "cell_type": "code",
   "execution_count": 13,
   "id": "c1709a45-3a7b-43ba-ba46-0ab7bda8957e",
   "metadata": {},
   "outputs": [],
   "source": [
    "prompt = \"\"\"You are a smart research assistant. Use the search engine to look up information. \\\n",
    "You are allowed to make multiple calls (either together or in sequence). \\\n",
    "Only look up information when you are sure of what you want. \\\n",
    "If you need to look up some information before asking a follow up question, you are allowed to do that!\n",
    "\"\"\"\n",
    "model = ChatOpenAI(model=\"gpt-4o\")\n",
    "abot = Agent(model, [tool], system=prompt, checkpointer=memory)"
   ]
  },
  {
   "cell_type": "code",
   "execution_count": 14,
   "id": "eecd7d04-c19b-4e64-a772-fd00938225c0",
   "metadata": {},
   "outputs": [],
   "source": [
    "messages = [HumanMessage(content=\"What is the weather of sf?\")]"
   ]
  },
  {
   "cell_type": "code",
   "execution_count": 15,
   "id": "f715c971-a9cd-4b3f-97ee-d74fa3d4cf4b",
   "metadata": {},
   "outputs": [],
   "source": [
    "thread = {\"thread_id\": \"1\"}"
   ]
  },
  {
   "cell_type": "code",
   "execution_count": 16,
   "id": "84d054bd-12c5-45de-9204-67c79eb7e3aa",
   "metadata": {},
   "outputs": [
    {
     "name": "stdout",
     "output_type": "stream",
     "text": [
      "[AIMessage(content='', additional_kwargs={'tool_calls': [{'id': 'call_TeqzWX3aHAhs3MgfCZXM3H0J', 'function': {'arguments': '{\"query\":\"current weather in San Francisco\"}', 'name': 'tavily_search_results_json'}, 'type': 'function'}], 'refusal': None}, response_metadata={'token_usage': {'completion_tokens': 23, 'prompt_tokens': 151, 'total_tokens': 174, 'completion_tokens_details': {'accepted_prediction_tokens': 0, 'audio_tokens': 0, 'reasoning_tokens': 0, 'rejected_prediction_tokens': 0}, 'prompt_tokens_details': {'audio_tokens': 0, 'cached_tokens': 0}}, 'model_name': 'gpt-4o-2024-08-06', 'system_fingerprint': 'fp_0d4eb8a50b', 'finish_reason': 'tool_calls', 'logprobs': None}, id='run-12106431-b642-4b8d-87dd-6afc20c58903-0', tool_calls=[{'name': 'tavily_search_results_json', 'args': {'query': 'current weather in San Francisco'}, 'id': 'call_TeqzWX3aHAhs3MgfCZXM3H0J', 'type': 'tool_call'}], usage_metadata={'input_tokens': 151, 'output_tokens': 23, 'total_tokens': 174, 'input_token_details': {'audio': 0, 'cache_read': 0}, 'output_token_details': {'audio': 0, 'reasoning': 0}})]\n",
      "Calling: {'name': 'tavily_search_results_json', 'args': {'query': 'current weather in San Francisco'}, 'id': 'call_TeqzWX3aHAhs3MgfCZXM3H0J', 'type': 'tool_call'}\n",
      "Back to the model!\n",
      "[ToolMessage(content='[{\\'url\\': \\'https://www.weatherapi.com/\\', \\'content\\': \"{\\'location\\': {\\'name\\': \\'San Francisco\\', \\'region\\': \\'California\\', \\'country\\': \\'United States of America\\', \\'lat\\': 37.775, \\'lon\\': -122.4183, \\'tz_id\\': \\'America/Los_Angeles\\', \\'localtime_epoch\\': 1741764140, \\'localtime\\': \\'2025-03-12 00:22\\'}, \\'current\\': {\\'last_updated_epoch\\': 1741763700, \\'last_updated\\': \\'2025-03-12 00:15\\', \\'temp_c\\': 13.3, \\'temp_f\\': 55.9, \\'is_day\\': 0, \\'condition\\': {\\'text\\': \\'Overcast\\', \\'icon\\': \\'//cdn.weatherapi.com/weather/64x64/night/122.png\\', \\'code\\': 1009}, \\'wind_mph\\': 10.1, \\'wind_kph\\': 16.2, \\'wind_degree\\': 181, \\'wind_dir\\': \\'S\\', \\'pressure_mb\\': 1011.0, \\'pressure_in\\': 29.85, \\'precip_mm\\': 0.0, \\'precip_in\\': 0.0, \\'humidity\\': 75, \\'cloud\\': 100, \\'feelslike_c\\': 11.9, \\'feelslike_f\\': 53.4, \\'windchill_c\\': 9.8, \\'windchill_f\\': 49.6, \\'heatindex_c\\': 11.2, \\'heatindex_f\\': 52.2, \\'dewpoint_c\\': 10.3, \\'dewpoint_f\\': 50.5, \\'vis_km\\': 16.0, \\'vis_miles\\': 9.0, \\'uv\\': 0.0, \\'gust_mph\\': 14.7, \\'gust_kph\\': 23.6}}\"}, {\\'url\\': \\'https://world-weather.info/forecast/usa/san_francisco/march-2025/\\', \\'content\\': \"Weather in San Francisco in March 2025 (California) - Detailed Weather Forecast for a Month Weather in San Francisco Weather in San Francisco in March 2025 San Francisco Weather Forecast for March 2025 is based on long term prognosis and previous years\\' statistical data. 1 +54°+52° 2 +54°+50° 3 +54°+50° 4 +54°+48° 5 +61°+46° +59°+50° +59°+50° +61°+50° +61°+52° +61°+52° +63°+52° +63°+52° +61°+52° +61°+52° +63°+54° +61°+52° +63°+50° +61°+52° +61°+52° +59°+52° +61°+52° +59°+50° +57°+50° +57°+50° +59°+50° +59°+50° +61°+52° +63°+52° +63°+54° +63°+52° +63°+54° Extended weather forecast in San Francisco HourlyWeek10-Day14-Day30-DayYear Weather in Washington, D.C.+32° Sacramento+55° Pleasanton+52° Redwood City+55° San Leandro+55° San Mateo+54° San Rafael+55° San Ramon+52° South San Francisco+54° Vallejo+54° Palo Alto+55° Pacifica+55° Berkeley+57° Castro Valley+54° Concord+54° Daly City+54° Lagunitas+55° world\\'s temperature today day day Temperature units\"}]', name='tavily_search_results_json', tool_call_id='call_TeqzWX3aHAhs3MgfCZXM3H0J')]\n",
      "[AIMessage(content='The current weather in San Francisco is overcast with a temperature of 13.3°C (55.9°F). The wind is coming from the south at a speed of 10.1 mph (16.2 kph), and the humidity level is at 75%. There is no precipitation at the moment, and the visibility is approximately 16 kilometers (9 miles).', additional_kwargs={'refusal': None}, response_metadata={'token_usage': {'completion_tokens': 78, 'prompt_tokens': 981, 'total_tokens': 1059, 'completion_tokens_details': {'accepted_prediction_tokens': 0, 'audio_tokens': 0, 'reasoning_tokens': 0, 'rejected_prediction_tokens': 0}, 'prompt_tokens_details': {'audio_tokens': 0, 'cached_tokens': 0}}, 'model_name': 'gpt-4o-2024-08-06', 'system_fingerprint': 'fp_0d4eb8a50b', 'finish_reason': 'stop', 'logprobs': None}, id='run-dada85eb-bebc-41c6-939d-133a1f72db7f-0', usage_metadata={'input_tokens': 981, 'output_tokens': 78, 'total_tokens': 1059, 'input_token_details': {'audio': 0, 'cache_read': 0}, 'output_token_details': {'audio': 0, 'reasoning': 0}})]\n"
     ]
    }
   ],
   "source": [
    "for event in abot.graph.stream({\"messages\": messages}, config=thread):\n",
    "    for v in event.values():\n",
    "        print(v['messages'])"
   ]
  },
  {
   "cell_type": "code",
   "execution_count": 17,
   "id": "642ea89c-3450-405a-9cc7-17cfe6ee46f8",
   "metadata": {},
   "outputs": [
    {
     "name": "stdout",
     "output_type": "stream",
     "text": [
      "{'messages': [AIMessage(content='', additional_kwargs={'tool_calls': [{'id': 'call_5qTntUNy3lSsVgZ0uddDyRcc', 'function': {'arguments': '{\"query\":\"current weather in Los Angeles\"}', 'name': 'tavily_search_results_json'}, 'type': 'function'}], 'refusal': None}, response_metadata={'token_usage': {'completion_tokens': 23, 'prompt_tokens': 1070, 'total_tokens': 1093, 'completion_tokens_details': {'accepted_prediction_tokens': 0, 'audio_tokens': 0, 'reasoning_tokens': 0, 'rejected_prediction_tokens': 0}, 'prompt_tokens_details': {'audio_tokens': 0, 'cached_tokens': 1024}}, 'model_name': 'gpt-4o-2024-08-06', 'system_fingerprint': 'fp_0d4eb8a50b', 'finish_reason': 'tool_calls', 'logprobs': None}, id='run-b0638ca3-bf6a-4723-b187-5f69e0c8da04-0', tool_calls=[{'name': 'tavily_search_results_json', 'args': {'query': 'current weather in Los Angeles'}, 'id': 'call_5qTntUNy3lSsVgZ0uddDyRcc', 'type': 'tool_call'}], usage_metadata={'input_tokens': 1070, 'output_tokens': 23, 'total_tokens': 1093, 'input_token_details': {'audio': 0, 'cache_read': 1024}, 'output_token_details': {'audio': 0, 'reasoning': 0}})]}\n",
      "Calling: {'name': 'tavily_search_results_json', 'args': {'query': 'current weather in Los Angeles'}, 'id': 'call_5qTntUNy3lSsVgZ0uddDyRcc', 'type': 'tool_call'}\n",
      "Back to the model!\n",
      "{'messages': [ToolMessage(content='[{\\'url\\': \\'https://www.weatherapi.com/\\', \\'content\\': \"{\\'location\\': {\\'name\\': \\'Los Angeles\\', \\'region\\': \\'California\\', \\'country\\': \\'United States of America\\', \\'lat\\': 34.0522, \\'lon\\': -118.2428, \\'tz_id\\': \\'America/Los_Angeles\\', \\'localtime_epoch\\': 1741765793, \\'localtime\\': \\'2025-03-12 00:49\\'}, \\'current\\': {\\'last_updated_epoch\\': 1741765500, \\'last_updated\\': \\'2025-03-12 00:45\\', \\'temp_c\\': 13.3, \\'temp_f\\': 55.9, \\'is_day\\': 0, \\'condition\\': {\\'text\\': \\'Overcast\\', \\'icon\\': \\'//cdn.weatherapi.com/weather/64x64/night/122.png\\', \\'code\\': 1009}, \\'wind_mph\\': 3.4, \\'wind_kph\\': 5.4, \\'wind_degree\\': 78, \\'wind_dir\\': \\'ENE\\', \\'pressure_mb\\': 1013.0, \\'pressure_in\\': 29.9, \\'precip_mm\\': 0.0, \\'precip_in\\': 0.0, \\'humidity\\': 75, \\'cloud\\': 100, \\'feelslike_c\\': 13.4, \\'feelslike_f\\': 56.1, \\'windchill_c\\': 11.8, \\'windchill_f\\': 53.3, \\'heatindex_c\\': 12.3, \\'heatindex_f\\': 54.2, \\'dewpoint_c\\': 11.3, \\'dewpoint_f\\': 52.3, \\'vis_km\\': 16.0, \\'vis_miles\\': 9.0, \\'uv\\': 0.0, \\'gust_mph\\': 5.8, \\'gust_kph\\': 9.3}}\"}, {\\'url\\': \\'https://world-weather.info/forecast/usa/los_angeles/march-2025/\\', \\'content\\': \"Weather in Los Angeles in March 2025 (California) - Detailed Weather Forecast for a Month Weather Weather in Los Angeles Weather in Los Angeles in March 2025 Los Angeles Weather Forecast for March 2025, is based on previous years\\' statistical data. +64°+52° +64°+54° +64°+54° +64°+54° +64°+52° +63°+52° +66°+54° +66°+55° +66°+55° +64°+55° +64°+54° +64°+54° +64°+54° +64°+54° +64°+54° +64°+54° +64°+54° +64°+54° +64°+54° +64°+54° +64°+55° +64°+55° +64°+55° +64°+54° +64°+54° +64°+54° +66°+55° +66°+55° +66°+55° +66°+55° +66°+57° Extended weather forecast in Los Angeles HourlyWeek10-Day14-Day30-DayYear Weather in large and nearby cities Weather in Washington, D.C.+36° Sacramento+57° Monterey Park+72° North Glendale+73° Norwalk+68° Pasadena+73° Rosemead+72° Santa Monica+54° South El Monte+72° Manhattan Beach+61° Inglewood+57° Bellflower+66° Beverly Hills+64° Burbank+75° Compton+63° Beverly Grove+64° Mira Monte+61° world\\'s temperature today day day Temperature units\"}]', name='tavily_search_results_json', tool_call_id='call_5qTntUNy3lSsVgZ0uddDyRcc')]}\n",
      "{'messages': [AIMessage(content='The current weather in Los Angeles is also overcast, with a temperature of 13.3°C (55.9°F). The wind is coming from the east-northeast at a speed of 3.4 mph (5.4 kph), and the humidity level is at 75%. There is no precipitation, and the visibility is about 16 kilometers (9 miles).', additional_kwargs={'refusal': None}, response_metadata={'token_usage': {'completion_tokens': 80, 'prompt_tokens': 1896, 'total_tokens': 1976, 'completion_tokens_details': {'accepted_prediction_tokens': 0, 'audio_tokens': 0, 'reasoning_tokens': 0, 'rejected_prediction_tokens': 0}, 'prompt_tokens_details': {'audio_tokens': 0, 'cached_tokens': 1024}}, 'model_name': 'gpt-4o-2024-08-06', 'system_fingerprint': 'fp_0d4eb8a50b', 'finish_reason': 'stop', 'logprobs': None}, id='run-41865511-9414-4e82-8748-228777ef7bcb-0', usage_metadata={'input_tokens': 1896, 'output_tokens': 80, 'total_tokens': 1976, 'input_token_details': {'audio': 0, 'cache_read': 1024}, 'output_token_details': {'audio': 0, 'reasoning': 0}})]}\n"
     ]
    }
   ],
   "source": [
    "messages = [HumanMessage(content=\"What about in la?\")]\n",
    "thread = {\"configurable\": {\"thread_id\": \"1\"}}\n",
    "for event in abot.graph.stream({\"messages\": messages}, thread):\n",
    "    for v in event.values():\n",
    "        print(v)"
   ]
  },
  {
   "cell_type": "code",
   "execution_count": 18,
   "id": "596e3a3c-6b19-413a-8859-cc6691fb6944",
   "metadata": {},
   "outputs": [
    {
     "name": "stdout",
     "output_type": "stream",
     "text": [
      "{'messages': [AIMessage(content='Both San Francisco and Los Angeles have the same current temperature of 13.3°C (55.9°F). Therefore, neither city is warmer than the other at the moment.', additional_kwargs={'refusal': None}, response_metadata={'token_usage': {'completion_tokens': 38, 'prompt_tokens': 1987, 'total_tokens': 2025, 'completion_tokens_details': {'accepted_prediction_tokens': 0, 'audio_tokens': 0, 'reasoning_tokens': 0, 'rejected_prediction_tokens': 0}, 'prompt_tokens_details': {'audio_tokens': 0, 'cached_tokens': 1920}}, 'model_name': 'gpt-4o-2024-08-06', 'system_fingerprint': 'fp_0d4eb8a50b', 'finish_reason': 'stop', 'logprobs': None}, id='run-1fe2e2af-1237-49bc-8ee4-6ea98d04931c-0', usage_metadata={'input_tokens': 1987, 'output_tokens': 38, 'total_tokens': 2025, 'input_token_details': {'audio': 0, 'cache_read': 1920}, 'output_token_details': {'audio': 0, 'reasoning': 0}})]}\n"
     ]
    }
   ],
   "source": [
    "messages = [HumanMessage(content=\"Which one is warmer?\")]\n",
    "thread = {\"configurable\": {\"thread_id\": \"1\"}}\n",
    "for event in abot.graph.stream({\"messages\": messages}, thread):\n",
    "    for v in event.values():\n",
    "        print(v)"
   ]
  },
  {
   "cell_type": "code",
   "execution_count": 19,
   "id": "c92e2e46-2487-4d57-8d6b-542f52138a90",
   "metadata": {},
   "outputs": [
    {
     "name": "stdout",
     "output_type": "stream",
     "text": [
      "{'messages': [AIMessage(content=\"I need more context to provide an accurate response. Are you comparing the climate of different locations, the temperature of different materials, or something else? Please provide more details, and I'll be happy to help!\", additional_kwargs={'refusal': None}, response_metadata={'token_usage': {'completion_tokens': 43, 'prompt_tokens': 149, 'total_tokens': 192, 'completion_tokens_details': {'accepted_prediction_tokens': 0, 'audio_tokens': 0, 'reasoning_tokens': 0, 'rejected_prediction_tokens': 0}, 'prompt_tokens_details': {'audio_tokens': 0, 'cached_tokens': 0}}, 'model_name': 'gpt-4o-2024-08-06', 'system_fingerprint': 'fp_0d4eb8a50b', 'finish_reason': 'stop', 'logprobs': None}, id='run-6b1210f3-cddf-4358-9577-6e9b3bf18aa0-0', usage_metadata={'input_tokens': 149, 'output_tokens': 43, 'total_tokens': 192, 'input_token_details': {'audio': 0, 'cache_read': 0}, 'output_token_details': {'audio': 0, 'reasoning': 0}})]}\n"
     ]
    }
   ],
   "source": [
    "messages = [HumanMessage(content=\"Which one is warmer?\")]\n",
    "thread = {\"configurable\": {\"thread_id\": \"2\"}}\n",
    "for event in abot.graph.stream({\"messages\": messages}, thread):\n",
    "    for v in event.values():\n",
    "        print(v)"
   ]
  },
  {
   "cell_type": "markdown",
   "id": "8e9cbe08-2582-49ad-b837-4740e7a2544e",
   "metadata": {},
   "source": [
    "# Streaming tokens"
   ]
  },
  {
   "cell_type": "code",
   "execution_count": 31,
   "id": "ec88e426-71cd-4b25-a6bb-82c2b65a50b3",
   "metadata": {},
   "outputs": [
    {
     "name": "stderr",
     "output_type": "stream",
     "text": [
      "\n",
      "[notice] A new release of pip is available: 23.2.1 -> 25.0.1\n",
      "[notice] To update, run: python.exe -m pip install --upgrade pip\n"
     ]
    }
   ],
   "source": [
    "!pip -q install aiosqlite"
   ]
  },
  {
   "cell_type": "code",
   "execution_count": 40,
   "id": "cb84cdcb-5e9b-4df1-8ed3-ea20268654a6",
   "metadata": {},
   "outputs": [],
   "source": [
    "from langgraph.checkpoint.sqlite.aio import AsyncSqliteSaver\n",
    "import sqlite3\n",
    "\n",
    "conn = sqlite3.connect(\":memory:\")\n",
    "memory = AsyncSqliteSaver(conn)"
   ]
  },
  {
   "cell_type": "code",
   "execution_count": 41,
   "id": "b29990d6-c1df-496e-9f4b-9cd6336e4e17",
   "metadata": {},
   "outputs": [],
   "source": [
    "# from langgraph.checkpoint.aiosqlite import AsyncSqliteSaver\n",
    "import asyncio\n",
    "\n",
    "abot = Agent(model, [tool], system=prompt, checkpointer=memory)"
   ]
  },
  {
   "cell_type": "code",
   "execution_count": 43,
   "id": "57c1940a-b50d-42ec-8ede-c39dd3f2cbe0",
   "metadata": {},
   "outputs": [],
   "source": [
    "# messages = [HumanMessage(content=\"What is the weather in SF?\")]\n",
    "# thread = {\"configurable\": {\"thread_id\": \"4\"}}\n",
    "# async for event in abot.graph.astream_events({\"messages\": messages}, thread, version=\"v1\"):\n",
    "#     kind = event[\"event\"]\n",
    "#     if kind == \"on_chat_model_stream\":\n",
    "#         content = event[\"data\"][\"chunk\"].content\n",
    "#         if content:\n",
    "#             # Empty content in the context of OpenAI means\n",
    "#             # that the model is asking for a tool to be invoked.\n",
    "#             # So we only print non-empty content\n",
    "#             print(content, end=\"|\")"
   ]
  },
  {
   "cell_type": "markdown",
   "id": "7b490c0f-bba9-47a2-aae3-0efb82171843",
   "metadata": {},
   "source": [
    "# Sqlite Dabase"
   ]
  },
  {
   "cell_type": "code",
   "execution_count": 44,
   "id": "f020503d-d5d2-454f-98fc-6c306c5af123",
   "metadata": {},
   "outputs": [],
   "source": [
    "from langgraph.checkpoint.sqlite import SqliteSaver\n",
    "import sqlite3\n",
    "\n",
    "conn = sqlite3.connect(\"memory_store.db\", check_same_thread=False)\n",
    "memory = SqliteSaver(conn)"
   ]
  },
  {
   "cell_type": "code",
   "execution_count": 45,
   "id": "62a91ca3-e376-4a54-a9e8-ee8381d48dd5",
   "metadata": {},
   "outputs": [],
   "source": [
    "prompt = \"\"\"You are a smart research assistant. Use the search engine to look up information. \\\n",
    "You are allowed to make multiple calls (either together or in sequence). \\\n",
    "Only look up information when you are sure of what you want. \\\n",
    "If you need to look up some information before asking a follow up question, you are allowed to do that!\n",
    "\"\"\"\n",
    "model = ChatOpenAI(model=\"gpt-4o\")\n",
    "abot = Agent(model, [tool], system=prompt, checkpointer=memory)"
   ]
  },
  {
   "cell_type": "code",
   "execution_count": 46,
   "id": "a49c010e-7ef7-47b7-bf46-23add9fc6262",
   "metadata": {},
   "outputs": [],
   "source": [
    "messages = [HumanMessage(content=\"What is the weather of sf?\")]"
   ]
  },
  {
   "cell_type": "code",
   "execution_count": 47,
   "id": "12e544a0-34e5-498f-9d0c-10e577bbdb59",
   "metadata": {},
   "outputs": [],
   "source": [
    "thread = {\"configurable\": {\"thread_id\": \"1\"}}"
   ]
  },
  {
   "cell_type": "code",
   "execution_count": 48,
   "id": "d74ca7b8-7040-4b17-bcee-57cb5e6394e8",
   "metadata": {},
   "outputs": [
    {
     "name": "stdout",
     "output_type": "stream",
     "text": [
      "[AIMessage(content='', additional_kwargs={'tool_calls': [{'id': 'call_sHgdJRxtlQ3jY8xFyqjj7Jaf', 'function': {'arguments': '{\"query\":\"San Francisco weather today\"}', 'name': 'tavily_search_results_json'}, 'type': 'function'}], 'refusal': None}, response_metadata={'token_usage': {'completion_tokens': 22, 'prompt_tokens': 151, 'total_tokens': 173, 'completion_tokens_details': {'accepted_prediction_tokens': 0, 'audio_tokens': 0, 'reasoning_tokens': 0, 'rejected_prediction_tokens': 0}, 'prompt_tokens_details': {'audio_tokens': 0, 'cached_tokens': 0}}, 'model_name': 'gpt-4o-2024-08-06', 'system_fingerprint': 'fp_0d4eb8a50b', 'finish_reason': 'tool_calls', 'logprobs': None}, id='run-b2f30d11-8328-495b-b451-a1cf59b1db75-0', tool_calls=[{'name': 'tavily_search_results_json', 'args': {'query': 'San Francisco weather today'}, 'id': 'call_sHgdJRxtlQ3jY8xFyqjj7Jaf', 'type': 'tool_call'}], usage_metadata={'input_tokens': 151, 'output_tokens': 22, 'total_tokens': 173, 'input_token_details': {'audio': 0, 'cache_read': 0}, 'output_token_details': {'audio': 0, 'reasoning': 0}})]\n",
      "Calling: {'name': 'tavily_search_results_json', 'args': {'query': 'San Francisco weather today'}, 'id': 'call_sHgdJRxtlQ3jY8xFyqjj7Jaf', 'type': 'tool_call'}\n",
      "Back to the model!\n",
      "[ToolMessage(content='[{\\'url\\': \\'https://www.weatherapi.com/\\', \\'content\\': \"{\\'location\\': {\\'name\\': \\'San Francisco\\', \\'region\\': \\'California\\', \\'country\\': \\'United States of America\\', \\'lat\\': 37.775, \\'lon\\': -122.4183, \\'tz_id\\': \\'America/Los_Angeles\\', \\'localtime_epoch\\': 1741765692, \\'localtime\\': \\'2025-03-12 00:48\\'}, \\'current\\': {\\'last_updated_epoch\\': 1741765500, \\'last_updated\\': \\'2025-03-12 00:45\\', \\'temp_c\\': 13.3, \\'temp_f\\': 55.9, \\'is_day\\': 0, \\'condition\\': {\\'text\\': \\'Overcast\\', \\'icon\\': \\'//cdn.weatherapi.com/weather/64x64/night/122.png\\', \\'code\\': 1009}, \\'wind_mph\\': 10.1, \\'wind_kph\\': 16.2, \\'wind_degree\\': 181, \\'wind_dir\\': \\'S\\', \\'pressure_mb\\': 1011.0, \\'pressure_in\\': 29.85, \\'precip_mm\\': 0.0, \\'precip_in\\': 0.0, \\'humidity\\': 75, \\'cloud\\': 100, \\'feelslike_c\\': 11.9, \\'feelslike_f\\': 53.4, \\'windchill_c\\': 9.8, \\'windchill_f\\': 49.6, \\'heatindex_c\\': 11.2, \\'heatindex_f\\': 52.2, \\'dewpoint_c\\': 10.3, \\'dewpoint_f\\': 50.5, \\'vis_km\\': 16.0, \\'vis_miles\\': 9.0, \\'uv\\': 0.0, \\'gust_mph\\': 14.7, \\'gust_kph\\': 23.6}}\"}, {\\'url\\': \\'https://world-weather.info/forecast/usa/san_francisco/march-2025/\\', \\'content\\': \"Weather in San Francisco in March 2025 (California) - Detailed Weather Forecast for a Month Weather in San Francisco Weather in San Francisco in March 2025 San Francisco Weather Forecast for March 2025 is based on long term prognosis and previous years\\' statistical data. 1 +54°+52° 2 +54°+50° 3 +54°+50° 4 +54°+48° 5 +61°+46° +59°+50° +59°+50° +61°+50° +61°+52° +61°+52° +63°+52° +63°+52° +61°+52° +61°+52° +63°+54° +61°+52° +63°+50° +61°+52° +61°+52° +59°+52° +61°+52° +59°+50° +57°+50° +57°+50° +59°+50° +59°+50° +61°+52° +63°+52° +63°+54° +63°+52° +63°+54° Extended weather forecast in San Francisco HourlyWeek10-Day14-Day30-DayYear Weather in Washington, D.C.+32° Sacramento+55° Pleasanton+52° Redwood City+55° San Leandro+55° San Mateo+54° San Rafael+55° San Ramon+52° South San Francisco+54° Vallejo+54° Palo Alto+55° Pacifica+55° Berkeley+57° Castro Valley+54° Concord+54° Daly City+54° Lagunitas+55° world\\'s temperature today day day Temperature units\"}]', name='tavily_search_results_json', tool_call_id='call_sHgdJRxtlQ3jY8xFyqjj7Jaf')]\n",
      "[AIMessage(content='The current weather in San Francisco is overcast with a temperature of 13.3°C (55.9°F). The wind is coming from the south at 10.1 mph (16.2 kph). Humidity is at 75%, and visibility is 16.0 km (9.0 miles).', additional_kwargs={'refusal': None}, response_metadata={'token_usage': {'completion_tokens': 67, 'prompt_tokens': 980, 'total_tokens': 1047, 'completion_tokens_details': {'accepted_prediction_tokens': 0, 'audio_tokens': 0, 'reasoning_tokens': 0, 'rejected_prediction_tokens': 0}, 'prompt_tokens_details': {'audio_tokens': 0, 'cached_tokens': 0}}, 'model_name': 'gpt-4o-2024-08-06', 'system_fingerprint': 'fp_0d4eb8a50b', 'finish_reason': 'stop', 'logprobs': None}, id='run-0f6fafb4-e183-4448-8173-51d03f4c5f50-0', usage_metadata={'input_tokens': 980, 'output_tokens': 67, 'total_tokens': 1047, 'input_token_details': {'audio': 0, 'cache_read': 0}, 'output_token_details': {'audio': 0, 'reasoning': 0}})]\n"
     ]
    }
   ],
   "source": [
    "for event in abot.graph.stream({\"messages\": messages}, thread):\n",
    "    for v in event.values():\n",
    "        print(v['messages'])"
   ]
  },
  {
   "cell_type": "code",
   "execution_count": 51,
   "id": "9b4b303d-4203-46f4-84d8-11c043d34bc0",
   "metadata": {},
   "outputs": [],
   "source": [
    "thread = {\"configurable\": {\"thread_id\": \"1\"}}\n",
    "previous_state = memory.get(thread)"
   ]
  },
  {
   "cell_type": "code",
   "execution_count": 54,
   "id": "370a8814-6355-4c59-8b98-697ee327868d",
   "metadata": {},
   "outputs": [
    {
     "data": {
      "text/plain": [
       "[HumanMessage(content='What is the weather of sf?', additional_kwargs={}, response_metadata={}),\n",
       " AIMessage(content='', additional_kwargs={'tool_calls': [{'id': 'call_sHgdJRxtlQ3jY8xFyqjj7Jaf', 'function': {'arguments': '{\"query\":\"San Francisco weather today\"}', 'name': 'tavily_search_results_json'}, 'type': 'function'}], 'refusal': None}, response_metadata={'token_usage': {'completion_tokens': 22, 'prompt_tokens': 151, 'total_tokens': 173, 'completion_tokens_details': {'accepted_prediction_tokens': 0, 'audio_tokens': 0, 'reasoning_tokens': 0, 'rejected_prediction_tokens': 0}, 'prompt_tokens_details': {'audio_tokens': 0, 'cached_tokens': 0}}, 'model_name': 'gpt-4o-2024-08-06', 'system_fingerprint': 'fp_0d4eb8a50b', 'finish_reason': 'tool_calls', 'logprobs': None}, id='run-b2f30d11-8328-495b-b451-a1cf59b1db75-0', tool_calls=[{'name': 'tavily_search_results_json', 'args': {'query': 'San Francisco weather today'}, 'id': 'call_sHgdJRxtlQ3jY8xFyqjj7Jaf', 'type': 'tool_call'}], usage_metadata={'input_tokens': 151, 'output_tokens': 22, 'total_tokens': 173, 'input_token_details': {'audio': 0, 'cache_read': 0}, 'output_token_details': {'audio': 0, 'reasoning': 0}}),\n",
       " ToolMessage(content='[{\\'url\\': \\'https://www.weatherapi.com/\\', \\'content\\': \"{\\'location\\': {\\'name\\': \\'San Francisco\\', \\'region\\': \\'California\\', \\'country\\': \\'United States of America\\', \\'lat\\': 37.775, \\'lon\\': -122.4183, \\'tz_id\\': \\'America/Los_Angeles\\', \\'localtime_epoch\\': 1741765692, \\'localtime\\': \\'2025-03-12 00:48\\'}, \\'current\\': {\\'last_updated_epoch\\': 1741765500, \\'last_updated\\': \\'2025-03-12 00:45\\', \\'temp_c\\': 13.3, \\'temp_f\\': 55.9, \\'is_day\\': 0, \\'condition\\': {\\'text\\': \\'Overcast\\', \\'icon\\': \\'//cdn.weatherapi.com/weather/64x64/night/122.png\\', \\'code\\': 1009}, \\'wind_mph\\': 10.1, \\'wind_kph\\': 16.2, \\'wind_degree\\': 181, \\'wind_dir\\': \\'S\\', \\'pressure_mb\\': 1011.0, \\'pressure_in\\': 29.85, \\'precip_mm\\': 0.0, \\'precip_in\\': 0.0, \\'humidity\\': 75, \\'cloud\\': 100, \\'feelslike_c\\': 11.9, \\'feelslike_f\\': 53.4, \\'windchill_c\\': 9.8, \\'windchill_f\\': 49.6, \\'heatindex_c\\': 11.2, \\'heatindex_f\\': 52.2, \\'dewpoint_c\\': 10.3, \\'dewpoint_f\\': 50.5, \\'vis_km\\': 16.0, \\'vis_miles\\': 9.0, \\'uv\\': 0.0, \\'gust_mph\\': 14.7, \\'gust_kph\\': 23.6}}\"}, {\\'url\\': \\'https://world-weather.info/forecast/usa/san_francisco/march-2025/\\', \\'content\\': \"Weather in San Francisco in March 2025 (California) - Detailed Weather Forecast for a Month Weather in San Francisco Weather in San Francisco in March 2025 San Francisco Weather Forecast for March 2025 is based on long term prognosis and previous years\\' statistical data. 1 +54°+52° 2 +54°+50° 3 +54°+50° 4 +54°+48° 5 +61°+46° +59°+50° +59°+50° +61°+50° +61°+52° +61°+52° +63°+52° +63°+52° +61°+52° +61°+52° +63°+54° +61°+52° +63°+50° +61°+52° +61°+52° +59°+52° +61°+52° +59°+50° +57°+50° +57°+50° +59°+50° +59°+50° +61°+52° +63°+52° +63°+54° +63°+52° +63°+54° Extended weather forecast in San Francisco HourlyWeek10-Day14-Day30-DayYear Weather in Washington, D.C.+32° Sacramento+55° Pleasanton+52° Redwood City+55° San Leandro+55° San Mateo+54° San Rafael+55° San Ramon+52° South San Francisco+54° Vallejo+54° Palo Alto+55° Pacifica+55° Berkeley+57° Castro Valley+54° Concord+54° Daly City+54° Lagunitas+55° world\\'s temperature today day day Temperature units\"}]', name='tavily_search_results_json', tool_call_id='call_sHgdJRxtlQ3jY8xFyqjj7Jaf'),\n",
       " AIMessage(content='The current weather in San Francisco is overcast with a temperature of 13.3°C (55.9°F). The wind is coming from the south at 10.1 mph (16.2 kph). Humidity is at 75%, and visibility is 16.0 km (9.0 miles).', additional_kwargs={'refusal': None}, response_metadata={'token_usage': {'completion_tokens': 67, 'prompt_tokens': 980, 'total_tokens': 1047, 'completion_tokens_details': {'accepted_prediction_tokens': 0, 'audio_tokens': 0, 'reasoning_tokens': 0, 'rejected_prediction_tokens': 0}, 'prompt_tokens_details': {'audio_tokens': 0, 'cached_tokens': 0}}, 'model_name': 'gpt-4o-2024-08-06', 'system_fingerprint': 'fp_0d4eb8a50b', 'finish_reason': 'stop', 'logprobs': None}, id='run-0f6fafb4-e183-4448-8173-51d03f4c5f50-0', usage_metadata={'input_tokens': 980, 'output_tokens': 67, 'total_tokens': 1047, 'input_token_details': {'audio': 0, 'cache_read': 0}, 'output_token_details': {'audio': 0, 'reasoning': 0}})]"
      ]
     },
     "execution_count": 54,
     "metadata": {},
     "output_type": "execute_result"
    }
   ],
   "source": [
    "previous_state[\"channel_values\"][\"messages\"]"
   ]
  },
  {
   "cell_type": "code",
   "execution_count": null,
   "id": "e09f3e00-fc71-4187-a360-9551d4e720f2",
   "metadata": {},
   "outputs": [],
   "source": []
  }
 ],
 "metadata": {
  "kernelspec": {
   "display_name": "Python 3 (ipykernel)",
   "language": "python",
   "name": "python3"
  },
  "language_info": {
   "codemirror_mode": {
    "name": "ipython",
    "version": 3
   },
   "file_extension": ".py",
   "mimetype": "text/x-python",
   "name": "python",
   "nbconvert_exporter": "python",
   "pygments_lexer": "ipython3",
   "version": "3.11.0"
  }
 },
 "nbformat": 4,
 "nbformat_minor": 5
}
